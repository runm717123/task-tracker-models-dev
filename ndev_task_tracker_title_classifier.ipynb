{
  "cells": [
    {
      "cell_type": "code",
      "execution_count": 162,
      "metadata": {
        "colab": {
          "base_uri": "https://localhost:8080/"
        },
        "id": "_VGxoT5r_oDv",
        "outputId": "c092caad-2473-4128-c272-b0070a81d2d4"
      },
      "outputs": [
        {
          "output_type": "stream",
          "name": "stdout",
          "text": [
            "Drive already mounted at /content/drive; to attempt to forcibly remount, call drive.mount(\"/content/drive\", force_remount=True).\n"
          ]
        }
      ],
      "source": [
        "from google.colab import drive\n",
        "drive.mount('/content/drive')\n",
        "\n",
        "# you can obtain the model from https://www.kaggle.com/models/google/universal-sentence-encoder/tensorFlow1/lite\n",
        "# pick the Tensorflow1 lite version model"
      ]
    },
    {
      "cell_type": "code",
      "execution_count": 163,
      "metadata": {
        "id": "ZWCwN_S_bh0_"
      },
      "outputs": [],
      "source": [
        "import os\n",
        "\n",
        "# this is necessary for tensorflowjswizard\n",
        "os.environ[\"TF_USE_LEGACY_KERAS\"] = \"1\""
      ]
    },
    {
      "cell_type": "markdown",
      "metadata": {
        "id": "MajeDX0rDZ0p"
      },
      "source": [
        "# Import & Model load"
      ]
    },
    {
      "cell_type": "code",
      "execution_count": 164,
      "metadata": {
        "id": "sIJuwjgJCT0a"
      },
      "outputs": [],
      "source": [
        "use_model_path = '/content/drive/MyDrive/ndev-task-tracker/universal-sentence-encoder-tensorflow1-lite-v2'"
      ]
    },
    {
      "cell_type": "code",
      "execution_count": 165,
      "metadata": {
        "id": "d3c6kMfR-DXU"
      },
      "outputs": [],
      "source": [
        "import tensorflow as tf\n",
        "import tensorflow_hub as hub\n",
        "import numpy as np\n",
        "import sentencepiece as spm\n",
        "from sklearn.model_selection import train_test_split\n",
        "from tensorflow.keras.callbacks import EarlyStopping"
      ]
    },
    {
      "cell_type": "code",
      "execution_count": 166,
      "metadata": {
        "id": "RcIej57UViGc",
        "colab": {
          "base_uri": "https://localhost:8080/"
        },
        "outputId": "0e4dc8af-c3fd-4a93-efc7-7f0b0a3adf5e"
      },
      "outputs": [
        {
          "output_type": "stream",
          "name": "stdout",
          "text": [
            "2.18.0\n"
          ]
        }
      ],
      "source": [
        "print(tf.__version__)"
      ]
    },
    {
      "cell_type": "code",
      "execution_count": 167,
      "metadata": {
        "id": "3hrsnhhuPuui",
        "colab": {
          "base_uri": "https://localhost:8080/"
        },
        "outputId": "dddb65ed-f97f-4f4d-a8dd-343596922fd2"
      },
      "outputs": [
        {
          "output_type": "execute_result",
          "data": {
            "text/plain": [
              "True"
            ]
          },
          "metadata": {},
          "execution_count": 167
        }
      ],
      "source": [
        "embed = hub.load(use_model_path)\n",
        "sp = spm.SentencePieceProcessor()\n",
        "sp.load(f\"{use_model_path}/assets/universal_encoder_8k_spm.model\")"
      ]
    },
    {
      "cell_type": "markdown",
      "metadata": {
        "id": "XXs6-avADiJs"
      },
      "source": [
        "# Data Preparation"
      ]
    },
    {
      "cell_type": "code",
      "execution_count": 172,
      "metadata": {
        "id": "GAOMjZRqKDtt"
      },
      "outputs": [],
      "source": [
        "import os\n",
        "\n",
        "# NOTE: dataset size are not affecting the model size (explicitly)\n",
        "\n",
        "valid_title = [\n",
        "    \"project sprint 1\",\n",
        "    \"project sprint 5\",\n",
        "    \"project sprint 1.1\",\n",
        "    \"project sprint 5.1\",\n",
        "    \"taskhive dev\",\n",
        "    \"Prime.com Dev\",\n",
        "    \"ndev task tracker\",\n",
        "    \"spenicle v1\",\n",
        "    \"zenventory\",\n",
        "    \"flownest\",\n",
        "    \"contact app\",\n",
        "    \"property web app\",\n",
        "    \"pronews\",\n",
        "    \"project sprint 5 beta\",\n",
        "    \"project sprint 5 milestone\",\n",
        "    \"DataSync Sprint 24 - Planning\",\n",
        "    \"NotificationEngine v1.3 - Multi-Cloud Strategy\",\n",
        "    \"NotificationEngine v11.3 - Deployment cost optimization\"\n",
        "    \"NotificationEngine v2 - Mobile Push Implementation\",\n",
        "    \"AppEngine 3 - Base\",\n",
        "    \"AppEngine 3 - Dev\",\n",
        "    \"AppEngine 3 - Map Integration\",\n",
        "    \"NotificationEngine v2 - Mobile Push Implementation\",\n",
        "    \"glassdoor app - seo improvement\",\n",
        "    \"glassdoor - Base\",\n",
        "    \"glassdoor app - Dev\",\n",
        "    \"glassdoor - Map Integration\",\n",
        "]\n",
        "\n",
        "meetings = [\n",
        "    \"project backlog refinement\",\n",
        "    \"planning sprint\",\n",
        "    \"technical debt sprint planning\"\n",
        "    \"sprint retrospective session\",\n",
        "    \"designing system architecture\",\n",
        "    \"project discussion\",\n",
        "    \"soda\",\n",
        "    \"1:1 with manager\",\n",
        "    \"attending a meeting\",\n",
        "    \"developer catchup\",\n",
        "    \"daily standup\",\n",
        "    \"daily meeting\",\n",
        "    \"internal meeting\",\n",
        "    \"running daily standup\",\n",
        "    \"meeting with mr colleague\",\n",
        "    \"meet with mrs jane\",\n",
        "    \"daily scrum meeting\",\n",
        "    \"brainstorming session\",\n",
        "    \"weekly sync up\",\n",
        "    \"In-person daily meeting\",\n",
        "    \"team meeting\",\n",
        "    \"client meeting\",\n",
        "    \"client call\",\n",
        "    \"client feedback discussion\",\n",
        "    \"client introduction\",\n",
        "    \"lunch with client\",\n",
        "    \"one on one with client\",\n",
        "    \"call with client\",\n",
        "    \"quarterly review\",\n",
        "    \"stand-up meeting\",\n",
        "    \"sync meeting\",\n",
        "    \"discussion with the team\",\n",
        "    \"meeting with stakeholders\",\n",
        "    \"project review meeting\",\n",
        "    \"technical discussion\",\n",
        "    \"design review meeting\",\n",
        "    \"planning meeting for next quarter\",\n",
        "    \"client demo session\",\n",
        "    \"internal team sync\",\n",
        "    \"meeting with product manager\",\n",
        "    \"daily huddle\",\n",
        "    \"weekly planning session\",\n",
        "    \"weekly progress demo\",\n",
        "    \"progress demonstration\",\n",
        "    \"Team - Junior Developer Mentoring\",\n",
        "    \"Team - Tech Leadership Sync\",\n",
        "    \"Team - Technical Interview\",\n",
        "    \"Team - Q3 Roadmap Presentation\",\n",
        "    \"Team - Tech Talk Organization\",\n",
        "    \"Team Mentoring Session\",\n",
        "    \"Emerging Tech Evaluation Workshop\",\n",
        "    \"Technical Mentorship Program\",\n",
        "    \"discussing roadmap\",\n",
        "    \"discussing project roadmap\",\n",
        "]\n",
        "\n",
        "# task that the result, is not known immediately by the user\n",
        "background_task = [\n",
        "    \"Test backup and recovery systems\",\n",
        "    \"setting up ci/cd\",\n",
        "    \"configuring docker\",\n",
        "    \"writing api spec\",\n",
        "    \"deploying app\",\n",
        "    \"app deployment\",\n",
        "    \"refactoring code\",\n",
        "    \"writing documentation\",\n",
        "    \"Create and document engineering standards and guidelines\",\n",
        "    \"resolving merge conflicts\",\n",
        "    \"committing changes\",\n",
        "    \"optimizing database\",\n",
        "    \"setting up continuous integration and deployment pipelines\",\n",
        "    \"docker container configuration\",\n",
        "    \"api contract documentation\",\n",
        "    \"application deployment to production\",\n",
        "    \"codebase refactoring\",\n",
        "    \"technical documentation creation\",\n",
        "    \"resolving git merge conflicts\",\n",
        "    \"pushing code to remote repository\",\n",
        "    \"committing code changes\",\n",
        "    \"project backlog grooming\",\n",
        "    \"configuring build automation\",\n",
        "    \"writing user guides\",\n",
        "    \"resolving version control conflicts\",\n",
        "    \"deploying a new service\",\n",
        "    \"improving database query performance\",\n",
        "    \"Implement preventive measures\",\n",
        "    \"reduce app bundle size\",\n",
        "    \"review apps bundle size\",\n",
        "    \"writing comprehensive unit tests for a module\",\n",
        "    \"investigating and fixing a memory leak issue\",\n",
        "    \"investigating and fixing memory issues in frontend components\",\n",
        "    \"writing unit tests\",\n",
        "    \"works on error tracking implementation\",\n",
        "    \"developing a reusable component for a new page\",\n",
        "    \"ensure all the component are reusable\",\n",
        "    \"ensure the component are easily sharable\",\n",
        "    \"works on data migration scripts\",\n",
        "    \"updating technical specifications\",\n",
        "    \"updating design specifications\",\n",
        "    \"addressing static analysis warnings\",\n",
        "    \"Ensure GDPR and SOC2 compliance in new features\",\n",
        "    \"fixing linter issues\",\n",
        "    \"updating documentation\",\n",
        "]\n",
        "\n",
        "# task that usually not have a ticket, but we do that to improve the app anyway\n",
        "general_tasks = [\n",
        "    \"writing code\",\n",
        "    \"fixing bugs\",\n",
        "    \"reviewing prs\",\n",
        "    \"managing backlog\",\n",
        "    \"managing tickets\",\n",
        "    \"monitor app usage tracking\",\n",
        "    \"monitor user behaviour\",\n",
        "    \"monitor app traffic\",\n",
        "    \"Research emerging technologies\",\n",
        "    \"conducting technical research\",\n",
        "    \"Review microservices architecture design\",\n",
        "    \"reviewing code\",\n",
        "    \"Review and update business continuity procedures\",\n",
        "    \"pair programming\",\n",
        "    \"resolving bugs\",\n",
        "    \"preparing presentation\",\n",
        "    \"presenting updates\",\n",
        "    \"collaborating on design\",\n",
        "    \"writing proposal\",\n",
        "    \"self explore\",\n",
        "    \"self research\",\n",
        "    \"research and found issue with memory optimization in react components\",\n",
        "    \"bug research\",\n",
        "    \"debugging application errors\",\n",
        "    \"conducting code reviews\",\n",
        "    \"help teammates's work\",\n",
        "    \"creating slides for presentation\",\n",
        "    \"providing project updates\",\n",
        "    \"collaborating on system design\",\n",
        "    \"writing a technical proposal\",\n",
        "    \"exploring new technologies for a project\",\n",
        "    \"researching software bugs\",\n",
        "    \"debugging memory leak\",\n",
        "    \"benchmarking app\",\n",
        "    \"conducting performance benchmarking for the application\",\n",
        "    \"investigating memory issues in frontend components\",\n",
        "    \"investigating a memory leak issue\",\n",
        "    \"investigate calendar component issue\",\n",
        "    \"Analyze team velocity and plan resource allocation\",\n",
        "]\n",
        "\n",
        "general_activities = [\n",
        "    \"afternoon prayer\",\n",
        "    \"watching a movie\",\n",
        "    \"playing games\",\n",
        "    \"eating out\",\n",
        "    \"scrolling tiktok\",\n",
        "    \"cooking dinner\",\n",
        "    \"taking a nap\",\n",
        "    \"chatting with friends\",\n",
        "    \"binge-watching netflix\",\n",
        "    \"reading a novel\",\n",
        "    \"doing laundry\",\n",
        "    \"shopping online\",\n",
        "    \"going to the mall\",\n",
        "    \"napping\",\n",
        "    \"watching youtube\",\n",
        "    \"cleaning room\",\n",
        "    \"going for a walk\",\n",
        "    \"checking social media\",\n",
        "    \"ordering food\",\n",
        "    \"scrolling instagram\",\n",
        "    \"taking a break\",\n",
        "    \"technical training\",\n",
        "    \"english class\",\n",
        "    \"compliance training session\",\n",
        "    \"web development security training\",\n",
        "    \"training assesment\",\n",
        "    \"prayer time in the afternoon\",\n",
        "    \"watching a film for leisure\",\n",
        "    \"playing video games for relaxation\",\n",
        "    \"dining at a restaurant\",\n",
        "    \"browsing short videos on tiktok\",\n",
        "    \"preparing a meal for dinner\",\n",
        "    \"taking a short rest\",\n",
        "    \"talking with colleagues informally\",\n",
        "    \"watching multiple episodes on netflix\",\n",
        "    \"reading a fiction book\",\n",
        "    \"doing the weekly laundry\",\n",
        "    \"purchasing items online\",\n",
        "    \"visiting a shopping mall\",\n",
        "    \"getting some sleep\",\n",
        "    \"watching videos on youtube for entertainment\",\n",
        "    \"tidying up the living space\",\n",
        "    \"going for a short walk outside\",\n",
        "    \"checking updates on social media platforms\",\n",
        "    \"ordering food for delivery\",\n",
        "    \"browsing photos and videos on instagram\",\n",
        "    \"taking a short pause from work\",\n",
        "    \"attending a technical skill building session\",\n",
        "    \"participating in an English language course\",\n",
        "    \"completing mandatory compliance training\",\n",
        "    \"attending a web security workshop\",\n",
        "    \"undergoing a training evaluation\"\n",
        "]\n",
        "\n",
        "# can be useful when no valid_title detected\n",
        "# this is a task title that not representing any specific project/client\n",
        "# usually task that the effect can be known by the user immediately (opposite of background task)\n",
        "project_tasks = [\n",
        "    \"working on a new ui design\",\n",
        "    \"create new component for new page\",\n",
        "    \"resolve feedback: update the formatData approach\",\n",
        "    \"resolve feedback from mr. xxx\",\n",
        "    \"working on a new feature\",\n",
        "    \"working on the new drawer\",\n",
        "    \"adjust the page gdpr message\",\n",
        "    \"handle form submit behaviour\",\n",
        "    \"works on progressive web app features\",\n",
        "    \"works on user interface improvements\",\n",
        "    \"works on mobile responsive design\",\n",
        "    \"designing a new user interface for the application\",\n",
        "    \"addressing feedback on the data formatting logic\",\n",
        "    \"implementing changes based on feedback from a team member\",\n",
        "    \"building a new feature based on requirements\",\n",
        "    \"working on the implementation of a new navigation drawer\",\n",
        "    \"modifying the gdpr consent message displayed on the page\",\n",
        "    \"implementing the logic for form submission and validation\",\n",
        "    \"works on analytics dashboard\",\n",
        "    \"Organize tech talk series and knowledge sharing initiatives\",\n",
        "    \"Review data retention policies\",\n",
        "    \"Cost-benefit analysis for service migration\",\n",
        "    \"Lead incident response and post-mortem analysis\",\n",
        "    \"Define technology roadmap for next 18 months\",\n",
        "    \"Evaluate microservices vs monolith trade-offs\",\n",
        "    \"Design unified architecture\",\n",
        "    \"database performance optimization\",\n",
        "    \"Distributed Systems Optimization\",\n",
        "    \"App Infrastructure Optimization\",\n",
        "    \"Edge Computing Architecture\",\n",
        "    \"Cloud Native Transformation\",\n",
        "    \"Platform Scalability Engineering\",\n",
        "    \"Advanced Database Architecture\",\n",
        "    \"Engineering Culture Evolution\",\n",
        "    \"Future Technology Roadmap\",\n",
        "    \"Technical Advisory Role\",\n",
        "    \"Technical Thought Leadership\",\n",
        "    \"Technology Patent Strategy\",\n",
        "    \"Technical Communication Strategy\",\n",
        "    \"Technical Excellence Program\",\n",
        "    \"AI Integration Strategy\",\n",
        "    \"Developer Experience Enhancement\",\n",
        "    \"Technical Debt Strategy Summit\",\n",
        "    \"Technology Risk Assessment\",\n",
        "]\n",
        "\n",
        "dataset_dict = {\n",
        "    \"valid_title\": valid_title,\n",
        "    \"background_task\": background_task,\n",
        "    \"meetings\": meetings,\n",
        "    \"general_tasks\": general_tasks,\n",
        "    \"general_activities\": general_activities,\n",
        "    \"project_tasks\": project_tasks,\n",
        "}"
      ]
    },
    {
      "cell_type": "markdown",
      "metadata": {
        "id": "exzc1Y5KPNPf"
      },
      "source": [
        "## Back-translation\n",
        "\n",
        "english -> france -> english\n",
        "\n",
        "warning: this section can take long time\n",
        "\n",
        "this is not required to run, as the original dataset is quite sufficient"
      ]
    },
    {
      "cell_type": "code",
      "execution_count": null,
      "metadata": {
        "id": "xVtr9mqiO6BJ"
      },
      "outputs": [],
      "source": [
        "from transformers import MarianMTModel, MarianTokenizer\n",
        "\n",
        "# Load models for English → French and French → English\n",
        "en_to_fr_tokenizer = MarianTokenizer.from_pretrained(\"Helsinki-NLP/opus-mt-en-fr\")\n",
        "en_to_fr_model = MarianMTModel.from_pretrained(\"Helsinki-NLP/opus-mt-en-fr\")\n",
        "\n",
        "fr_to_en_tokenizer = MarianTokenizer.from_pretrained(\"Helsinki-NLP/opus-mt-fr-en\")\n",
        "fr_to_en_model = MarianMTModel.from_pretrained(\"Helsinki-NLP/opus-mt-fr-en\")\n"
      ]
    },
    {
      "cell_type": "code",
      "execution_count": null,
      "metadata": {
        "id": "DpFtTtSJSTQg"
      },
      "outputs": [],
      "source": [
        "def translate(text, tokenizer, model):\n",
        "    inputs = tokenizer.encode(text, return_tensors=\"pt\")\n",
        "    outputs = model.generate(inputs, max_length=64, num_beams=4, early_stopping=True)\n",
        "    return tokenizer.decode(outputs[0], skip_special_tokens=True)\n",
        "\n",
        "def back_translate(text):\n",
        "    \"\"\"\n",
        "    Performs back-translation from English to French and then back to English.\n",
        "\n",
        "    Returns:\n",
        "        str: The back-translated English text.\n",
        "    \"\"\"\n",
        "    fr_text = translate(text, en_to_fr_tokenizer, en_to_fr_model)\n",
        "    back_to_en = translate(fr_text, fr_to_en_tokenizer, fr_to_en_model)\n",
        "    return back_to_en"
      ]
    },
    {
      "cell_type": "code",
      "execution_count": null,
      "metadata": {
        "collapsed": true,
        "id": "457e0075-4d2b-47b3-85a2-19f7993cfc79"
      },
      "outputs": [],
      "source": [
        "background_task_bt = []\n",
        "meetings_bt = []\n",
        "general_tasks_bt = []\n",
        "general_activities_bt = []\n",
        "project_tasks_bt = []\n",
        "\n",
        "# Back-translate sentences for each category (excluding valid_title)\n",
        "for sentence in background_task:\n",
        "    background_task_bt.append(back_translate(sentence))\n",
        "\n",
        "for sentence in meetings:\n",
        "    meetings_bt.append(back_translate(sentence))\n",
        "\n",
        "for sentence in general_tasks:\n",
        "    general_tasks_bt.append(back_translate(sentence))\n",
        "\n",
        "for sentence in general_activities:\n",
        "    general_activities_bt.append(back_translate(sentence))\n",
        "\n",
        "for sentence in project_tasks:\n",
        "    project_tasks_bt.append(back_translate(sentence))\n",
        "\n",
        "\n",
        "print(\"Back-translated background_tasks:\", background_task_bt[:5])\n",
        "print(\"Back-translated meetings:\", meetings_bt[:5])\n",
        "print(\"Back-translated general_tasks:\", general_tasks_bt[:5])\n",
        "print(\"Back-translated general_activities:\", general_activities_bt[:5])\n",
        "print(\"Back-translated project_tasks:\", project_tasks_bt[:5])"
      ]
    },
    {
      "cell_type": "code",
      "execution_count": null,
      "metadata": {
        "id": "iwi2GJmXVOQM"
      },
      "outputs": [],
      "source": [
        "import pickle\n",
        "\n",
        "# Create a dictionary to store the back-translated data\n",
        "back_translated_data_dict = {\n",
        "    \"background_task_bt\": background_task_bt,\n",
        "    \"meetings_bt\": meetings_bt,\n",
        "    \"general_tasks_bt\": general_tasks_bt,\n",
        "    \"general_activities_bt\": general_activities_bt,\n",
        "    \"project_tasks_bt\": project_tasks_bt\n",
        "}\n",
        "\n",
        "# Define the filename for the pickle file\n",
        "pickle_filename = \"back_translated_data.pkl\"\n",
        "\n",
        "# Save the dictionary to a pickle file\n",
        "with open(pickle_filename, 'wb') as f:\n",
        "    pickle.dump(back_translated_data_dict, f)\n",
        "\n",
        "print(f\"Back-translated data saved to {pickle_filename}\")"
      ]
    },
    {
      "cell_type": "markdown",
      "metadata": {
        "id": "KCbp3tfEDsH3"
      },
      "source": [
        "## Preprocessing"
      ]
    },
    {
      "cell_type": "code",
      "execution_count": 173,
      "metadata": {
        "id": "vWJ2hnRDD3l-"
      },
      "outputs": [],
      "source": [
        "embed_fn = embed.signatures[\"default\"]"
      ]
    },
    {
      "cell_type": "code",
      "execution_count": 174,
      "metadata": {
        "id": "5LIS6TavFrT4"
      },
      "outputs": [],
      "source": [
        "# USE Lite is designed to be smaller and mobile/web-friendly, so it does not contain its own tokenizer.\n",
        "# because the embed_fn signature of the Universal Sentence Encoder Lite model you loaded expects the input in this sparse format. If you tried to pass a dense tensor or just a list of token IDs directly, the model would likely throw an error.\n",
        "\n",
        "def to_sparse(sentences):\n",
        "    # Encode sentences to list of token ids\n",
        "    ids = [sp.encode(s) for s in sentences]\n",
        "\n",
        "    # Create values and indices for SparseTensor\n",
        "    values = [token for sent in ids for token in sent]\n",
        "    indices = [[i, j] for i, sent in enumerate(ids) for j in range(len(sent))]\n",
        "    dense_shape = [len(ids), max(len(sent) for sent in ids)]\n",
        "\n",
        "    # Convert to required tensors\n",
        "    return {\n",
        "        \"values\": tf.constant(values, dtype=tf.int64),\n",
        "        \"indices\": tf.constant(indices, dtype=tf.int64),\n",
        "        \"dense_shape\": tf.constant(dense_shape, dtype=tf.int64),\n",
        "    }\n"
      ]
    },
    {
      "cell_type": "code",
      "execution_count": 175,
      "metadata": {
        "colab": {
          "base_uri": "https://localhost:8080/"
        },
        "id": "jQVs5h4E_4o2",
        "outputId": "d2d65298-5ba3-409a-c517-e157ae589b01"
      },
      "outputs": [
        {
          "output_type": "stream",
          "name": "stdout",
          "text": [
            "You have  259 data points\n"
          ]
        }
      ],
      "source": [
        "# for evaluation\n",
        "class_names = [\n",
        "    \"valid_title\",\n",
        "    \"background_task\",\n",
        "    \"meetings\",\n",
        "    \"general_tasks\",\n",
        "    \"general_activities\",\n",
        "    \"project_tasks\",\n",
        "]\n",
        "\n",
        "categories = [\n",
        "    valid_title,\n",
        "    background_task,\n",
        "    meetings,\n",
        "    general_tasks,\n",
        "    general_activities,\n",
        "    project_tasks\n",
        "]\n",
        "\n",
        "raw_data = [(item.lower(), label) for label, category in enumerate(categories) for item in category]\n",
        "\n",
        "print('You have ', len(raw_data), 'data points')"
      ]
    },
    {
      "cell_type": "code",
      "execution_count": 176,
      "metadata": {
        "colab": {
          "base_uri": "https://localhost:8080/"
        },
        "id": "FzTSb0KxA5D4",
        "outputId": "6d9672e5-58f5-445d-b7b6-62a52909e82f"
      },
      "outputs": [
        {
          "output_type": "stream",
          "name": "stdout",
          "text": [
            "First 5 sentences: ['project sprint 1' 'project sprint 5' 'project sprint 1.1'\n",
            " 'project sprint 5.1' 'taskhive dev']\n",
            "First 5 labels: [0 0 0 0 0]\n"
          ]
        }
      ],
      "source": [
        "sentences = []\n",
        "labels = []\n",
        "\n",
        "for sentence, label in raw_data:\n",
        "    sentences.append(sentence.lower())\n",
        "    labels.append(label)\n",
        "\n",
        "sentences = np.array(sentences)\n",
        "labels = np.array(labels)\n",
        "\n",
        "# Display the first few elements to verify\n",
        "print(f\"First 5 sentences: {sentences[:5]}\")\n",
        "print(f\"First 5 labels: {labels[:5]}\")"
      ]
    },
    {
      "cell_type": "code",
      "execution_count": 177,
      "metadata": {
        "id": "bBSB-3KmHrmJ"
      },
      "outputs": [],
      "source": [
        "sparse_input = to_sparse(sentences)\n",
        "embeddings = embed_fn(**sparse_input)['default']"
      ]
    },
    {
      "cell_type": "markdown",
      "metadata": {
        "id": "Xo_2hR-cMxXU"
      },
      "source": [
        "## Data splitting"
      ]
    },
    {
      "cell_type": "code",
      "execution_count": 178,
      "metadata": {
        "colab": {
          "base_uri": "https://localhost:8080/"
        },
        "id": "6Y9VikDolr5W",
        "outputId": "a7aaecf6-3b2f-4ef8-dc13-ec460d2ddb9f"
      },
      "outputs": [
        {
          "output_type": "stream",
          "name": "stdout",
          "text": [
            "233 26\n"
          ]
        }
      ],
      "source": [
        "x_train, x_test, y_train, y_test = train_test_split(\n",
        "    embeddings.numpy(), labels, test_size=0.1, stratify=labels, random_state=7\n",
        ")\n",
        "\n",
        "print(len(x_train), len(x_test))"
      ]
    },
    {
      "cell_type": "code",
      "execution_count": 179,
      "metadata": {
        "colab": {
          "base_uri": "https://localhost:8080/"
        },
        "id": "bpEcKwnsssYf",
        "outputId": "08bc76dc-d969-4db8-f672-f0bb4e0235e5"
      },
      "outputs": [
        {
          "output_type": "stream",
          "name": "stdout",
          "text": [
            "Distribution of classes in y_val:\n",
            "Class general_tasks: 4\n",
            "Class project_tasks: 4\n",
            "Class valid_title: 3\n",
            "Class general_activities: 5\n",
            "Class background_task: 5\n",
            "Class meetings: 5\n"
          ]
        }
      ],
      "source": [
        "import collections\n",
        "\n",
        "# Check if y_val have proper distribution\n",
        "y_val_counts = collections.Counter(y_test)\n",
        "\n",
        "# Print the counts for each class\n",
        "print(\"Distribution of classes in y_val:\")\n",
        "for label, count in y_val_counts.items():\n",
        "    print(f\"Class {class_names[label]}: {count}\")"
      ]
    },
    {
      "cell_type": "markdown",
      "metadata": {
        "id": "3cfTuLNsOJQa"
      },
      "source": [
        "## prod setup"
      ]
    },
    {
      "cell_type": "code",
      "execution_count": 180,
      "metadata": {
        "colab": {
          "base_uri": "https://localhost:8080/"
        },
        "id": "o7iyj6jWODi5",
        "outputId": "04ff2360-99f7-4092-eee5-66ad12aa3b2b"
      },
      "outputs": [
        {
          "output_type": "execute_result",
          "data": {
            "text/plain": [
              "259"
            ]
          },
          "metadata": {},
          "execution_count": 180
        }
      ],
      "source": [
        "# combine all dataset for final result\n",
        "\n",
        "x_train = np.concatenate((x_train, x_test), axis=0)\n",
        "y_train = np.concatenate((y_train, y_test), axis=0)\n",
        "len(x_train)"
      ]
    },
    {
      "cell_type": "code",
      "execution_count": 181,
      "metadata": {
        "id": "iB7nYpmno91g"
      },
      "outputs": [],
      "source": [
        "x_train = tf.math.l2_normalize(x_train, axis=1)"
      ]
    },
    {
      "cell_type": "markdown",
      "metadata": {
        "id": "1RtrjQS7D4FN"
      },
      "source": [
        "# Training"
      ]
    },
    {
      "cell_type": "code",
      "execution_count": 182,
      "metadata": {
        "colab": {
          "base_uri": "https://localhost:8080/"
        },
        "collapsed": true,
        "id": "p4-2xXAJ-RBb",
        "outputId": "3e4a53a5-d9a8-44e3-ce27-f5a9f1a8a3d7"
      },
      "outputs": [
        {
          "output_type": "stream",
          "name": "stdout",
          "text": [
            "Epoch 1/200\n",
            "7/7 [==============================] - 1s 33ms/step - loss: 1.7910 - accuracy: 0.1256 - val_loss: 1.7789 - val_accuracy: 0.2692\n",
            "Epoch 2/200\n",
            "7/7 [==============================] - 0s 10ms/step - loss: 1.7740 - accuracy: 0.1981 - val_loss: 1.7684 - val_accuracy: 0.4231\n",
            "Epoch 3/200\n",
            "7/7 [==============================] - 0s 10ms/step - loss: 1.7606 - accuracy: 0.3043 - val_loss: 1.7570 - val_accuracy: 0.4615\n",
            "Epoch 4/200\n",
            "7/7 [==============================] - 0s 7ms/step - loss: 1.7406 - accuracy: 0.3527 - val_loss: 1.7425 - val_accuracy: 0.4231\n",
            "Epoch 5/200\n",
            "7/7 [==============================] - 0s 7ms/step - loss: 1.7184 - accuracy: 0.4396 - val_loss: 1.7230 - val_accuracy: 0.4231\n",
            "Epoch 6/200\n",
            "7/7 [==============================] - 0s 7ms/step - loss: 1.7067 - accuracy: 0.4058 - val_loss: 1.7006 - val_accuracy: 0.4615\n",
            "Epoch 7/200\n",
            "7/7 [==============================] - 0s 10ms/step - loss: 1.6899 - accuracy: 0.4251 - val_loss: 1.6779 - val_accuracy: 0.4615\n",
            "Epoch 8/200\n",
            "7/7 [==============================] - 0s 8ms/step - loss: 1.6579 - accuracy: 0.4348 - val_loss: 1.6552 - val_accuracy: 0.4808\n",
            "Epoch 9/200\n",
            "7/7 [==============================] - 0s 7ms/step - loss: 1.6259 - accuracy: 0.5072 - val_loss: 1.6318 - val_accuracy: 0.4615\n",
            "Epoch 10/200\n",
            "7/7 [==============================] - 0s 7ms/step - loss: 1.6026 - accuracy: 0.5072 - val_loss: 1.6061 - val_accuracy: 0.5577\n",
            "Epoch 11/200\n",
            "7/7 [==============================] - 0s 7ms/step - loss: 1.5833 - accuracy: 0.5169 - val_loss: 1.5807 - val_accuracy: 0.6154\n",
            "Epoch 12/200\n",
            "7/7 [==============================] - 0s 10ms/step - loss: 1.5532 - accuracy: 0.5845 - val_loss: 1.5579 - val_accuracy: 0.5962\n",
            "Epoch 13/200\n",
            "7/7 [==============================] - 0s 10ms/step - loss: 1.5122 - accuracy: 0.5749 - val_loss: 1.5311 - val_accuracy: 0.6346\n",
            "Epoch 14/200\n",
            "7/7 [==============================] - 0s 10ms/step - loss: 1.5162 - accuracy: 0.5749 - val_loss: 1.5067 - val_accuracy: 0.6346\n",
            "Epoch 15/200\n",
            "7/7 [==============================] - 0s 11ms/step - loss: 1.4894 - accuracy: 0.5556 - val_loss: 1.4833 - val_accuracy: 0.6346\n",
            "Epoch 16/200\n",
            "7/7 [==============================] - 0s 7ms/step - loss: 1.4366 - accuracy: 0.5845 - val_loss: 1.4578 - val_accuracy: 0.6154\n",
            "Epoch 17/200\n",
            "7/7 [==============================] - 0s 8ms/step - loss: 1.4253 - accuracy: 0.5604 - val_loss: 1.4341 - val_accuracy: 0.6154\n",
            "Epoch 18/200\n",
            "7/7 [==============================] - 0s 7ms/step - loss: 1.4108 - accuracy: 0.5797 - val_loss: 1.4101 - val_accuracy: 0.5962\n",
            "Epoch 19/200\n",
            "7/7 [==============================] - 0s 10ms/step - loss: 1.4129 - accuracy: 0.5314 - val_loss: 1.3881 - val_accuracy: 0.5962\n",
            "Epoch 20/200\n",
            "7/7 [==============================] - 0s 10ms/step - loss: 1.3575 - accuracy: 0.5845 - val_loss: 1.3661 - val_accuracy: 0.6346\n",
            "Epoch 21/200\n",
            "7/7 [==============================] - 0s 10ms/step - loss: 1.3441 - accuracy: 0.6135 - val_loss: 1.3467 - val_accuracy: 0.6346\n",
            "Epoch 22/200\n",
            "7/7 [==============================] - 0s 7ms/step - loss: 1.3377 - accuracy: 0.5990 - val_loss: 1.3260 - val_accuracy: 0.6538\n",
            "Epoch 23/200\n",
            "7/7 [==============================] - 0s 7ms/step - loss: 1.2990 - accuracy: 0.5942 - val_loss: 1.3060 - val_accuracy: 0.6731\n",
            "Epoch 24/200\n",
            "7/7 [==============================] - 0s 7ms/step - loss: 1.2858 - accuracy: 0.6039 - val_loss: 1.2869 - val_accuracy: 0.6731\n",
            "Epoch 25/200\n",
            "7/7 [==============================] - 0s 10ms/step - loss: 1.2353 - accuracy: 0.6618 - val_loss: 1.2678 - val_accuracy: 0.6923\n",
            "Epoch 26/200\n",
            "7/7 [==============================] - 0s 7ms/step - loss: 1.2340 - accuracy: 0.6473 - val_loss: 1.2450 - val_accuracy: 0.6923\n",
            "Epoch 27/200\n",
            "7/7 [==============================] - 0s 7ms/step - loss: 1.2104 - accuracy: 0.6280 - val_loss: 1.2231 - val_accuracy: 0.6923\n",
            "Epoch 28/200\n",
            "7/7 [==============================] - 0s 10ms/step - loss: 1.1665 - accuracy: 0.7005 - val_loss: 1.2049 - val_accuracy: 0.6923\n",
            "Epoch 29/200\n",
            "7/7 [==============================] - 0s 13ms/step - loss: 1.1810 - accuracy: 0.6473 - val_loss: 1.1873 - val_accuracy: 0.6923\n",
            "Epoch 30/200\n",
            "7/7 [==============================] - 0s 11ms/step - loss: 1.1673 - accuracy: 0.6715 - val_loss: 1.1696 - val_accuracy: 0.6923\n",
            "Epoch 31/200\n",
            "7/7 [==============================] - 0s 7ms/step - loss: 1.1427 - accuracy: 0.6618 - val_loss: 1.1539 - val_accuracy: 0.6923\n",
            "Epoch 32/200\n",
            "7/7 [==============================] - 0s 11ms/step - loss: 1.1413 - accuracy: 0.6908 - val_loss: 1.1366 - val_accuracy: 0.6923\n",
            "Epoch 33/200\n",
            "7/7 [==============================] - 0s 11ms/step - loss: 1.1084 - accuracy: 0.7005 - val_loss: 1.1199 - val_accuracy: 0.6923\n",
            "Epoch 34/200\n",
            "7/7 [==============================] - 0s 8ms/step - loss: 1.0939 - accuracy: 0.6908 - val_loss: 1.1039 - val_accuracy: 0.6923\n",
            "Epoch 35/200\n",
            "7/7 [==============================] - 0s 7ms/step - loss: 1.0422 - accuracy: 0.6908 - val_loss: 1.0882 - val_accuracy: 0.6923\n",
            "Epoch 36/200\n",
            "7/7 [==============================] - 0s 7ms/step - loss: 1.0691 - accuracy: 0.7150 - val_loss: 1.0744 - val_accuracy: 0.6923\n",
            "Epoch 37/200\n",
            "7/7 [==============================] - 0s 7ms/step - loss: 1.0573 - accuracy: 0.6763 - val_loss: 1.0629 - val_accuracy: 0.7115\n",
            "Epoch 38/200\n",
            "7/7 [==============================] - 0s 10ms/step - loss: 1.0225 - accuracy: 0.7053 - val_loss: 1.0525 - val_accuracy: 0.7115\n",
            "Epoch 39/200\n",
            "7/7 [==============================] - 0s 10ms/step - loss: 1.0151 - accuracy: 0.6860 - val_loss: 1.0393 - val_accuracy: 0.7115\n",
            "Epoch 40/200\n",
            "7/7 [==============================] - 0s 10ms/step - loss: 1.0203 - accuracy: 0.6763 - val_loss: 1.0261 - val_accuracy: 0.6923\n",
            "Epoch 41/200\n",
            "7/7 [==============================] - 0s 7ms/step - loss: 0.9853 - accuracy: 0.6908 - val_loss: 1.0148 - val_accuracy: 0.6923\n",
            "Epoch 42/200\n",
            "7/7 [==============================] - 0s 10ms/step - loss: 0.9859 - accuracy: 0.7053 - val_loss: 1.0038 - val_accuracy: 0.6923\n",
            "Epoch 43/200\n",
            "7/7 [==============================] - 0s 7ms/step - loss: 0.9619 - accuracy: 0.7440 - val_loss: 0.9912 - val_accuracy: 0.6923\n",
            "Epoch 44/200\n",
            "7/7 [==============================] - 0s 7ms/step - loss: 0.9575 - accuracy: 0.7150 - val_loss: 0.9804 - val_accuracy: 0.6923\n",
            "Epoch 45/200\n",
            "7/7 [==============================] - 0s 7ms/step - loss: 0.9348 - accuracy: 0.7053 - val_loss: 0.9698 - val_accuracy: 0.6731\n",
            "Epoch 46/200\n",
            "7/7 [==============================] - 0s 10ms/step - loss: 0.9612 - accuracy: 0.6522 - val_loss: 0.9608 - val_accuracy: 0.6731\n",
            "Epoch 47/200\n",
            "7/7 [==============================] - 0s 10ms/step - loss: 0.9168 - accuracy: 0.6908 - val_loss: 0.9503 - val_accuracy: 0.6923\n",
            "Epoch 48/200\n",
            "7/7 [==============================] - 0s 11ms/step - loss: 0.9532 - accuracy: 0.6763 - val_loss: 0.9395 - val_accuracy: 0.6923\n",
            "Epoch 49/200\n",
            "7/7 [==============================] - 0s 8ms/step - loss: 0.9292 - accuracy: 0.6957 - val_loss: 0.9316 - val_accuracy: 0.6923\n",
            "Epoch 50/200\n",
            "7/7 [==============================] - 0s 11ms/step - loss: 0.8635 - accuracy: 0.7101 - val_loss: 0.9251 - val_accuracy: 0.6923\n",
            "Epoch 51/200\n",
            "7/7 [==============================] - 0s 7ms/step - loss: 0.9095 - accuracy: 0.6957 - val_loss: 0.9170 - val_accuracy: 0.6923\n",
            "Epoch 52/200\n",
            "7/7 [==============================] - 0s 7ms/step - loss: 0.9050 - accuracy: 0.7053 - val_loss: 0.9087 - val_accuracy: 0.6923\n",
            "Epoch 53/200\n",
            "7/7 [==============================] - 0s 10ms/step - loss: 0.8705 - accuracy: 0.7101 - val_loss: 0.8983 - val_accuracy: 0.6923\n",
            "Epoch 54/200\n",
            "7/7 [==============================] - 0s 10ms/step - loss: 0.8185 - accuracy: 0.7826 - val_loss: 0.8915 - val_accuracy: 0.6923\n",
            "Epoch 55/200\n",
            "7/7 [==============================] - 0s 7ms/step - loss: 0.8618 - accuracy: 0.7488 - val_loss: 0.8868 - val_accuracy: 0.7115\n",
            "Epoch 56/200\n",
            "7/7 [==============================] - 0s 10ms/step - loss: 0.8239 - accuracy: 0.7391 - val_loss: 0.8820 - val_accuracy: 0.6923\n",
            "Epoch 57/200\n",
            "7/7 [==============================] - 0s 10ms/step - loss: 0.8663 - accuracy: 0.7005 - val_loss: 0.8722 - val_accuracy: 0.6923\n",
            "Epoch 58/200\n",
            "7/7 [==============================] - 0s 7ms/step - loss: 0.8068 - accuracy: 0.7585 - val_loss: 0.8620 - val_accuracy: 0.7115\n",
            "Epoch 59/200\n",
            "7/7 [==============================] - 0s 10ms/step - loss: 0.8192 - accuracy: 0.7633 - val_loss: 0.8497 - val_accuracy: 0.7308\n",
            "Epoch 60/200\n",
            "7/7 [==============================] - 0s 10ms/step - loss: 0.8412 - accuracy: 0.7246 - val_loss: 0.8406 - val_accuracy: 0.7500\n",
            "Epoch 61/200\n",
            "7/7 [==============================] - 0s 10ms/step - loss: 0.7664 - accuracy: 0.7729 - val_loss: 0.8318 - val_accuracy: 0.7500\n",
            "Epoch 62/200\n",
            "7/7 [==============================] - 0s 7ms/step - loss: 0.7661 - accuracy: 0.7729 - val_loss: 0.8275 - val_accuracy: 0.7500\n",
            "Epoch 63/200\n",
            "7/7 [==============================] - 0s 7ms/step - loss: 0.7821 - accuracy: 0.7681 - val_loss: 0.8229 - val_accuracy: 0.7308\n",
            "Epoch 64/200\n",
            "7/7 [==============================] - 0s 7ms/step - loss: 0.8343 - accuracy: 0.7246 - val_loss: 0.8185 - val_accuracy: 0.7308\n",
            "Epoch 65/200\n",
            "7/7 [==============================] - 0s 7ms/step - loss: 0.7630 - accuracy: 0.7633 - val_loss: 0.8131 - val_accuracy: 0.7308\n",
            "Epoch 66/200\n",
            "7/7 [==============================] - 0s 11ms/step - loss: 0.7793 - accuracy: 0.7440 - val_loss: 0.8092 - val_accuracy: 0.7308\n",
            "Epoch 67/200\n",
            "7/7 [==============================] - 0s 9ms/step - loss: 0.6992 - accuracy: 0.8164 - val_loss: 0.8036 - val_accuracy: 0.7500\n",
            "Epoch 68/200\n",
            "7/7 [==============================] - 0s 7ms/step - loss: 0.7327 - accuracy: 0.7923 - val_loss: 0.7946 - val_accuracy: 0.7308\n",
            "Epoch 69/200\n",
            "7/7 [==============================] - 0s 7ms/step - loss: 0.6865 - accuracy: 0.7729 - val_loss: 0.7869 - val_accuracy: 0.7308\n",
            "Epoch 70/200\n",
            "7/7 [==============================] - 0s 7ms/step - loss: 0.7638 - accuracy: 0.7198 - val_loss: 0.7814 - val_accuracy: 0.7308\n",
            "Epoch 71/200\n",
            "7/7 [==============================] - 0s 9ms/step - loss: 0.7458 - accuracy: 0.7729 - val_loss: 0.7781 - val_accuracy: 0.7308\n",
            "Epoch 72/200\n",
            "7/7 [==============================] - 0s 10ms/step - loss: 0.7102 - accuracy: 0.7633 - val_loss: 0.7726 - val_accuracy: 0.7308\n",
            "Epoch 73/200\n",
            "7/7 [==============================] - 0s 10ms/step - loss: 0.6544 - accuracy: 0.8068 - val_loss: 0.7647 - val_accuracy: 0.7308\n",
            "Epoch 74/200\n",
            "7/7 [==============================] - 0s 7ms/step - loss: 0.6972 - accuracy: 0.7826 - val_loss: 0.7570 - val_accuracy: 0.7308\n",
            "Epoch 75/200\n",
            "7/7 [==============================] - 0s 10ms/step - loss: 0.6918 - accuracy: 0.7826 - val_loss: 0.7528 - val_accuracy: 0.7500\n",
            "Epoch 76/200\n",
            "7/7 [==============================] - 0s 7ms/step - loss: 0.7014 - accuracy: 0.8164 - val_loss: 0.7497 - val_accuracy: 0.7500\n",
            "Epoch 77/200\n",
            "7/7 [==============================] - 0s 10ms/step - loss: 0.6851 - accuracy: 0.7874 - val_loss: 0.7447 - val_accuracy: 0.7500\n",
            "Epoch 78/200\n",
            "7/7 [==============================] - 0s 7ms/step - loss: 0.7215 - accuracy: 0.7488 - val_loss: 0.7408 - val_accuracy: 0.7308\n",
            "Epoch 79/200\n",
            "7/7 [==============================] - 0s 8ms/step - loss: 0.7005 - accuracy: 0.7971 - val_loss: 0.7367 - val_accuracy: 0.7308\n",
            "Epoch 80/200\n",
            "7/7 [==============================] - 0s 8ms/step - loss: 0.6726 - accuracy: 0.7923 - val_loss: 0.7308 - val_accuracy: 0.7308\n",
            "Epoch 81/200\n",
            "7/7 [==============================] - 0s 8ms/step - loss: 0.6933 - accuracy: 0.7681 - val_loss: 0.7252 - val_accuracy: 0.7308\n",
            "Epoch 82/200\n",
            "7/7 [==============================] - 0s 10ms/step - loss: 0.7061 - accuracy: 0.7681 - val_loss: 0.7208 - val_accuracy: 0.7308\n",
            "Epoch 83/200\n",
            "7/7 [==============================] - 0s 7ms/step - loss: 0.6360 - accuracy: 0.7971 - val_loss: 0.7160 - val_accuracy: 0.7308\n",
            "Epoch 84/200\n",
            "7/7 [==============================] - 0s 11ms/step - loss: 0.6734 - accuracy: 0.7826 - val_loss: 0.7142 - val_accuracy: 0.7308\n",
            "Epoch 85/200\n",
            "7/7 [==============================] - 0s 8ms/step - loss: 0.6268 - accuracy: 0.8164 - val_loss: 0.7103 - val_accuracy: 0.7308\n",
            "Epoch 86/200\n",
            "7/7 [==============================] - 0s 7ms/step - loss: 0.6260 - accuracy: 0.7874 - val_loss: 0.7052 - val_accuracy: 0.7308\n",
            "Epoch 87/200\n",
            "7/7 [==============================] - 0s 8ms/step - loss: 0.6496 - accuracy: 0.7923 - val_loss: 0.6980 - val_accuracy: 0.7308\n",
            "Epoch 88/200\n",
            "7/7 [==============================] - 0s 10ms/step - loss: 0.6540 - accuracy: 0.8116 - val_loss: 0.6920 - val_accuracy: 0.7308\n",
            "Epoch 89/200\n",
            "7/7 [==============================] - 0s 7ms/step - loss: 0.6120 - accuracy: 0.8164 - val_loss: 0.6873 - val_accuracy: 0.7500\n",
            "Epoch 90/200\n",
            "7/7 [==============================] - 0s 10ms/step - loss: 0.6370 - accuracy: 0.8213 - val_loss: 0.6842 - val_accuracy: 0.7500\n",
            "Epoch 91/200\n",
            "7/7 [==============================] - 0s 8ms/step - loss: 0.6274 - accuracy: 0.8164 - val_loss: 0.6813 - val_accuracy: 0.7500\n",
            "Epoch 92/200\n",
            "7/7 [==============================] - 0s 10ms/step - loss: 0.6109 - accuracy: 0.8116 - val_loss: 0.6797 - val_accuracy: 0.7500\n",
            "Epoch 93/200\n",
            "7/7 [==============================] - 0s 10ms/step - loss: 0.6082 - accuracy: 0.8116 - val_loss: 0.6756 - val_accuracy: 0.7500\n",
            "Epoch 94/200\n",
            "7/7 [==============================] - 0s 10ms/step - loss: 0.6267 - accuracy: 0.7923 - val_loss: 0.6723 - val_accuracy: 0.7500\n",
            "Epoch 95/200\n",
            "7/7 [==============================] - 0s 10ms/step - loss: 0.6302 - accuracy: 0.8164 - val_loss: 0.6693 - val_accuracy: 0.7308\n",
            "Epoch 96/200\n",
            "7/7 [==============================] - 0s 7ms/step - loss: 0.5947 - accuracy: 0.8213 - val_loss: 0.6660 - val_accuracy: 0.7500\n",
            "Epoch 97/200\n",
            "7/7 [==============================] - 0s 7ms/step - loss: 0.6288 - accuracy: 0.7874 - val_loss: 0.6627 - val_accuracy: 0.7500\n",
            "Epoch 98/200\n",
            "7/7 [==============================] - 0s 9ms/step - loss: 0.6142 - accuracy: 0.7826 - val_loss: 0.6613 - val_accuracy: 0.7500\n",
            "Epoch 99/200\n",
            "7/7 [==============================] - 0s 10ms/step - loss: 0.6040 - accuracy: 0.7729 - val_loss: 0.6599 - val_accuracy: 0.7500\n",
            "Epoch 100/200\n",
            "7/7 [==============================] - 0s 10ms/step - loss: 0.5373 - accuracy: 0.8357 - val_loss: 0.6547 - val_accuracy: 0.7500\n",
            "Epoch 101/200\n",
            "7/7 [==============================] - 0s 10ms/step - loss: 0.5638 - accuracy: 0.8261 - val_loss: 0.6503 - val_accuracy: 0.7500\n",
            "Epoch 102/200\n",
            "7/7 [==============================] - 0s 10ms/step - loss: 0.5646 - accuracy: 0.8454 - val_loss: 0.6462 - val_accuracy: 0.7500\n",
            "Epoch 103/200\n",
            "7/7 [==============================] - 0s 10ms/step - loss: 0.5683 - accuracy: 0.8068 - val_loss: 0.6434 - val_accuracy: 0.7500\n",
            "Epoch 104/200\n",
            "7/7 [==============================] - 0s 12ms/step - loss: 0.5542 - accuracy: 0.8454 - val_loss: 0.6413 - val_accuracy: 0.7500\n",
            "Epoch 105/200\n",
            "7/7 [==============================] - 0s 11ms/step - loss: 0.5707 - accuracy: 0.8116 - val_loss: 0.6395 - val_accuracy: 0.7500\n",
            "Epoch 106/200\n",
            "7/7 [==============================] - 0s 13ms/step - loss: 0.5681 - accuracy: 0.8309 - val_loss: 0.6357 - val_accuracy: 0.7500\n",
            "Epoch 107/200\n",
            "7/7 [==============================] - 0s 12ms/step - loss: 0.5501 - accuracy: 0.8357 - val_loss: 0.6330 - val_accuracy: 0.7692\n",
            "Epoch 108/200\n",
            "7/7 [==============================] - 0s 14ms/step - loss: 0.5269 - accuracy: 0.8647 - val_loss: 0.6306 - val_accuracy: 0.7500\n",
            "Epoch 109/200\n",
            "7/7 [==============================] - 0s 13ms/step - loss: 0.5523 - accuracy: 0.8502 - val_loss: 0.6284 - val_accuracy: 0.7500\n",
            "Epoch 110/200\n",
            "7/7 [==============================] - 0s 12ms/step - loss: 0.5584 - accuracy: 0.8019 - val_loss: 0.6307 - val_accuracy: 0.7500\n",
            "Epoch 111/200\n",
            "7/7 [==============================] - 0s 14ms/step - loss: 0.5558 - accuracy: 0.8309 - val_loss: 0.6306 - val_accuracy: 0.7308\n",
            "Epoch 112/200\n",
            "7/7 [==============================] - 0s 11ms/step - loss: 0.5564 - accuracy: 0.8213 - val_loss: 0.6277 - val_accuracy: 0.7308\n",
            "Epoch 113/200\n",
            "7/7 [==============================] - 0s 10ms/step - loss: 0.5569 - accuracy: 0.8406 - val_loss: 0.6257 - val_accuracy: 0.7500\n",
            "Epoch 114/200\n",
            "7/7 [==============================] - 0s 12ms/step - loss: 0.5755 - accuracy: 0.7923 - val_loss: 0.6241 - val_accuracy: 0.7500\n",
            "Epoch 115/200\n",
            "7/7 [==============================] - 0s 13ms/step - loss: 0.5022 - accuracy: 0.8647 - val_loss: 0.6199 - val_accuracy: 0.7500\n",
            "Epoch 116/200\n",
            "7/7 [==============================] - 0s 13ms/step - loss: 0.5510 - accuracy: 0.8116 - val_loss: 0.6137 - val_accuracy: 0.7500\n",
            "Epoch 117/200\n",
            "7/7 [==============================] - 0s 10ms/step - loss: 0.4866 - accuracy: 0.8647 - val_loss: 0.6128 - val_accuracy: 0.7308\n",
            "Epoch 118/200\n",
            "7/7 [==============================] - 0s 12ms/step - loss: 0.4833 - accuracy: 0.8937 - val_loss: 0.6086 - val_accuracy: 0.7692\n",
            "Epoch 119/200\n",
            "7/7 [==============================] - 0s 10ms/step - loss: 0.4953 - accuracy: 0.8309 - val_loss: 0.6047 - val_accuracy: 0.7500\n",
            "Epoch 120/200\n",
            "7/7 [==============================] - 0s 10ms/step - loss: 0.5734 - accuracy: 0.8068 - val_loss: 0.6035 - val_accuracy: 0.7692\n",
            "Epoch 121/200\n",
            "7/7 [==============================] - 0s 12ms/step - loss: 0.4835 - accuracy: 0.8937 - val_loss: 0.6048 - val_accuracy: 0.7500\n",
            "Epoch 122/200\n",
            "7/7 [==============================] - 0s 10ms/step - loss: 0.4493 - accuracy: 0.8792 - val_loss: 0.6041 - val_accuracy: 0.7500\n",
            "Epoch 123/200\n",
            "7/7 [==============================] - 0s 10ms/step - loss: 0.5152 - accuracy: 0.8164 - val_loss: 0.6000 - val_accuracy: 0.7692\n",
            "Epoch 124/200\n",
            "7/7 [==============================] - 0s 12ms/step - loss: 0.5143 - accuracy: 0.8116 - val_loss: 0.5970 - val_accuracy: 0.7692\n",
            "Epoch 125/200\n",
            "7/7 [==============================] - 0s 10ms/step - loss: 0.5054 - accuracy: 0.8261 - val_loss: 0.5962 - val_accuracy: 0.7692\n",
            "Epoch 126/200\n",
            "7/7 [==============================] - 0s 10ms/step - loss: 0.5072 - accuracy: 0.8454 - val_loss: 0.5977 - val_accuracy: 0.7308\n",
            "Epoch 127/200\n",
            "7/7 [==============================] - 0s 13ms/step - loss: 0.4725 - accuracy: 0.8696 - val_loss: 0.5979 - val_accuracy: 0.7308\n",
            "Epoch 128/200\n",
            "7/7 [==============================] - 0s 13ms/step - loss: 0.4270 - accuracy: 0.8792 - val_loss: 0.5931 - val_accuracy: 0.7500\n",
            "Epoch 129/200\n",
            "7/7 [==============================] - 0s 13ms/step - loss: 0.4812 - accuracy: 0.8357 - val_loss: 0.5866 - val_accuracy: 0.7692\n",
            "Epoch 130/200\n",
            "7/7 [==============================] - 0s 14ms/step - loss: 0.4331 - accuracy: 0.8744 - val_loss: 0.5819 - val_accuracy: 0.7692\n",
            "Epoch 131/200\n",
            "7/7 [==============================] - 0s 9ms/step - loss: 0.4290 - accuracy: 0.8696 - val_loss: 0.5784 - val_accuracy: 0.7885\n",
            "Epoch 132/200\n",
            "7/7 [==============================] - 0s 13ms/step - loss: 0.4359 - accuracy: 0.9130 - val_loss: 0.5781 - val_accuracy: 0.7885\n",
            "Epoch 133/200\n",
            "7/7 [==============================] - 0s 12ms/step - loss: 0.4558 - accuracy: 0.8696 - val_loss: 0.5787 - val_accuracy: 0.7885\n",
            "Epoch 134/200\n",
            "7/7 [==============================] - 0s 13ms/step - loss: 0.4860 - accuracy: 0.8454 - val_loss: 0.5795 - val_accuracy: 0.7692\n",
            "Epoch 135/200\n",
            "7/7 [==============================] - 0s 10ms/step - loss: 0.4922 - accuracy: 0.8551 - val_loss: 0.5792 - val_accuracy: 0.7500\n",
            "Epoch 136/200\n",
            "7/7 [==============================] - 0s 10ms/step - loss: 0.4432 - accuracy: 0.8647 - val_loss: 0.5769 - val_accuracy: 0.7885\n",
            "Epoch 137/200\n",
            "7/7 [==============================] - 0s 12ms/step - loss: 0.4307 - accuracy: 0.8889 - val_loss: 0.5744 - val_accuracy: 0.7885\n",
            "Epoch 138/200\n",
            "7/7 [==============================] - 0s 14ms/step - loss: 0.4278 - accuracy: 0.8792 - val_loss: 0.5727 - val_accuracy: 0.7692\n",
            "Epoch 139/200\n",
            "7/7 [==============================] - 0s 13ms/step - loss: 0.4685 - accuracy: 0.8744 - val_loss: 0.5709 - val_accuracy: 0.7500\n",
            "Epoch 140/200\n",
            "7/7 [==============================] - 0s 12ms/step - loss: 0.4513 - accuracy: 0.8551 - val_loss: 0.5702 - val_accuracy: 0.7500\n",
            "Epoch 141/200\n",
            "7/7 [==============================] - 0s 13ms/step - loss: 0.4925 - accuracy: 0.8357 - val_loss: 0.5686 - val_accuracy: 0.7692\n",
            "Epoch 142/200\n",
            "7/7 [==============================] - 0s 11ms/step - loss: 0.4557 - accuracy: 0.8647 - val_loss: 0.5653 - val_accuracy: 0.7885\n",
            "Epoch 143/200\n",
            "7/7 [==============================] - 0s 13ms/step - loss: 0.4592 - accuracy: 0.8502 - val_loss: 0.5635 - val_accuracy: 0.7885\n",
            "Epoch 144/200\n",
            "7/7 [==============================] - 0s 13ms/step - loss: 0.4283 - accuracy: 0.8502 - val_loss: 0.5629 - val_accuracy: 0.7885\n",
            "Epoch 145/200\n",
            "7/7 [==============================] - 0s 12ms/step - loss: 0.3988 - accuracy: 0.8792 - val_loss: 0.5617 - val_accuracy: 0.7885\n",
            "Epoch 146/200\n",
            "7/7 [==============================] - 0s 14ms/step - loss: 0.4147 - accuracy: 0.8841 - val_loss: 0.5604 - val_accuracy: 0.7885\n",
            "Epoch 147/200\n",
            "7/7 [==============================] - 0s 12ms/step - loss: 0.4220 - accuracy: 0.8889 - val_loss: 0.5606 - val_accuracy: 0.7885\n",
            "Epoch 148/200\n",
            "7/7 [==============================] - 0s 13ms/step - loss: 0.4388 - accuracy: 0.8599 - val_loss: 0.5590 - val_accuracy: 0.8077\n",
            "Epoch 149/200\n",
            "7/7 [==============================] - 0s 13ms/step - loss: 0.4483 - accuracy: 0.8696 - val_loss: 0.5567 - val_accuracy: 0.8077\n",
            "Epoch 150/200\n",
            "7/7 [==============================] - 0s 15ms/step - loss: 0.4204 - accuracy: 0.8647 - val_loss: 0.5552 - val_accuracy: 0.8077\n",
            "Epoch 151/200\n",
            "7/7 [==============================] - 0s 11ms/step - loss: 0.4158 - accuracy: 0.8744 - val_loss: 0.5551 - val_accuracy: 0.8077\n",
            "Epoch 152/200\n",
            "7/7 [==============================] - 0s 13ms/step - loss: 0.4356 - accuracy: 0.8889 - val_loss: 0.5531 - val_accuracy: 0.8077\n",
            "Epoch 153/200\n",
            "7/7 [==============================] - 0s 13ms/step - loss: 0.3798 - accuracy: 0.9227 - val_loss: 0.5522 - val_accuracy: 0.8077\n",
            "Epoch 154/200\n",
            "7/7 [==============================] - 0s 10ms/step - loss: 0.3864 - accuracy: 0.9082 - val_loss: 0.5519 - val_accuracy: 0.8077\n",
            "Epoch 155/200\n",
            "7/7 [==============================] - 0s 7ms/step - loss: 0.4114 - accuracy: 0.8744 - val_loss: 0.5528 - val_accuracy: 0.8077\n",
            "Epoch 156/200\n",
            "7/7 [==============================] - 0s 10ms/step - loss: 0.3618 - accuracy: 0.9275 - val_loss: 0.5509 - val_accuracy: 0.8077\n",
            "Epoch 157/200\n",
            "7/7 [==============================] - 0s 10ms/step - loss: 0.4526 - accuracy: 0.8551 - val_loss: 0.5510 - val_accuracy: 0.8077\n",
            "Epoch 158/200\n",
            "7/7 [==============================] - 0s 10ms/step - loss: 0.4666 - accuracy: 0.8357 - val_loss: 0.5510 - val_accuracy: 0.8077\n",
            "Epoch 159/200\n",
            "7/7 [==============================] - 0s 10ms/step - loss: 0.4197 - accuracy: 0.8551 - val_loss: 0.5478 - val_accuracy: 0.8077\n",
            "Epoch 160/200\n",
            "7/7 [==============================] - 0s 10ms/step - loss: 0.3990 - accuracy: 0.8696 - val_loss: 0.5462 - val_accuracy: 0.8077\n",
            "Epoch 161/200\n",
            "7/7 [==============================] - 0s 8ms/step - loss: 0.3755 - accuracy: 0.9372 - val_loss: 0.5468 - val_accuracy: 0.8077\n",
            "Epoch 162/200\n",
            "7/7 [==============================] - 0s 8ms/step - loss: 0.4130 - accuracy: 0.8599 - val_loss: 0.5449 - val_accuracy: 0.8077\n",
            "Epoch 163/200\n",
            "7/7 [==============================] - 0s 7ms/step - loss: 0.3513 - accuracy: 0.9130 - val_loss: 0.5451 - val_accuracy: 0.8077\n",
            "Epoch 164/200\n",
            "7/7 [==============================] - 0s 7ms/step - loss: 0.3518 - accuracy: 0.9130 - val_loss: 0.5434 - val_accuracy: 0.8077\n",
            "Epoch 165/200\n",
            "7/7 [==============================] - 0s 7ms/step - loss: 0.3629 - accuracy: 0.9227 - val_loss: 0.5409 - val_accuracy: 0.8077\n",
            "Epoch 166/200\n",
            "7/7 [==============================] - 0s 11ms/step - loss: 0.4014 - accuracy: 0.8841 - val_loss: 0.5381 - val_accuracy: 0.8077\n",
            "Epoch 167/200\n",
            "7/7 [==============================] - 0s 7ms/step - loss: 0.3594 - accuracy: 0.9034 - val_loss: 0.5379 - val_accuracy: 0.8077\n",
            "Epoch 168/200\n",
            "7/7 [==============================] - 0s 8ms/step - loss: 0.3838 - accuracy: 0.8986 - val_loss: 0.5357 - val_accuracy: 0.8077\n",
            "Epoch 169/200\n",
            "7/7 [==============================] - 0s 8ms/step - loss: 0.3959 - accuracy: 0.8744 - val_loss: 0.5374 - val_accuracy: 0.8077\n",
            "Epoch 170/200\n",
            "7/7 [==============================] - 0s 10ms/step - loss: 0.3964 - accuracy: 0.8841 - val_loss: 0.5388 - val_accuracy: 0.8077\n",
            "Epoch 171/200\n",
            "7/7 [==============================] - 0s 10ms/step - loss: 0.4118 - accuracy: 0.8551 - val_loss: 0.5417 - val_accuracy: 0.8077\n",
            "Epoch 172/200\n",
            "7/7 [==============================] - 0s 10ms/step - loss: 0.4174 - accuracy: 0.8068 - val_loss: 0.5442 - val_accuracy: 0.8077\n",
            "Epoch 173/200\n",
            "7/7 [==============================] - 0s 7ms/step - loss: 0.3985 - accuracy: 0.8841 - val_loss: 0.5439 - val_accuracy: 0.8077\n",
            "Epoch 174/200\n",
            "7/7 [==============================] - 0s 10ms/step - loss: 0.4027 - accuracy: 0.8841 - val_loss: 0.5416 - val_accuracy: 0.8077\n",
            "Epoch 175/200\n",
            "7/7 [==============================] - 0s 7ms/step - loss: 0.3911 - accuracy: 0.8986 - val_loss: 0.5381 - val_accuracy: 0.8077\n",
            "Epoch 176/200\n",
            "7/7 [==============================] - 0s 7ms/step - loss: 0.3654 - accuracy: 0.8937 - val_loss: 0.5354 - val_accuracy: 0.8077\n",
            "Epoch 177/200\n",
            "7/7 [==============================] - 0s 7ms/step - loss: 0.3984 - accuracy: 0.8744 - val_loss: 0.5350 - val_accuracy: 0.8077\n",
            "Epoch 178/200\n",
            "7/7 [==============================] - 0s 10ms/step - loss: 0.3171 - accuracy: 0.9227 - val_loss: 0.5356 - val_accuracy: 0.8077\n",
            "Epoch 179/200\n",
            "7/7 [==============================] - 0s 8ms/step - loss: 0.3788 - accuracy: 0.8744 - val_loss: 0.5344 - val_accuracy: 0.8077\n",
            "Epoch 180/200\n",
            "7/7 [==============================] - 0s 11ms/step - loss: 0.3509 - accuracy: 0.9227 - val_loss: 0.5352 - val_accuracy: 0.8077\n",
            "Epoch 181/200\n",
            "7/7 [==============================] - 0s 8ms/step - loss: 0.3417 - accuracy: 0.9275 - val_loss: 0.5345 - val_accuracy: 0.8269\n",
            "Epoch 182/200\n",
            "7/7 [==============================] - 0s 11ms/step - loss: 0.3589 - accuracy: 0.8937 - val_loss: 0.5328 - val_accuracy: 0.8269\n",
            "Epoch 183/200\n",
            "7/7 [==============================] - 0s 8ms/step - loss: 0.3326 - accuracy: 0.9227 - val_loss: 0.5318 - val_accuracy: 0.8269\n",
            "Epoch 184/200\n",
            "7/7 [==============================] - 0s 7ms/step - loss: 0.3323 - accuracy: 0.9082 - val_loss: 0.5318 - val_accuracy: 0.7885\n",
            "Epoch 185/200\n",
            "7/7 [==============================] - 0s 8ms/step - loss: 0.2807 - accuracy: 0.9324 - val_loss: 0.5316 - val_accuracy: 0.7885\n",
            "Epoch 186/200\n",
            "7/7 [==============================] - 0s 7ms/step - loss: 0.3636 - accuracy: 0.8937 - val_loss: 0.5300 - val_accuracy: 0.8077\n",
            "Epoch 187/200\n",
            "7/7 [==============================] - 0s 8ms/step - loss: 0.3752 - accuracy: 0.8889 - val_loss: 0.5290 - val_accuracy: 0.8269\n",
            "Epoch 188/200\n",
            "7/7 [==============================] - 0s 11ms/step - loss: 0.3409 - accuracy: 0.9034 - val_loss: 0.5262 - val_accuracy: 0.8077\n",
            "Epoch 189/200\n",
            "7/7 [==============================] - 0s 7ms/step - loss: 0.3407 - accuracy: 0.9034 - val_loss: 0.5268 - val_accuracy: 0.8077\n",
            "Epoch 190/200\n",
            "7/7 [==============================] - 0s 8ms/step - loss: 0.3435 - accuracy: 0.9227 - val_loss: 0.5252 - val_accuracy: 0.8077\n",
            "Epoch 191/200\n",
            "7/7 [==============================] - 0s 7ms/step - loss: 0.3378 - accuracy: 0.8889 - val_loss: 0.5261 - val_accuracy: 0.8077\n",
            "Epoch 192/200\n",
            "7/7 [==============================] - 0s 8ms/step - loss: 0.3734 - accuracy: 0.8986 - val_loss: 0.5277 - val_accuracy: 0.8077\n",
            "Epoch 193/200\n",
            "7/7 [==============================] - 0s 8ms/step - loss: 0.3316 - accuracy: 0.8841 - val_loss: 0.5259 - val_accuracy: 0.8077\n",
            "Epoch 194/200\n",
            "7/7 [==============================] - 0s 8ms/step - loss: 0.3359 - accuracy: 0.9034 - val_loss: 0.5223 - val_accuracy: 0.8077\n",
            "Epoch 195/200\n",
            "7/7 [==============================] - 0s 8ms/step - loss: 0.3365 - accuracy: 0.9130 - val_loss: 0.5203 - val_accuracy: 0.8269\n",
            "Epoch 196/200\n",
            "7/7 [==============================] - 0s 8ms/step - loss: 0.3158 - accuracy: 0.9179 - val_loss: 0.5202 - val_accuracy: 0.8269\n",
            "Epoch 197/200\n",
            "7/7 [==============================] - 0s 8ms/step - loss: 0.2709 - accuracy: 0.9469 - val_loss: 0.5217 - val_accuracy: 0.8077\n",
            "Epoch 198/200\n",
            "7/7 [==============================] - 0s 7ms/step - loss: 0.3431 - accuracy: 0.8986 - val_loss: 0.5219 - val_accuracy: 0.8077\n",
            "Epoch 199/200\n",
            "7/7 [==============================] - 0s 10ms/step - loss: 0.3785 - accuracy: 0.8647 - val_loss: 0.5203 - val_accuracy: 0.8077\n",
            "Epoch 200/200\n",
            "7/7 [==============================] - 0s 7ms/step - loss: 0.3291 - accuracy: 0.9130 - val_loss: 0.5174 - val_accuracy: 0.8077\n"
          ]
        }
      ],
      "source": [
        "model = tf.keras.Sequential([\n",
        "    tf.keras.layers.Input(shape=(512,)),\n",
        "    tf.keras.layers.Dense(12, activation=\"relu\"),\n",
        "    tf.keras.layers.Dropout(0.3),\n",
        "    tf.keras.layers.Dense(6, activation=\"softmax\"),\n",
        "])\n",
        "\n",
        "model.compile(\n",
        "    optimizer=\"adam\",\n",
        "    loss=\"sparse_categorical_crossentropy\",\n",
        "    metrics=[\"accuracy\"]\n",
        ")\n",
        "\n",
        "early_stop = EarlyStopping(monitor='val_loss', patience=50, restore_best_weights=True)\n",
        "\n",
        "# considering a small dataset, and class imbalance\n",
        "# target ~75% acc, and .8 loss (for validation data)\n",
        "# and valid_title class prediction accuracy should be prioritized\n",
        "# try to get 15-20% validation data if possible\n",
        "history = model.fit(x_train, y_train, epochs=200, validation_split=0.2, callbacks=[early_stop])\n",
        "\n",
        "# this reset if dataaset updated\n",
        "# note (hidden layer (n) x dropout x epoch)\n",
        "# 12-.3-300, 73%\n"
      ]
    },
    {
      "cell_type": "markdown",
      "metadata": {
        "id": "nFmMie__MO6Q"
      },
      "source": [
        "## Evaluation"
      ]
    },
    {
      "cell_type": "code",
      "execution_count": 183,
      "metadata": {
        "colab": {
          "base_uri": "https://localhost:8080/",
          "height": 507
        },
        "id": "38226028",
        "outputId": "40c827de-bcca-4bc1-ad77-310a12598c4f"
      },
      "outputs": [
        {
          "output_type": "display_data",
          "data": {
            "text/plain": [
              "<Figure size 1200x500 with 2 Axes>"
            ],
            "image/png": "[encoded data removed]"
          },
          "metadata": {}
        }
      ],
      "source": [
        "import matplotlib.pyplot as plt\n",
        "\n",
        "# Extract training and validation metrics\n",
        "history_dict = history.history\n",
        "acc = history_dict.get('accuracy', [])\n",
        "val_acc = history_dict.get('val_accuracy', [])\n",
        "loss = history_dict.get('loss', [])\n",
        "val_loss = history_dict.get('val_loss', [])\n",
        "\n",
        "epochs = range(1, len(acc) + 1)\n",
        "\n",
        "plt.figure(figsize=(12, 5))\n",
        "\n",
        "# Accuracy plot\n",
        "plt.subplot(1, 2, 1)\n",
        "plt.plot(epochs, acc, 'b-', label='Train Accuracy')\n",
        "if val_acc:\n",
        "    plt.plot(epochs, val_acc, 'r-', label='Val Accuracy')\n",
        "plt.title('Accuracy over Epochs')\n",
        "plt.xlabel('Epochs')\n",
        "plt.ylabel('Accuracy')\n",
        "plt.legend()\n",
        "\n",
        "# Loss plot\n",
        "plt.subplot(1, 2, 2)\n",
        "plt.plot(epochs, loss, 'b-', label='Train Loss')\n",
        "if val_loss:\n",
        "    plt.plot(epochs, val_loss, 'r-', label='Val Loss')\n",
        "plt.title('Loss over Epochs')\n",
        "plt.xlabel('Epochs')\n",
        "plt.ylabel('Loss')\n",
        "plt.legend()\n",
        "\n",
        "plt.tight_layout()\n",
        "plt.show()\n"
      ]
    },
    {
      "cell_type": "markdown",
      "metadata": {
        "id": "jnc2DJ-wtYGT"
      },
      "source": [
        "## Acuracy"
      ]
    },
    {
      "cell_type": "code",
      "execution_count": 184,
      "metadata": {
        "colab": {
          "base_uri": "https://localhost:8080/"
        },
        "id": "1r0noPUdIkGZ",
        "outputId": "d5485c49-fdfc-4e05-cbe9-d65940d53296"
      },
      "outputs": [
        {
          "output_type": "stream",
          "name": "stdout",
          "text": [
            "Val Accuracy: 84.6%\n"
          ]
        }
      ],
      "source": [
        "loss, acc = model.evaluate(x_test, y_test, verbose=0)\n",
        "print(f\"Val Accuracy: {acc:.1%}\")\n"
      ]
    },
    {
      "cell_type": "code",
      "execution_count": 185,
      "metadata": {
        "colab": {
          "base_uri": "https://localhost:8080/",
          "height": 691
        },
        "id": "VFH0K7-oQRkC",
        "outputId": "df37a54e-a005-4793-f91f-1fc2c607ad50"
      },
      "outputs": [
        {
          "output_type": "stream",
          "name": "stdout",
          "text": [
            "1/1 [==============================] - 0s 77ms/step\n"
          ]
        },
        {
          "output_type": "display_data",
          "data": {
            "text/plain": [
              "<Figure size 800x600 with 2 Axes>"
            ],
            "image/png": "[encoded data removed]"
          },
          "metadata": {}
        }
      ],
      "source": [
        "from sklearn.metrics import confusion_matrix, classification_report\n",
        "import seaborn as sns\n",
        "import matplotlib.pyplot as plt\n",
        "\n",
        "# Predict class indices\n",
        "y_pred = model.predict(x_test)\n",
        "y_pred_classes = y_pred.argmax(axis=1)\n",
        "\n",
        "# Confusion matrix\n",
        "cm = confusion_matrix(y_test, y_pred_classes)\n",
        "\n",
        "# Visualize\n",
        "plt.figure(figsize=(8, 6))\n",
        "sns.heatmap(cm, annot=True, fmt='d', cmap='Blues', xticklabels=class_names, yticklabels=class_names)\n",
        "plt.xlabel('Predicted')\n",
        "plt.ylabel('True')\n",
        "plt.title('Confusion Matrix')\n",
        "# plt.legend()\n",
        "plt.show()\n"
      ]
    },
    {
      "cell_type": "code",
      "execution_count": 186,
      "metadata": {
        "colab": {
          "base_uri": "https://localhost:8080/"
        },
        "id": "XVfz-wAwQ1g1",
        "outputId": "1acd86ec-4403-4ec1-a2dc-2257a69995b3"
      },
      "outputs": [
        {
          "output_type": "stream",
          "name": "stdout",
          "text": [
            "                    precision    recall  f1-score   support\n",
            "\n",
            "       valid_title       1.00      0.67      0.80         3\n",
            "   background_task       1.00      1.00      1.00         5\n",
            "          meetings       1.00      0.80      0.89         5\n",
            "     general_tasks       1.00      0.75      0.86         4\n",
            "general_activities       0.83      1.00      0.91         5\n",
            "     project_tasks       0.50      0.75      0.60         4\n",
            "\n",
            "          accuracy                           0.85        26\n",
            "         macro avg       0.89      0.83      0.84        26\n",
            "      weighted avg       0.89      0.85      0.85        26\n",
            "\n"
          ]
        }
      ],
      "source": [
        "# Detailed per-class performance\n",
        "print(classification_report(y_test, y_pred_classes, target_names=class_names))\n"
      ]
    },
    {
      "cell_type": "markdown",
      "metadata": {
        "id": "l5eQUAgSgjlY"
      },
      "source": [
        "## see wrong result"
      ]
    },
    {
      "cell_type": "code",
      "execution_count": 189,
      "metadata": {
        "colab": {
          "base_uri": "https://localhost:8080/",
          "height": 857
        },
        "id": "Va981srmIqZl",
        "outputId": "15fabff9-3dea-448a-b8d2-1ea8465a9999"
      },
      "outputs": [
        {
          "output_type": "stream",
          "name": "stdout",
          "text": [
            "2/2 [==============================] - 0s 4ms/step\n",
            "Predicted classes for new sentences:\n"
          ]
        },
        {
          "output_type": "display_data",
          "data": {
            "text/plain": [
              "{'project_tasks': ['working on a new ui design',\n",
              "  'create new component for new page',\n",
              "  'resolve feedback from mr. xxx',\n",
              "  'working on a new feature',\n",
              "  'adjust the page gdpr message',\n",
              "  'handle form submit behaviour',\n",
              "  'works on progressive web app features',\n",
              "  'works on user interface improvements',\n",
              "  'works on mobile responsive design',\n",
              "  'designing a new user interface for the application',\n",
              "  'addressing feedback on the data formatting logic',\n",
              "  'implementing changes based on feedback from a team member',\n",
              "  'building a new feature based on requirements',\n",
              "  'working on the implementation of a new navigation drawer',\n",
              "  'modifying the gdpr consent message displayed on the page',\n",
              "  'implementing the logic for form submission and validation',\n",
              "  'works on analytics dashboard',\n",
              "  'Organize tech talk series and knowledge sharing initiatives',\n",
              "  'Review data retention policies',\n",
              "  'Cost-benefit analysis for service migration',\n",
              "  'Lead incident response and post-mortem analysis',\n",
              "  'Define technology roadmap for next 18 months',\n",
              "  'Evaluate microservices vs monolith trade-offs',\n",
              "  'Design unified architecture',\n",
              "  'Distributed Systems Optimization',\n",
              "  'App Infrastructure Optimization',\n",
              "  'Edge Computing Architecture',\n",
              "  'Cloud Native Transformation',\n",
              "  'Platform Scalability Engineering',\n",
              "  'Advanced Database Architecture',\n",
              "  'Engineering Culture Evolution',\n",
              "  'Future Technology Roadmap',\n",
              "  'Technical Advisory Role',\n",
              "  'Technical Thought Leadership',\n",
              "  'Technology Patent Strategy',\n",
              "  'Technical Communication Strategy',\n",
              "  'Technical Excellence Program',\n",
              "  'AI Integration Strategy',\n",
              "  'Developer Experience Enhancement',\n",
              "  'Technical Debt Strategy Summit',\n",
              "  'Technology Risk Assessment'],\n",
              " 'background_task': ['resolve feedback: update the formatData approach',\n",
              "  'database performance optimization'],\n",
              " 'general_activities': ['working on the new drawer']}"
            ]
          },
          "metadata": {}
        }
      ],
      "source": [
        "new_sentences = [\"my app v1\", \"works on container orchestration setup\", \"works on analytics dashboard\", \"eating a little pizza for a minute and wrote a code\", \"catchup with mr x\", \"Quarterly system architecture review meeting\"]\n",
        "new_sentences = project_tasks\n",
        "# new_sentences = ['Client Call']\n",
        "new_input = to_sparse(new_sentences)\n",
        "new_embeddings = embed_fn(**new_input)['default']\n",
        "unseen_data_predictions = model.predict(new_embeddings)\n",
        "predicted_labels_unseen = unseen_data_predictions.argmax(axis=1)\n",
        "\n",
        "# Create a dictionary to store results\n",
        "results_dict = {}\n",
        "for i, label in enumerate(predicted_labels_unseen):\n",
        "    class_name = class_names[label]\n",
        "    if class_name not in results_dict:\n",
        "        results_dict[class_name] = []\n",
        "    results_dict[class_name].append(new_sentences[i])\n",
        "\n",
        "print(\"Predicted classes for new sentences:\")\n",
        "display(results_dict)"
      ]
    },
    {
      "cell_type": "markdown",
      "metadata": {
        "id": "LggwnI-Nyf3R"
      },
      "source": [
        "# Save Model"
      ]
    },
    {
      "cell_type": "code",
      "execution_count": 188,
      "metadata": {
        "colab": {
          "base_uri": "https://localhost:8080/"
        },
        "id": "E82qmSaGU4qs",
        "outputId": "fe9c24c6-1f8e-488a-95a8-6edde4d87dce"
      },
      "outputs": [
        {
          "output_type": "stream",
          "name": "stderr",
          "text": [
            "/usr/local/lib/python3.11/dist-packages/tf_keras/src/engine/training.py:3098: UserWarning: You are saving your model as an HDF5 file via `model.save()`. This file format is considered legacy. We recommend using instead the native TF-Keras format, e.g. `model.save('my_model.keras')`.\n",
            "  saving_api.save_model(\n"
          ]
        }
      ],
      "source": [
        "model.save('saved_model.h5')"
      ]
    },
    {
      "cell_type": "code",
      "execution_count": 188,
      "metadata": {
        "id": "a99b1054"
      },
      "outputs": [],
      "source": []
    }
  ],
  "metadata": {
    "colab": {
      "toc_visible": true,
      "provenance": [],
      "collapsed_sections": [
        "exzc1Y5KPNPf",
        "LggwnI-Nyf3R"
      ]
    },
    "kernelspec": {
      "display_name": "Python 3",
      "name": "python3"
    },
    "language_info": {
      "name": "python"
    }
  },
  "nbformat": 4,
  "nbformat_minor": 0
}