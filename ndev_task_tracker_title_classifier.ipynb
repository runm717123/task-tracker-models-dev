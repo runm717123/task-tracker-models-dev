{
  "nbformat": 4,
  "nbformat_minor": 0,
  "metadata": {
    "colab": {
      "provenance": []
    },
    "kernelspec": {
      "name": "python3",
      "display_name": "Python 3"
    },
    "language_info": {
      "name": "python"
    }
  },
  "cells": [
    {
      "cell_type": "code",
      "source": [
        "from google.colab import drive\n",
        "drive.mount('/content/drive')\n",
        "\n",
        "# you can obtain the model from https://www.kaggle.com/models/google/universal-sentence-encoder/tensorFlow1/lite\n",
        "# pick the Tensorflow1 lite version model"
      ],
      "metadata": {
        "id": "_VGxoT5r_oDv",
        "colab": {
          "base_uri": "https://localhost:8080/"
        },
        "outputId": "7b928654-1ade-411b-89da-61b4f983ca80"
      },
      "execution_count": 1,
      "outputs": [
        {
          "output_type": "stream",
          "name": "stdout",
          "text": [
            "Mounted at /content/drive\n"
          ]
        }
      ]
    },
    {
      "cell_type": "code",
      "source": [
        "import os\n",
        "\n",
        "# this is necessary for tensorflowjswizard\n",
        "os.environ[\"TF_USE_LEGACY_KERAS\"] = \"1\""
      ],
      "metadata": {
        "id": "ZWCwN_S_bh0_"
      },
      "execution_count": 2,
      "outputs": []
    },
    {
      "cell_type": "markdown",
      "source": [
        "# Import & Model load"
      ],
      "metadata": {
        "id": "MajeDX0rDZ0p"
      }
    },
    {
      "cell_type": "code",
      "source": [
        "use_model_path = '/content/drive/MyDrive/ndev-task-tracker/universal-sentence-encoder-tensorflow1-lite-v2'"
      ],
      "metadata": {
        "id": "sIJuwjgJCT0a"
      },
      "execution_count": 3,
      "outputs": []
    },
    {
      "cell_type": "code",
      "execution_count": 4,
      "metadata": {
        "id": "d3c6kMfR-DXU"
      },
      "outputs": [],
      "source": [
        "import tensorflow as tf\n",
        "import tensorflow_hub as hub\n",
        "import numpy as np\n",
        "import sentencepiece as spm\n",
        "from sklearn.model_selection import train_test_split\n",
        "from tensorflow.keras.callbacks import EarlyStopping"
      ]
    },
    {
      "cell_type": "code",
      "source": [
        "print(tf.__version__)"
      ],
      "metadata": {
        "id": "RcIej57UViGc",
        "colab": {
          "base_uri": "https://localhost:8080/"
        },
        "outputId": "4b441adf-18f0-424f-c75f-f5a2d75abc2d"
      },
      "execution_count": 5,
      "outputs": [
        {
          "output_type": "stream",
          "name": "stdout",
          "text": [
            "2.18.0\n"
          ]
        }
      ]
    },
    {
      "cell_type": "code",
      "source": [
        "embed = hub.load(use_model_path)\n",
        "sp = spm.SentencePieceProcessor()\n",
        "sp.load(f\"{use_model_path}/assets/universal_encoder_8k_spm.model\")"
      ],
      "metadata": {
        "id": "3hrsnhhuPuui",
        "colab": {
          "base_uri": "https://localhost:8080/"
        },
        "outputId": "2ca3bcc3-1f7d-41d8-bab7-7e787a031ddf"
      },
      "execution_count": 6,
      "outputs": [
        {
          "output_type": "stream",
          "name": "stderr",
          "text": [
            "WARNING:tensorflow:Unable to create a python object for variable <tf.Variable 'Embeddings_en:0' shape=(8002, 256) dtype=float32_ref> because it is a reference variable. It may not be visible to training APIs. If this is a problem, consider rebuilding the SavedModel after running tf.compat.v1.enable_resource_variables().\n",
            "WARNING:tensorflow:Unable to create a python object for variable <tf.Variable 'Encoder_en/KonaTransformer/Encode/Layer_0/TransformerLayer/layer_prepostprocess/layer_norm/layer_norm_scale/part_0:0' shape=(16,) dtype=float32_ref> because it is a reference variable. It may not be visible to training APIs. If this is a problem, consider rebuilding the SavedModel after running tf.compat.v1.enable_resource_variables().\n",
            "WARNING:tensorflow:Unable to create a python object for variable <tf.Variable 'Encoder_en/KonaTransformer/Encode/Layer_0/TransformerLayer/layer_prepostprocess/layer_norm/layer_norm_scale/part_1:0' shape=(16,) dtype=float32_ref> because it is a reference variable. It may not be visible to training APIs. If this is a problem, consider rebuilding the SavedModel after running tf.compat.v1.enable_resource_variables().\n",
            "WARNING:tensorflow:Unable to create a python object for variable <tf.Variable 'Encoder_en/KonaTransformer/Encode/Layer_0/TransformerLayer/layer_prepostprocess/layer_norm/layer_norm_scale/part_2:0' shape=(16,) dtype=float32_ref> because it is a reference variable. It may not be visible to training APIs. If this is a problem, consider rebuilding the SavedModel after running tf.compat.v1.enable_resource_variables().\n",
            "WARNING:tensorflow:Unable to create a python object for variable <tf.Variable 'Encoder_en/KonaTransformer/Encode/Layer_0/TransformerLayer/layer_prepostprocess/layer_norm/layer_norm_scale/part_3:0' shape=(16,) dtype=float32_ref> because it is a reference variable. It may not be visible to training APIs. If this is a problem, consider rebuilding the SavedModel after running tf.compat.v1.enable_resource_variables().\n",
            "WARNING:tensorflow:Unable to create a python object for variable <tf.Variable 'Embeddings_en:0' shape=(8002, 256) dtype=float32_ref> because it is a reference variable. It may not be visible to training APIs. If this is a problem, consider rebuilding the SavedModel after running tf.compat.v1.enable_resource_variables().\n",
            "WARNING:tensorflow:Unable to create a python object for variable <tf.Variable 'Encoder_en/KonaTransformer/Encode/Layer_0/TransformerLayer/layer_prepostprocess/layer_norm/layer_norm_scale/part_0:0' shape=(16,) dtype=float32_ref> because it is a reference variable. It may not be visible to training APIs. If this is a problem, consider rebuilding the SavedModel after running tf.compat.v1.enable_resource_variables().\n",
            "WARNING:tensorflow:Unable to create a python object for variable <tf.Variable 'Encoder_en/KonaTransformer/Encode/Layer_0/TransformerLayer/layer_prepostprocess/layer_norm/layer_norm_scale/part_1:0' shape=(16,) dtype=float32_ref> because it is a reference variable. It may not be visible to training APIs. If this is a problem, consider rebuilding the SavedModel after running tf.compat.v1.enable_resource_variables().\n",
            "WARNING:tensorflow:Unable to create a python object for variable <tf.Variable 'Encoder_en/KonaTransformer/Encode/Layer_0/TransformerLayer/layer_prepostprocess/layer_norm/layer_norm_scale/part_2:0' shape=(16,) dtype=float32_ref> because it is a reference variable. It may not be visible to training APIs. If this is a problem, consider rebuilding the SavedModel after running tf.compat.v1.enable_resource_variables().\n",
            "WARNING:tensorflow:Unable to create a python object for variable <tf.Variable 'Encoder_en/KonaTransformer/Encode/Layer_0/TransformerLayer/layer_prepostprocess/layer_norm/layer_norm_scale/part_3:0' shape=(16,) dtype=float32_ref> because it is a reference variable. It may not be visible to training APIs. If this is a problem, consider rebuilding the SavedModel after running tf.compat.v1.enable_resource_variables().\n",
            "WARNING:tensorflow:Unable to create a python object for variable <tf.Variable 'Embeddings_en:0' shape=(8002, 256) dtype=float32_ref> because it is a reference variable. It may not be visible to training APIs. If this is a problem, consider rebuilding the SavedModel after running tf.compat.v1.enable_resource_variables().\n",
            "WARNING:tensorflow:Unable to create a python object for variable <tf.Variable 'Encoder_en/KonaTransformer/Encode/Layer_0/TransformerLayer/layer_prepostprocess/layer_norm/layer_norm_scale/part_0:0' shape=(16,) dtype=float32_ref> because it is a reference variable. It may not be visible to training APIs. If this is a problem, consider rebuilding the SavedModel after running tf.compat.v1.enable_resource_variables().\n",
            "WARNING:tensorflow:Unable to create a python object for variable <tf.Variable 'Encoder_en/KonaTransformer/Encode/Layer_0/TransformerLayer/layer_prepostprocess/layer_norm/layer_norm_scale/part_1:0' shape=(16,) dtype=float32_ref> because it is a reference variable. It may not be visible to training APIs. If this is a problem, consider rebuilding the SavedModel after running tf.compat.v1.enable_resource_variables().\n",
            "WARNING:tensorflow:Unable to create a python object for variable <tf.Variable 'Encoder_en/KonaTransformer/Encode/Layer_0/TransformerLayer/layer_prepostprocess/layer_norm/layer_norm_scale/part_2:0' shape=(16,) dtype=float32_ref> because it is a reference variable. It may not be visible to training APIs. If this is a problem, consider rebuilding the SavedModel after running tf.compat.v1.enable_resource_variables().\n",
            "WARNING:tensorflow:Unable to create a python object for variable <tf.Variable 'Encoder_en/KonaTransformer/Encode/Layer_0/TransformerLayer/layer_prepostprocess/layer_norm/layer_norm_scale/part_3:0' shape=(16,) dtype=float32_ref> because it is a reference variable. It may not be visible to training APIs. If this is a problem, consider rebuilding the SavedModel after running tf.compat.v1.enable_resource_variables().\n",
            "WARNING:tensorflow:Unable to create a python object for variable <tf.Variable 'Embeddings_en:0' shape=(8002, 256) dtype=float32_ref> because it is a reference variable. It may not be visible to training APIs. If this is a problem, consider rebuilding the SavedModel after running tf.compat.v1.enable_resource_variables().\n",
            "WARNING:tensorflow:Unable to create a python object for variable <tf.Variable 'Encoder_en/KonaTransformer/Encode/Layer_0/TransformerLayer/layer_prepostprocess/layer_norm/layer_norm_scale/part_0:0' shape=(16,) dtype=float32_ref> because it is a reference variable. It may not be visible to training APIs. If this is a problem, consider rebuilding the SavedModel after running tf.compat.v1.enable_resource_variables().\n",
            "WARNING:tensorflow:Unable to create a python object for variable <tf.Variable 'Encoder_en/KonaTransformer/Encode/Layer_0/TransformerLayer/layer_prepostprocess/layer_norm/layer_norm_scale/part_1:0' shape=(16,) dtype=float32_ref> because it is a reference variable. It may not be visible to training APIs. If this is a problem, consider rebuilding the SavedModel after running tf.compat.v1.enable_resource_variables().\n",
            "WARNING:tensorflow:Unable to create a python object for variable <tf.Variable 'Encoder_en/KonaTransformer/Encode/Layer_0/TransformerLayer/layer_prepostprocess/layer_norm/layer_norm_scale/part_2:0' shape=(16,) dtype=float32_ref> because it is a reference variable. It may not be visible to training APIs. If this is a problem, consider rebuilding the SavedModel after running tf.compat.v1.enable_resource_variables().\n",
            "WARNING:tensorflow:Unable to create a python object for variable <tf.Variable 'Encoder_en/KonaTransformer/Encode/Layer_0/TransformerLayer/layer_prepostprocess/layer_norm/layer_norm_scale/part_3:0' shape=(16,) dtype=float32_ref> because it is a reference variable. It may not be visible to training APIs. If this is a problem, consider rebuilding the SavedModel after running tf.compat.v1.enable_resource_variables().\n"
          ]
        },
        {
          "output_type": "execute_result",
          "data": {
            "text/plain": [
              "True"
            ]
          },
          "metadata": {},
          "execution_count": 6
        }
      ]
    },
    {
      "cell_type": "markdown",
      "source": [
        "# Data Preparation"
      ],
      "metadata": {
        "id": "XXs6-avADiJs"
      }
    },
    {
      "cell_type": "code",
      "source": [
        "import os\n",
        "\n",
        "# NOTE: Universal sentence encoder is not case sensitive\n",
        "# dataset size are not affecting the model size (explicitly)\n",
        "\n",
        "valid_title = [\n",
        "    \"project sprint 1\",\n",
        "    \"project sprint 5\",\n",
        "    \"project sprint 1.1\",\n",
        "    \"project sprint 5.1\",\n",
        "    \"taskhive dev\",\n",
        "    \"Prime.com Dev\",\n",
        "    \"ndev task tracker\",\n",
        "    \"spenicle v1\",\n",
        "    \"zenventory\",\n",
        "    \"flownest\",\n",
        "    \"contact app\",\n",
        "    \"property web app\",\n",
        "    \"pronews\",\n",
        "    \"project sprint 5 beta\",\n",
        "    \"project sprint 5 milestone\",\n",
        "    \"DataSync Sprint 24 - Planning\",\n",
        "    \"NotificationEngine v1.3 - Multi-Cloud Strategy\",\n",
        "    \"NotificationEngine v11.3 - Deployment cost optimization\"\n",
        "    \"NotificationEngine v2 - Mobile Push Implementation\",\n",
        "    \"AppEngine 3 - Base\",\n",
        "    \"AppEngine 3 - Dev\",\n",
        "    \"AppEngine 3 - Map Integration\",\n",
        "    \"NotificationEngine v2 - Mobile Push Implementation\",\n",
        "    \"glassdoor app - seo improvement\",\n",
        "    \"glassdoor - Base\",\n",
        "    \"glassdoor app - Dev\",\n",
        "    \"glassdoor - Map Integration\",\n",
        "    \"Distributed Systems Optimization\",\n",
        "    \"Edge Computing Architecture\",\n",
        "    \"Cloud Native Transformation\",\n",
        "    \"Platform Scalability Engineering\",\n",
        "    \"Advanced Database Architecture\",\n",
        "    \"Engineering Culture Evolution\",\n",
        "    \"Future Technology Roadmap\",\n",
        "    \"Technical Advisory Role\",\n",
        "    \"Technical Thought Leadership\",\n",
        "    \"Technology Patent Strategy\",\n",
        "    \"Technical Communication Strategy\",\n",
        "    \"Technical Excellence Program\",\n",
        "    \"AI Integration Strategy\",\n",
        "]\n",
        "\n",
        "meetings = [\n",
        "    \"project backlog refinement\",\n",
        "    \"planning sprint\",\n",
        "    \"technical debt sprint planning\"\n",
        "    \"sprint retrospective session\",\n",
        "    \"designing system architecture\",\n",
        "    \"project discussion\",\n",
        "    \"soda\",\n",
        "    \"1:1 with manager\",\n",
        "    \"attending a meeting\",\n",
        "    \"developer catchup\",\n",
        "    \"daily standup\",\n",
        "    \"daily meeting\",\n",
        "    \"internal meeting\",\n",
        "    \"running daily standup\",\n",
        "    \"meeting with mr colleague\",\n",
        "    \"meet with mrs jane\",\n",
        "    \"daily scrum meeting\",\n",
        "    \"brainstorming session\",\n",
        "    \"weekly sync up\",\n",
        "    \"team meeting\",\n",
        "    \"client call\",\n",
        "    \"quarterly review\",\n",
        "    \"stand-up meeting\",\n",
        "    \"sync meeting\",\n",
        "    \"discussion with the team\",\n",
        "    \"meeting with stakeholders\",\n",
        "    \"project review meeting\",\n",
        "    \"technical discussion\",\n",
        "    \"design review meeting\",\n",
        "    \"planning meeting for next quarter\",\n",
        "    \"client demo session\",\n",
        "    \"internal team sync\",\n",
        "    \"meeting with product manager\",\n",
        "    \"daily huddle\",\n",
        "    \"weekly planning session\",\n",
        "    \"weekly progress demo\",\n",
        "    \"progress demonstration\",\n",
        "    \"Team - Junior Developer Mentoring\",\n",
        "    \"Team - Tech Leadership Sync\",\n",
        "    \"Team - Technical Interview\",\n",
        "    \"Team - Q3 Roadmap Presentation\",\n",
        "    \"Team - Tech Talk Organization\",\n",
        "    \"Team Mentoring Session\",\n",
        "    \"Emerging Tech Evaluation Workshop\",\n",
        "    \"Technical Debt Strategy Summit\",\n",
        "    \"Technical Mentorship Program\",\n",
        "    \"discussing roadmap\",\n",
        "    \"discussing project roadmap\",\n",
        "]\n",
        "\n",
        "# task that the result, is not known immediately by the user\n",
        "background_task = [\n",
        "    \"Test backup and recovery systems\",\n",
        "    \"setting up ci/cd\",\n",
        "    \"configuring docker\",\n",
        "    \"writing api spec\",\n",
        "    \"deploying app\",\n",
        "    \"refactoring code\",\n",
        "    \"writing documentation\",\n",
        "    \"Create and document engineering standards and guidelines\",\n",
        "    \"resolving merge conflicts\",\n",
        "    \"committing changes\",\n",
        "    \"optimizing database\",\n",
        "    \"setting up continuous integration and deployment pipelines\",\n",
        "    \"docker container configuration\",\n",
        "    \"api contract documentation\",\n",
        "    \"application deployment to production\",\n",
        "    \"codebase refactoring\",\n",
        "    \"technical documentation creation\",\n",
        "    \"resolving git merge conflicts\",\n",
        "    \"pushing code to remote repository\",\n",
        "    \"committing code changes\",\n",
        "    \"project backlog grooming\",\n",
        "    \"configuring build automation\",\n",
        "    \"writing user guides\",\n",
        "    \"resolving version control conflicts\",\n",
        "    \"deploying a new service\",\n",
        "    \"improving database query performance\",\n",
        "    \"Implement preventive measures\",\n",
        "    \"Developer Experience Enhancement\",\n",
        "    \"reduce app bundle size\",\n",
        "    \"writing comprehensive unit tests for a module\",\n",
        "    \"investigating and fixing a memory leak issue\",\n",
        "    \"writing unit tests\",\n",
        "    \"works on error tracking implementation\",\n",
        "    \"developing a reusable component for a new page\",\n",
        "    \"ensure all the component are reusable\",\n",
        "    \"ensure the component are easily sharable\",\n",
        "    \"works on data migration scripts\",\n",
        "    \"updating technical specifications\",\n",
        "    \"addressing static analysis warnings\",\n",
        "    \"Ensure GDPR and SOC2 compliance in new features\",\n",
        "    \"fixing linter issues\",\n",
        "    \"updating documentation\",\n",
        "]\n",
        "\n",
        "# task that usually not have a ticket, but we do that to improve the app anyway\n",
        "general_tasks = [\n",
        "    \"writing code\",\n",
        "    \"fixing bugs\",\n",
        "    \"reviewing prs\",\n",
        "    \"managing backlog\",\n",
        "    \"managing tickets\",\n",
        "    \"monitor app usage tracking\",\n",
        "    \"Research emerging technologies\",\n",
        "    \"conducting technical research\",\n",
        "    \"Review microservices architecture design\",\n",
        "    \"reviewing code\",\n",
        "    \"Review and update business continuity procedures\",\n",
        "    \"pair programming\",\n",
        "    \"resolving bugs\",\n",
        "    \"preparing presentation\",\n",
        "    \"presenting updates\",\n",
        "    \"collaborating on design\",\n",
        "    \"writing proposal\",\n",
        "    \"self explore\",\n",
        "    \"self research\",\n",
        "    \"research and found issue with memory optimization in react components\",\n",
        "    \"bug research\",\n",
        "    \"debugging application errors\",\n",
        "    \"conducting code reviews\",\n",
        "   \"help teammates's work\",\n",
        "    \"creating slides for presentation\",\n",
        "    \"providing project updates\",\n",
        "    \"collaborating on system design\",\n",
        "    \"writing a technical proposal\",\n",
        "    \"exploring new technologies for a project\",\n",
        "    \"researching software bugs\",\n",
        "    \"debugging memory leak\",\n",
        "    \"benchmarking app\",\n",
        "    \"conducting performance benchmarking for the application\",\n",
        "    \"investigating memory issues in frontend components\",\n",
        "]\n",
        "\n",
        "general_activities = [\n",
        "    \"afternoon prayer\",\n",
        "    \"watching a movie\",\n",
        "    \"playing games\",\n",
        "    \"eating out\",\n",
        "    \"scrolling tiktok\",\n",
        "    \"cooking dinner\",\n",
        "    \"taking a nap\",\n",
        "    \"chatting with friends\",\n",
        "    \"binge-watching netflix\",\n",
        "    \"reading a novel\",\n",
        "    \"doing laundry\",\n",
        "    \"shopping online\",\n",
        "    \"going to the mall\",\n",
        "    \"napping\",\n",
        "    \"watching youtube\",\n",
        "    \"cleaning room\",\n",
        "    \"going for a walk\",\n",
        "    \"checking social media\",\n",
        "    \"ordering food\",\n",
        "    \"scrolling instagram\",\n",
        "    \"taking a break\",\n",
        "    \"technical training\",\n",
        "    \"english class\",\n",
        "    \"compliance training session\",\n",
        "    \"web development security training\",\n",
        "    \"training assesment\",\n",
        "    \"prayer time in the afternoon\",\n",
        "    \"watching a film for leisure\",\n",
        "    \"playing video games for relaxation\",\n",
        "    \"dining at a restaurant\",\n",
        "    \"browsing short videos on tiktok\",\n",
        "    \"preparing a meal for dinner\",\n",
        "    \"taking a short rest\",\n",
        "    \"talking with colleagues informally\",\n",
        "    \"watching multiple episodes on netflix\",\n",
        "    \"reading a fiction book\",\n",
        "    \"doing the weekly laundry\",\n",
        "    \"purchasing items online\",\n",
        "    \"visiting a shopping mall\",\n",
        "    \"getting some sleep\",\n",
        "    \"watching videos on youtube for entertainment\",\n",
        "    \"tidying up the living space\",\n",
        "    \"going for a short walk outside\",\n",
        "    \"checking updates on social media platforms\",\n",
        "    \"ordering food for delivery\",\n",
        "    \"browsing photos and videos on instagram\",\n",
        "    \"taking a short pause from work\",\n",
        "    \"attending a technical skill building session\",\n",
        "    \"participating in an English language course\",\n",
        "    \"completing mandatory compliance training\",\n",
        "    \"attending a web security workshop\",\n",
        "    \"undergoing a training evaluation\"\n",
        "]\n",
        "\n",
        "# can be useful when no valid_title detected\n",
        "# this is a task title that not representing any specific project/client\n",
        "# usually task that the effect can be known by the user immediately (opposite of background task)\n",
        "project_tasks = [\n",
        "    \"working on a new ui design\",\n",
        "    \"create new component for new page\",\n",
        "    \"resolve feedback: update the formatData approach\",\n",
        "    \"resolve feedback from mr. xxx\",\n",
        "    \"working on a new feature\",\n",
        "    \"working on the new drawer\",\n",
        "    \"adjust the page gdpr message\",\n",
        "    \"handle form submit behaviour\",\n",
        "    \"works on progressive web app features\",\n",
        "    \"works on user interface improvements\",\n",
        "    \"works on mobile responsive design\",\n",
        "    \"designing a new user interface for the application\",\n",
        "    \"addressing feedback on the data formatting logic\",\n",
        "    \"implementing changes based on feedback from a team member\",\n",
        "    \"building a new feature based on requirements\",\n",
        "    \"working on the implementation of a new navigation drawer\",\n",
        "    \"modifying the gdpr consent message displayed on the page\",\n",
        "    \"implementing the logic for form submission and validation\",\n",
        "    \"works on analytics dashboard\",\n",
        "    \"Organize tech talk series and knowledge sharing initiatives\",\n",
        "    \"Review data retention policies\",\n",
        "    \"Cost-benefit analysis for service migration\",\n",
        "    \"Lead incident response and post-mortem analysis\",\n",
        "    \"Define technology roadmap for next 18 months\",\n",
        "    \"Evaluate microservices vs monolith trade-offs\",\n",
        "    \"Analyze team velocity and plan resource allocation\",\n",
        "    \"Design unified architecture\",\n",
        "    \"Technology Risk Assessment\",\n",
        "    \"database performance optimization\",\n",
        "]\n",
        "\n",
        "dataset_dict = {\n",
        "    \"valid_title\": valid_title,\n",
        "    \"background_task\": background_task,\n",
        "    \"meetings\": meetings,\n",
        "    \"general_tasks\": general_tasks,\n",
        "    \"general_activities\": general_activities,\n",
        "    \"project_tasks\": project_tasks,\n",
        "}"
      ],
      "metadata": {
        "id": "GAOMjZRqKDtt"
      },
      "execution_count": 173,
      "outputs": []
    },
    {
      "cell_type": "markdown",
      "source": [
        "## Back-translation\n",
        "\n",
        "english -> france -> english\n",
        "\n",
        "warning: this section can take long time\n",
        "\n",
        "this is not required to run, as the original dataset is quite sufficient"
      ],
      "metadata": {
        "id": "exzc1Y5KPNPf"
      }
    },
    {
      "cell_type": "code",
      "source": [
        "from transformers import MarianMTModel, MarianTokenizer\n",
        "\n",
        "# Load models for English → French and French → English\n",
        "en_to_fr_tokenizer = MarianTokenizer.from_pretrained(\"Helsinki-NLP/opus-mt-en-fr\")\n",
        "en_to_fr_model = MarianMTModel.from_pretrained(\"Helsinki-NLP/opus-mt-en-fr\")\n",
        "\n",
        "fr_to_en_tokenizer = MarianTokenizer.from_pretrained(\"Helsinki-NLP/opus-mt-fr-en\")\n",
        "fr_to_en_model = MarianMTModel.from_pretrained(\"Helsinki-NLP/opus-mt-fr-en\")\n"
      ],
      "metadata": {
        "id": "xVtr9mqiO6BJ"
      },
      "execution_count": null,
      "outputs": []
    },
    {
      "cell_type": "code",
      "source": [
        "def translate(text, tokenizer, model):\n",
        "    inputs = tokenizer.encode(text, return_tensors=\"pt\")\n",
        "    outputs = model.generate(inputs, max_length=64, num_beams=4, early_stopping=True)\n",
        "    return tokenizer.decode(outputs[0], skip_special_tokens=True)\n",
        "\n",
        "def back_translate(text):\n",
        "    \"\"\"\n",
        "    Performs back-translation from English to French and then back to English.\n",
        "\n",
        "    Returns:\n",
        "        str: The back-translated English text.\n",
        "    \"\"\"\n",
        "    fr_text = translate(text, en_to_fr_tokenizer, en_to_fr_model)\n",
        "    back_to_en = translate(fr_text, fr_to_en_tokenizer, fr_to_en_model)\n",
        "    return back_to_en"
      ],
      "metadata": {
        "id": "DpFtTtSJSTQg"
      },
      "execution_count": null,
      "outputs": []
    },
    {
      "cell_type": "code",
      "metadata": {
        "id": "457e0075-4d2b-47b3-85a2-19f7993cfc79",
        "collapsed": true
      },
      "source": [
        "background_task_bt = []\n",
        "meetings_bt = []\n",
        "general_tasks_bt = []\n",
        "general_activities_bt = []\n",
        "project_tasks_bt = []\n",
        "\n",
        "# Back-translate sentences for each category (excluding valid_title)\n",
        "for sentence in background_task:\n",
        "    background_task_bt.append(back_translate(sentence))\n",
        "\n",
        "for sentence in meetings:\n",
        "    meetings_bt.append(back_translate(sentence))\n",
        "\n",
        "for sentence in general_tasks:\n",
        "    general_tasks_bt.append(back_translate(sentence))\n",
        "\n",
        "for sentence in general_activities:\n",
        "    general_activities_bt.append(back_translate(sentence))\n",
        "\n",
        "for sentence in project_tasks:\n",
        "    project_tasks_bt.append(back_translate(sentence))\n",
        "\n",
        "\n",
        "print(\"Back-translated background_tasks:\", background_task_bt[:5])\n",
        "print(\"Back-translated meetings:\", meetings_bt[:5])\n",
        "print(\"Back-translated general_tasks:\", general_tasks_bt[:5])\n",
        "print(\"Back-translated general_activities:\", general_activities_bt[:5])\n",
        "print(\"Back-translated project_tasks:\", project_tasks_bt[:5])"
      ],
      "execution_count": null,
      "outputs": []
    },
    {
      "cell_type": "code",
      "source": [
        "import pickle\n",
        "\n",
        "# Create a dictionary to store the back-translated data\n",
        "back_translated_data_dict = {\n",
        "    \"background_task_bt\": background_task_bt,\n",
        "    \"meetings_bt\": meetings_bt,\n",
        "    \"general_tasks_bt\": general_tasks_bt,\n",
        "    \"general_activities_bt\": general_activities_bt,\n",
        "    \"project_tasks_bt\": project_tasks_bt\n",
        "}\n",
        "\n",
        "# Define the filename for the pickle file\n",
        "pickle_filename = \"back_translated_data.pkl\"\n",
        "\n",
        "# Save the dictionary to a pickle file\n",
        "with open(pickle_filename, 'wb') as f:\n",
        "    pickle.dump(back_translated_data_dict, f)\n",
        "\n",
        "print(f\"Back-translated data saved to {pickle_filename}\")"
      ],
      "metadata": {
        "id": "iwi2GJmXVOQM"
      },
      "execution_count": null,
      "outputs": []
    },
    {
      "cell_type": "markdown",
      "source": [
        "## Preprocessing"
      ],
      "metadata": {
        "id": "KCbp3tfEDsH3"
      }
    },
    {
      "cell_type": "code",
      "source": [
        "embed_fn = embed.signatures[\"default\"]"
      ],
      "metadata": {
        "id": "vWJ2hnRDD3l-"
      },
      "execution_count": 121,
      "outputs": []
    },
    {
      "cell_type": "code",
      "source": [
        "# USE Lite is designed to be smaller and mobile/web-friendly, so it does not contain its own tokenizer.\n",
        "# because the embed_fn signature of the Universal Sentence Encoder Lite model you loaded expects the input in this sparse format. If you tried to pass a dense tensor or just a list of token IDs directly, the model would likely throw an error.\n",
        "\n",
        "def to_sparse(sentences):\n",
        "    # Encode sentences to list of token ids\n",
        "    ids = [sp.encode(s) for s in sentences]\n",
        "\n",
        "    # Create values and indices for SparseTensor\n",
        "    values = [token for sent in ids for token in sent]\n",
        "    indices = [[i, j] for i, sent in enumerate(ids) for j in range(len(sent))]\n",
        "    dense_shape = [len(ids), max(len(sent) for sent in ids)]\n",
        "\n",
        "    # Convert to required tensors\n",
        "    return {\n",
        "        \"values\": tf.constant(values, dtype=tf.int64),\n",
        "        \"indices\": tf.constant(indices, dtype=tf.int64),\n",
        "        \"dense_shape\": tf.constant(dense_shape, dtype=tf.int64),\n",
        "    }\n"
      ],
      "metadata": {
        "id": "5LIS6TavFrT4"
      },
      "execution_count": 122,
      "outputs": []
    },
    {
      "cell_type": "code",
      "source": [
        "# for evaluation\n",
        "class_names = [\n",
        "    \"valid_title\",\n",
        "    \"background_task\",\n",
        "    \"meetings\",\n",
        "    \"general_tasks\",\n",
        "    \"general_activities\",\n",
        "    \"project_tasks\",\n",
        "]\n",
        "\n",
        "categories = [\n",
        "    valid_title,\n",
        "    background_task,\n",
        "    meetings,\n",
        "    general_tasks,\n",
        "    general_activities,\n",
        "    project_tasks\n",
        "]\n",
        "\n",
        "raw_data = [(item, label) for label, category in enumerate(categories) for item in category]\n",
        "\n",
        "print('You have ', len(raw_data), 'data points')"
      ],
      "metadata": {
        "colab": {
          "base_uri": "https://localhost:8080/"
        },
        "id": "jQVs5h4E_4o2",
        "outputId": "eb2bb7a7-f74f-453b-c52a-446dc7d69548"
      },
      "execution_count": 123,
      "outputs": [
        {
          "output_type": "stream",
          "name": "stdout",
          "text": [
            "You have  240 data points\n"
          ]
        }
      ]
    },
    {
      "cell_type": "code",
      "source": [
        "sentences = []\n",
        "labels = []\n",
        "\n",
        "for sentence, label in raw_data:\n",
        "    sentences.append(sentence.lower())\n",
        "    labels.append(label)\n",
        "\n",
        "sentences = np.array(sentences)\n",
        "labels = np.array(labels)\n",
        "\n",
        "# Display the first few elements to verify\n",
        "print(f\"First 5 sentences: {sentences[:5]}\")\n",
        "print(f\"First 5 labels: {labels[:5]}\")"
      ],
      "metadata": {
        "colab": {
          "base_uri": "https://localhost:8080/"
        },
        "id": "FzTSb0KxA5D4",
        "outputId": "84407471-fe54-4e59-8e48-3ad89f439110"
      },
      "execution_count": 124,
      "outputs": [
        {
          "output_type": "stream",
          "name": "stdout",
          "text": [
            "First 5 sentences: ['project sprint 1' 'project sprint 5' 'project sprint 1.1'\n",
            " 'project sprint 5.1' 'taskhive dev']\n",
            "First 5 labels: [0 0 0 0 0]\n"
          ]
        }
      ]
    },
    {
      "cell_type": "code",
      "source": [
        "sparse_input = to_sparse(sentences)\n",
        "embeddings = embed_fn(**sparse_input)['default']"
      ],
      "metadata": {
        "id": "bBSB-3KmHrmJ"
      },
      "execution_count": 125,
      "outputs": []
    },
    {
      "cell_type": "markdown",
      "source": [
        "## Data splitting"
      ],
      "metadata": {
        "id": "Xo_2hR-cMxXU"
      }
    },
    {
      "cell_type": "code",
      "source": [
        "x_train, x_test, y_train, y_test = train_test_split(\n",
        "    embeddings.numpy(), labels, test_size=0.1, stratify=labels, random_state=7\n",
        ")\n",
        "\n",
        "print(len(x_train), len(x_test))"
      ],
      "metadata": {
        "colab": {
          "base_uri": "https://localhost:8080/"
        },
        "id": "6Y9VikDolr5W",
        "outputId": "89c96015-16a3-46b6-9867-e31ece7c5b3b"
      },
      "execution_count": 139,
      "outputs": [
        {
          "output_type": "stream",
          "name": "stdout",
          "text": [
            "216 24\n"
          ]
        }
      ]
    },
    {
      "cell_type": "code",
      "source": [
        "import collections\n",
        "\n",
        "# Check if y_val have proper distribution\n",
        "y_val_counts = collections.Counter(y_test)\n",
        "\n",
        "# Print the counts for each class\n",
        "print(\"Distribution of classes in y_val:\")\n",
        "for label, count in y_val_counts.items():\n",
        "    print(f\"Class {class_names[label]}: {count}\")"
      ],
      "metadata": {
        "colab": {
          "base_uri": "https://localhost:8080/"
        },
        "id": "bpEcKwnsssYf",
        "outputId": "0e0cbf82-7c14-4994-f893-480f0412ee3e"
      },
      "execution_count": 140,
      "outputs": [
        {
          "output_type": "stream",
          "name": "stdout",
          "text": [
            "Distribution of classes in y_val:\n",
            "Class background_task: 3\n",
            "Class general_activities: 5\n",
            "Class project_tasks: 4\n",
            "Class general_tasks: 5\n",
            "Class valid_title: 3\n",
            "Class meetings: 4\n"
          ]
        }
      ]
    },
    {
      "cell_type": "markdown",
      "source": [
        "## prod setup"
      ],
      "metadata": {
        "id": "3cfTuLNsOJQa"
      }
    },
    {
      "cell_type": "code",
      "source": [
        "# combine all dataset for final result\n",
        "\n",
        "x_train = np.concatenate((x_train, x_test), axis=0)\n",
        "y_train = np.concatenate((y_train, y_test), axis=0)\n",
        "len(x_train)"
      ],
      "metadata": {
        "colab": {
          "base_uri": "https://localhost:8080/"
        },
        "id": "o7iyj6jWODi5",
        "outputId": "c4888ac1-e3a8-4c6a-9fba-05fdc599a04b"
      },
      "execution_count": 141,
      "outputs": [
        {
          "output_type": "execute_result",
          "data": {
            "text/plain": [
              "240"
            ]
          },
          "metadata": {},
          "execution_count": 141
        }
      ]
    },
    {
      "cell_type": "code",
      "source": [
        "x_train = tf.math.l2_normalize(x_train, axis=1)"
      ],
      "metadata": {
        "id": "iB7nYpmno91g"
      },
      "execution_count": 142,
      "outputs": []
    },
    {
      "cell_type": "markdown",
      "source": [
        "# Training"
      ],
      "metadata": {
        "id": "1RtrjQS7D4FN"
      }
    },
    {
      "cell_type": "code",
      "source": [
        "model = tf.keras.Sequential([\n",
        "    tf.keras.layers.Input(shape=(512,)),\n",
        "    tf.keras.layers.Dense(12, activation=\"relu\"),\n",
        "    tf.keras.layers.Dropout(0.2),\n",
        "    tf.keras.layers.Dense(6, activation=\"softmax\"),\n",
        "])\n",
        "\n",
        "model.compile(\n",
        "    optimizer=\"adam\",\n",
        "    loss=\"sparse_categorical_crossentropy\",\n",
        "    metrics=[\"accuracy\"]\n",
        ")\n",
        "\n",
        "early_stop = EarlyStopping(monitor='val_loss', patience=50, restore_best_weights=True)\n",
        "\n",
        "# considering a small dataset, and class imbalance\n",
        "# target ~75% acc, and .8 loss (for validation data)\n",
        "# try to get 15-20% validation data if possible\n",
        "history = model.fit(x_train, y_train, epochs=300, validation_split=0.2, callbacks=[early_stop])\n",
        "\n",
        "# note (hidden layer (n) x dropout x epoch)\n",
        "# 36-.2-200, 0.9 70%\n"
      ],
      "metadata": {
        "id": "p4-2xXAJ-RBb",
        "colab": {
          "base_uri": "https://localhost:8080/"
        },
        "outputId": "47ed2bb5-dacc-49a4-cc18-911a05bf2b5a",
        "collapsed": true
      },
      "execution_count": 161,
      "outputs": [
        {
          "output_type": "stream",
          "name": "stdout",
          "text": [
            "Epoch 1/300\n",
            "6/6 [==============================] - 1s 39ms/step - loss: 1.7924 - accuracy: 0.1615 - val_loss: 1.7853 - val_accuracy: 0.2292\n",
            "Epoch 2/300\n",
            "6/6 [==============================] - 0s 10ms/step - loss: 1.7757 - accuracy: 0.3177 - val_loss: 1.7740 - val_accuracy: 0.2917\n",
            "Epoch 3/300\n",
            "6/6 [==============================] - 0s 10ms/step - loss: 1.7566 - accuracy: 0.3646 - val_loss: 1.7598 - val_accuracy: 0.3125\n",
            "Epoch 4/300\n",
            "6/6 [==============================] - 0s 7ms/step - loss: 1.7404 - accuracy: 0.4375 - val_loss: 1.7428 - val_accuracy: 0.3958\n",
            "Epoch 5/300\n",
            "6/6 [==============================] - 0s 10ms/step - loss: 1.7218 - accuracy: 0.4792 - val_loss: 1.7235 - val_accuracy: 0.4375\n",
            "Epoch 6/300\n",
            "6/6 [==============================] - 0s 8ms/step - loss: 1.7053 - accuracy: 0.4583 - val_loss: 1.7026 - val_accuracy: 0.4792\n",
            "Epoch 7/300\n",
            "6/6 [==============================] - 0s 8ms/step - loss: 1.6792 - accuracy: 0.4531 - val_loss: 1.6825 - val_accuracy: 0.4792\n",
            "Epoch 8/300\n",
            "6/6 [==============================] - 0s 10ms/step - loss: 1.6538 - accuracy: 0.4792 - val_loss: 1.6620 - val_accuracy: 0.4792\n",
            "Epoch 9/300\n",
            "6/6 [==============================] - 0s 11ms/step - loss: 1.6327 - accuracy: 0.4792 - val_loss: 1.6407 - val_accuracy: 0.4792\n",
            "Epoch 10/300\n",
            "6/6 [==============================] - 0s 10ms/step - loss: 1.5985 - accuracy: 0.4896 - val_loss: 1.6198 - val_accuracy: 0.4375\n",
            "Epoch 11/300\n",
            "6/6 [==============================] - 0s 11ms/step - loss: 1.5835 - accuracy: 0.4740 - val_loss: 1.5989 - val_accuracy: 0.4375\n",
            "Epoch 12/300\n",
            "6/6 [==============================] - 0s 10ms/step - loss: 1.5550 - accuracy: 0.5208 - val_loss: 1.5787 - val_accuracy: 0.4375\n",
            "Epoch 13/300\n",
            "6/6 [==============================] - 0s 11ms/step - loss: 1.5239 - accuracy: 0.5260 - val_loss: 1.5568 - val_accuracy: 0.4167\n",
            "Epoch 14/300\n",
            "6/6 [==============================] - 0s 10ms/step - loss: 1.4977 - accuracy: 0.5156 - val_loss: 1.5367 - val_accuracy: 0.4167\n",
            "Epoch 15/300\n",
            "6/6 [==============================] - 0s 10ms/step - loss: 1.4866 - accuracy: 0.5104 - val_loss: 1.5146 - val_accuracy: 0.3958\n",
            "Epoch 16/300\n",
            "6/6 [==============================] - 0s 7ms/step - loss: 1.4470 - accuracy: 0.5312 - val_loss: 1.4924 - val_accuracy: 0.3958\n",
            "Epoch 17/300\n",
            "6/6 [==============================] - 0s 7ms/step - loss: 1.4326 - accuracy: 0.5260 - val_loss: 1.4726 - val_accuracy: 0.3958\n",
            "Epoch 18/300\n",
            "6/6 [==============================] - 0s 10ms/step - loss: 1.3854 - accuracy: 0.5625 - val_loss: 1.4522 - val_accuracy: 0.3958\n",
            "Epoch 19/300\n",
            "6/6 [==============================] - 0s 7ms/step - loss: 1.3511 - accuracy: 0.5625 - val_loss: 1.4316 - val_accuracy: 0.3958\n",
            "Epoch 20/300\n",
            "6/6 [==============================] - 0s 7ms/step - loss: 1.3540 - accuracy: 0.5573 - val_loss: 1.4104 - val_accuracy: 0.3958\n",
            "Epoch 21/300\n",
            "6/6 [==============================] - 0s 7ms/step - loss: 1.3065 - accuracy: 0.5833 - val_loss: 1.3903 - val_accuracy: 0.3958\n",
            "Epoch 22/300\n",
            "6/6 [==============================] - 0s 7ms/step - loss: 1.2898 - accuracy: 0.5625 - val_loss: 1.3689 - val_accuracy: 0.4167\n",
            "Epoch 23/300\n",
            "6/6 [==============================] - 0s 7ms/step - loss: 1.2563 - accuracy: 0.5990 - val_loss: 1.3483 - val_accuracy: 0.4167\n",
            "Epoch 24/300\n",
            "6/6 [==============================] - 0s 10ms/step - loss: 1.2394 - accuracy: 0.6302 - val_loss: 1.3278 - val_accuracy: 0.4167\n",
            "Epoch 25/300\n",
            "6/6 [==============================] - 0s 10ms/step - loss: 1.1932 - accuracy: 0.6146 - val_loss: 1.3088 - val_accuracy: 0.4583\n",
            "Epoch 26/300\n",
            "6/6 [==============================] - 0s 7ms/step - loss: 1.1974 - accuracy: 0.6250 - val_loss: 1.2901 - val_accuracy: 0.4792\n",
            "Epoch 27/300\n",
            "6/6 [==============================] - 0s 7ms/step - loss: 1.1594 - accuracy: 0.6562 - val_loss: 1.2725 - val_accuracy: 0.5000\n",
            "Epoch 28/300\n",
            "6/6 [==============================] - 0s 7ms/step - loss: 1.1461 - accuracy: 0.6562 - val_loss: 1.2583 - val_accuracy: 0.4583\n",
            "Epoch 29/300\n",
            "6/6 [==============================] - 0s 11ms/step - loss: 1.1414 - accuracy: 0.6510 - val_loss: 1.2435 - val_accuracy: 0.5000\n",
            "Epoch 30/300\n",
            "6/6 [==============================] - 0s 10ms/step - loss: 1.0933 - accuracy: 0.6719 - val_loss: 1.2284 - val_accuracy: 0.5208\n",
            "Epoch 31/300\n",
            "6/6 [==============================] - 0s 10ms/step - loss: 1.0697 - accuracy: 0.6875 - val_loss: 1.2144 - val_accuracy: 0.5208\n",
            "Epoch 32/300\n",
            "6/6 [==============================] - 0s 10ms/step - loss: 1.0887 - accuracy: 0.6667 - val_loss: 1.1998 - val_accuracy: 0.5000\n",
            "Epoch 33/300\n",
            "6/6 [==============================] - 0s 11ms/step - loss: 1.0903 - accuracy: 0.7188 - val_loss: 1.1875 - val_accuracy: 0.5000\n",
            "Epoch 34/300\n",
            "6/6 [==============================] - 0s 11ms/step - loss: 1.0275 - accuracy: 0.7083 - val_loss: 1.1759 - val_accuracy: 0.5208\n",
            "Epoch 35/300\n",
            "6/6 [==============================] - 0s 10ms/step - loss: 1.0097 - accuracy: 0.7083 - val_loss: 1.1650 - val_accuracy: 0.5208\n",
            "Epoch 36/300\n",
            "6/6 [==============================] - 0s 10ms/step - loss: 0.9928 - accuracy: 0.7448 - val_loss: 1.1541 - val_accuracy: 0.5417\n",
            "Epoch 37/300\n",
            "6/6 [==============================] - 0s 10ms/step - loss: 0.9525 - accuracy: 0.7708 - val_loss: 1.1439 - val_accuracy: 0.5417\n",
            "Epoch 38/300\n",
            "6/6 [==============================] - 0s 7ms/step - loss: 0.9552 - accuracy: 0.7396 - val_loss: 1.1319 - val_accuracy: 0.5417\n",
            "Epoch 39/300\n",
            "6/6 [==============================] - 0s 7ms/step - loss: 0.9534 - accuracy: 0.7396 - val_loss: 1.1210 - val_accuracy: 0.5625\n",
            "Epoch 40/300\n",
            "6/6 [==============================] - 0s 11ms/step - loss: 0.9466 - accuracy: 0.7656 - val_loss: 1.1131 - val_accuracy: 0.5625\n",
            "Epoch 41/300\n",
            "6/6 [==============================] - 0s 7ms/step - loss: 0.9665 - accuracy: 0.7240 - val_loss: 1.1034 - val_accuracy: 0.5417\n",
            "Epoch 42/300\n",
            "6/6 [==============================] - 0s 8ms/step - loss: 0.8828 - accuracy: 0.7812 - val_loss: 1.0959 - val_accuracy: 0.5625\n",
            "Epoch 43/300\n",
            "6/6 [==============================] - 0s 11ms/step - loss: 0.8763 - accuracy: 0.7812 - val_loss: 1.0875 - val_accuracy: 0.5625\n",
            "Epoch 44/300\n",
            "6/6 [==============================] - 0s 11ms/step - loss: 0.8607 - accuracy: 0.7917 - val_loss: 1.0776 - val_accuracy: 0.5625\n",
            "Epoch 45/300\n",
            "6/6 [==============================] - 0s 10ms/step - loss: 0.8671 - accuracy: 0.7708 - val_loss: 1.0705 - val_accuracy: 0.5625\n",
            "Epoch 46/300\n",
            "6/6 [==============================] - 0s 8ms/step - loss: 0.8497 - accuracy: 0.7969 - val_loss: 1.0652 - val_accuracy: 0.5625\n",
            "Epoch 47/300\n",
            "6/6 [==============================] - 0s 11ms/step - loss: 0.7861 - accuracy: 0.8073 - val_loss: 1.0576 - val_accuracy: 0.5625\n",
            "Epoch 48/300\n",
            "6/6 [==============================] - 0s 7ms/step - loss: 0.8284 - accuracy: 0.7552 - val_loss: 1.0510 - val_accuracy: 0.6250\n",
            "Epoch 49/300\n",
            "6/6 [==============================] - 0s 7ms/step - loss: 0.8169 - accuracy: 0.8021 - val_loss: 1.0456 - val_accuracy: 0.6042\n",
            "Epoch 50/300\n",
            "6/6 [==============================] - 0s 11ms/step - loss: 0.7857 - accuracy: 0.7917 - val_loss: 1.0401 - val_accuracy: 0.5833\n",
            "Epoch 51/300\n",
            "6/6 [==============================] - 0s 8ms/step - loss: 0.7561 - accuracy: 0.7969 - val_loss: 1.0331 - val_accuracy: 0.6250\n",
            "Epoch 52/300\n",
            "6/6 [==============================] - 0s 10ms/step - loss: 0.7267 - accuracy: 0.8490 - val_loss: 1.0273 - val_accuracy: 0.6250\n",
            "Epoch 53/300\n",
            "6/6 [==============================] - 0s 7ms/step - loss: 0.8099 - accuracy: 0.7812 - val_loss: 1.0208 - val_accuracy: 0.6458\n",
            "Epoch 54/300\n",
            "6/6 [==============================] - 0s 11ms/step - loss: 0.7410 - accuracy: 0.8229 - val_loss: 1.0147 - val_accuracy: 0.6458\n",
            "Epoch 55/300\n",
            "6/6 [==============================] - 0s 11ms/step - loss: 0.7147 - accuracy: 0.8333 - val_loss: 1.0101 - val_accuracy: 0.6250\n",
            "Epoch 56/300\n",
            "6/6 [==============================] - 0s 7ms/step - loss: 0.7280 - accuracy: 0.7969 - val_loss: 1.0050 - val_accuracy: 0.6250\n",
            "Epoch 57/300\n",
            "6/6 [==============================] - 0s 7ms/step - loss: 0.7308 - accuracy: 0.7917 - val_loss: 1.0022 - val_accuracy: 0.6250\n",
            "Epoch 58/300\n",
            "6/6 [==============================] - 0s 7ms/step - loss: 0.7164 - accuracy: 0.8333 - val_loss: 0.9995 - val_accuracy: 0.6250\n",
            "Epoch 59/300\n",
            "6/6 [==============================] - 0s 9ms/step - loss: 0.7031 - accuracy: 0.7917 - val_loss: 0.9965 - val_accuracy: 0.6250\n",
            "Epoch 60/300\n",
            "6/6 [==============================] - 0s 10ms/step - loss: 0.6849 - accuracy: 0.8333 - val_loss: 0.9927 - val_accuracy: 0.6250\n",
            "Epoch 61/300\n",
            "6/6 [==============================] - 0s 7ms/step - loss: 0.6893 - accuracy: 0.8229 - val_loss: 0.9861 - val_accuracy: 0.6250\n",
            "Epoch 62/300\n",
            "6/6 [==============================] - 0s 8ms/step - loss: 0.6517 - accuracy: 0.8438 - val_loss: 0.9805 - val_accuracy: 0.6042\n",
            "Epoch 63/300\n",
            "6/6 [==============================] - 0s 7ms/step - loss: 0.6393 - accuracy: 0.8229 - val_loss: 0.9759 - val_accuracy: 0.6042\n",
            "Epoch 64/300\n",
            "6/6 [==============================] - 0s 8ms/step - loss: 0.6354 - accuracy: 0.8229 - val_loss: 0.9742 - val_accuracy: 0.6250\n",
            "Epoch 65/300\n",
            "6/6 [==============================] - 0s 9ms/step - loss: 0.6744 - accuracy: 0.7969 - val_loss: 0.9707 - val_accuracy: 0.6042\n",
            "Epoch 66/300\n",
            "6/6 [==============================] - 0s 8ms/step - loss: 0.6469 - accuracy: 0.8229 - val_loss: 0.9665 - val_accuracy: 0.6042\n",
            "Epoch 67/300\n",
            "6/6 [==============================] - 0s 8ms/step - loss: 0.6621 - accuracy: 0.7917 - val_loss: 0.9626 - val_accuracy: 0.6042\n",
            "Epoch 68/300\n",
            "6/6 [==============================] - 0s 8ms/step - loss: 0.6142 - accuracy: 0.8490 - val_loss: 0.9589 - val_accuracy: 0.6042\n",
            "Epoch 69/300\n",
            "6/6 [==============================] - 0s 7ms/step - loss: 0.6077 - accuracy: 0.8438 - val_loss: 0.9536 - val_accuracy: 0.6250\n",
            "Epoch 70/300\n",
            "6/6 [==============================] - 0s 7ms/step - loss: 0.6257 - accuracy: 0.8385 - val_loss: 0.9522 - val_accuracy: 0.6250\n",
            "Epoch 71/300\n",
            "6/6 [==============================] - 0s 8ms/step - loss: 0.6532 - accuracy: 0.8177 - val_loss: 0.9484 - val_accuracy: 0.6042\n",
            "Epoch 72/300\n",
            "6/6 [==============================] - 0s 11ms/step - loss: 0.6082 - accuracy: 0.8333 - val_loss: 0.9442 - val_accuracy: 0.6250\n",
            "Epoch 73/300\n",
            "6/6 [==============================] - 0s 12ms/step - loss: 0.6333 - accuracy: 0.8021 - val_loss: 0.9396 - val_accuracy: 0.6458\n",
            "Epoch 74/300\n",
            "6/6 [==============================] - 0s 11ms/step - loss: 0.5854 - accuracy: 0.8594 - val_loss: 0.9370 - val_accuracy: 0.6458\n",
            "Epoch 75/300\n",
            "6/6 [==============================] - 0s 11ms/step - loss: 0.6171 - accuracy: 0.8229 - val_loss: 0.9333 - val_accuracy: 0.6458\n",
            "Epoch 76/300\n",
            "6/6 [==============================] - 0s 8ms/step - loss: 0.5401 - accuracy: 0.8646 - val_loss: 0.9319 - val_accuracy: 0.6458\n",
            "Epoch 77/300\n",
            "6/6 [==============================] - 0s 8ms/step - loss: 0.5917 - accuracy: 0.8229 - val_loss: 0.9314 - val_accuracy: 0.6458\n",
            "Epoch 78/300\n",
            "6/6 [==============================] - 0s 7ms/step - loss: 0.5715 - accuracy: 0.8542 - val_loss: 0.9289 - val_accuracy: 0.6458\n",
            "Epoch 79/300\n",
            "6/6 [==============================] - 0s 7ms/step - loss: 0.5976 - accuracy: 0.8073 - val_loss: 0.9258 - val_accuracy: 0.6458\n",
            "Epoch 80/300\n",
            "6/6 [==============================] - 0s 7ms/step - loss: 0.6114 - accuracy: 0.8073 - val_loss: 0.9239 - val_accuracy: 0.6458\n",
            "Epoch 81/300\n",
            "6/6 [==============================] - 0s 8ms/step - loss: 0.6182 - accuracy: 0.8385 - val_loss: 0.9228 - val_accuracy: 0.6458\n",
            "Epoch 82/300\n",
            "6/6 [==============================] - 0s 10ms/step - loss: 0.5397 - accuracy: 0.8542 - val_loss: 0.9218 - val_accuracy: 0.6458\n",
            "Epoch 83/300\n",
            "6/6 [==============================] - 0s 11ms/step - loss: 0.4866 - accuracy: 0.8854 - val_loss: 0.9213 - val_accuracy: 0.6458\n",
            "Epoch 84/300\n",
            "6/6 [==============================] - 0s 7ms/step - loss: 0.5179 - accuracy: 0.8750 - val_loss: 0.9192 - val_accuracy: 0.6458\n",
            "Epoch 85/300\n",
            "6/6 [==============================] - 0s 8ms/step - loss: 0.4696 - accuracy: 0.8854 - val_loss: 0.9169 - val_accuracy: 0.6458\n",
            "Epoch 86/300\n",
            "6/6 [==============================] - 0s 7ms/step - loss: 0.5614 - accuracy: 0.8385 - val_loss: 0.9135 - val_accuracy: 0.6458\n",
            "Epoch 87/300\n",
            "6/6 [==============================] - 0s 8ms/step - loss: 0.5201 - accuracy: 0.8542 - val_loss: 0.9117 - val_accuracy: 0.6458\n",
            "Epoch 88/300\n",
            "6/6 [==============================] - 0s 11ms/step - loss: 0.5355 - accuracy: 0.8281 - val_loss: 0.9108 - val_accuracy: 0.6458\n",
            "Epoch 89/300\n",
            "6/6 [==============================] - 0s 7ms/step - loss: 0.5620 - accuracy: 0.8490 - val_loss: 0.9086 - val_accuracy: 0.6458\n",
            "Epoch 90/300\n",
            "6/6 [==============================] - 0s 7ms/step - loss: 0.4613 - accuracy: 0.8750 - val_loss: 0.9093 - val_accuracy: 0.6458\n",
            "Epoch 91/300\n",
            "6/6 [==============================] - 0s 8ms/step - loss: 0.4994 - accuracy: 0.8646 - val_loss: 0.9072 - val_accuracy: 0.6458\n",
            "Epoch 92/300\n",
            "6/6 [==============================] - 0s 7ms/step - loss: 0.5104 - accuracy: 0.8333 - val_loss: 0.9049 - val_accuracy: 0.6458\n",
            "Epoch 93/300\n",
            "6/6 [==============================] - 0s 11ms/step - loss: 0.4793 - accuracy: 0.8594 - val_loss: 0.9043 - val_accuracy: 0.6458\n",
            "Epoch 94/300\n",
            "6/6 [==============================] - 0s 11ms/step - loss: 0.4851 - accuracy: 0.8646 - val_loss: 0.9035 - val_accuracy: 0.6458\n",
            "Epoch 95/300\n",
            "6/6 [==============================] - 0s 7ms/step - loss: 0.4988 - accuracy: 0.8542 - val_loss: 0.9029 - val_accuracy: 0.6458\n",
            "Epoch 96/300\n",
            "6/6 [==============================] - 0s 7ms/step - loss: 0.4606 - accuracy: 0.8750 - val_loss: 0.9028 - val_accuracy: 0.6458\n",
            "Epoch 97/300\n",
            "6/6 [==============================] - 0s 7ms/step - loss: 0.4802 - accuracy: 0.8646 - val_loss: 0.9020 - val_accuracy: 0.6458\n",
            "Epoch 98/300\n",
            "6/6 [==============================] - 0s 11ms/step - loss: 0.4094 - accuracy: 0.8958 - val_loss: 0.8987 - val_accuracy: 0.6458\n",
            "Epoch 99/300\n",
            "6/6 [==============================] - 0s 8ms/step - loss: 0.4659 - accuracy: 0.8646 - val_loss: 0.8964 - val_accuracy: 0.6458\n",
            "Epoch 100/300\n",
            "6/6 [==============================] - 0s 11ms/step - loss: 0.4176 - accuracy: 0.8854 - val_loss: 0.8958 - val_accuracy: 0.6458\n",
            "Epoch 101/300\n",
            "6/6 [==============================] - 0s 7ms/step - loss: 0.4630 - accuracy: 0.8490 - val_loss: 0.8955 - val_accuracy: 0.6458\n",
            "Epoch 102/300\n",
            "6/6 [==============================] - 0s 7ms/step - loss: 0.4431 - accuracy: 0.9010 - val_loss: 0.8961 - val_accuracy: 0.6458\n",
            "Epoch 103/300\n",
            "6/6 [==============================] - 0s 10ms/step - loss: 0.4518 - accuracy: 0.8750 - val_loss: 0.8961 - val_accuracy: 0.6458\n",
            "Epoch 104/300\n",
            "6/6 [==============================] - 0s 7ms/step - loss: 0.4536 - accuracy: 0.8698 - val_loss: 0.8962 - val_accuracy: 0.6458\n",
            "Epoch 105/300\n",
            "6/6 [==============================] - 0s 11ms/step - loss: 0.4355 - accuracy: 0.9115 - val_loss: 0.8964 - val_accuracy: 0.6458\n",
            "Epoch 106/300\n",
            "6/6 [==============================] - 0s 7ms/step - loss: 0.4900 - accuracy: 0.8490 - val_loss: 0.8972 - val_accuracy: 0.6458\n",
            "Epoch 107/300\n",
            "6/6 [==============================] - 0s 7ms/step - loss: 0.4150 - accuracy: 0.9010 - val_loss: 0.8962 - val_accuracy: 0.6458\n",
            "Epoch 108/300\n",
            "6/6 [==============================] - 0s 7ms/step - loss: 0.4473 - accuracy: 0.8594 - val_loss: 0.8958 - val_accuracy: 0.6458\n",
            "Epoch 109/300\n",
            "6/6 [==============================] - 0s 7ms/step - loss: 0.3713 - accuracy: 0.9167 - val_loss: 0.8929 - val_accuracy: 0.6458\n",
            "Epoch 110/300\n",
            "6/6 [==============================] - 0s 11ms/step - loss: 0.4313 - accuracy: 0.8750 - val_loss: 0.8921 - val_accuracy: 0.6667\n",
            "Epoch 111/300\n",
            "6/6 [==============================] - 0s 7ms/step - loss: 0.4050 - accuracy: 0.8854 - val_loss: 0.8900 - val_accuracy: 0.6458\n",
            "Epoch 112/300\n",
            "6/6 [==============================] - 0s 7ms/step - loss: 0.3798 - accuracy: 0.9062 - val_loss: 0.8881 - val_accuracy: 0.6458\n",
            "Epoch 113/300\n",
            "6/6 [==============================] - 0s 7ms/step - loss: 0.4264 - accuracy: 0.8646 - val_loss: 0.8896 - val_accuracy: 0.6667\n",
            "Epoch 114/300\n",
            "6/6 [==============================] - 0s 11ms/step - loss: 0.3585 - accuracy: 0.9115 - val_loss: 0.8908 - val_accuracy: 0.6458\n",
            "Epoch 115/300\n",
            "6/6 [==============================] - 0s 10ms/step - loss: 0.3831 - accuracy: 0.8958 - val_loss: 0.8893 - val_accuracy: 0.6458\n",
            "Epoch 116/300\n",
            "6/6 [==============================] - 0s 7ms/step - loss: 0.3630 - accuracy: 0.9115 - val_loss: 0.8892 - val_accuracy: 0.6458\n",
            "Epoch 117/300\n",
            "6/6 [==============================] - 0s 7ms/step - loss: 0.4116 - accuracy: 0.8854 - val_loss: 0.8897 - val_accuracy: 0.6458\n",
            "Epoch 118/300\n",
            "6/6 [==============================] - 0s 10ms/step - loss: 0.4129 - accuracy: 0.8906 - val_loss: 0.8908 - val_accuracy: 0.6458\n",
            "Epoch 119/300\n",
            "6/6 [==============================] - 0s 11ms/step - loss: 0.3835 - accuracy: 0.8750 - val_loss: 0.8886 - val_accuracy: 0.6458\n",
            "Epoch 120/300\n",
            "6/6 [==============================] - 0s 11ms/step - loss: 0.3847 - accuracy: 0.9010 - val_loss: 0.8854 - val_accuracy: 0.6458\n",
            "Epoch 121/300\n",
            "6/6 [==============================] - 0s 7ms/step - loss: 0.3879 - accuracy: 0.9010 - val_loss: 0.8851 - val_accuracy: 0.6458\n",
            "Epoch 122/300\n",
            "6/6 [==============================] - 0s 7ms/step - loss: 0.3604 - accuracy: 0.9323 - val_loss: 0.8862 - val_accuracy: 0.6458\n",
            "Epoch 123/300\n",
            "6/6 [==============================] - 0s 10ms/step - loss: 0.3983 - accuracy: 0.8802 - val_loss: 0.8871 - val_accuracy: 0.6458\n",
            "Epoch 124/300\n",
            "6/6 [==============================] - 0s 7ms/step - loss: 0.3250 - accuracy: 0.9115 - val_loss: 0.8857 - val_accuracy: 0.6458\n",
            "Epoch 125/300\n",
            "6/6 [==============================] - 0s 8ms/step - loss: 0.3598 - accuracy: 0.8854 - val_loss: 0.8847 - val_accuracy: 0.6458\n",
            "Epoch 126/300\n",
            "6/6 [==============================] - 0s 8ms/step - loss: 0.3777 - accuracy: 0.8906 - val_loss: 0.8842 - val_accuracy: 0.6458\n",
            "Epoch 127/300\n",
            "6/6 [==============================] - 0s 7ms/step - loss: 0.3470 - accuracy: 0.9062 - val_loss: 0.8839 - val_accuracy: 0.6458\n",
            "Epoch 128/300\n",
            "6/6 [==============================] - 0s 11ms/step - loss: 0.3683 - accuracy: 0.8854 - val_loss: 0.8825 - val_accuracy: 0.6458\n",
            "Epoch 129/300\n",
            "6/6 [==============================] - 0s 7ms/step - loss: 0.3890 - accuracy: 0.8958 - val_loss: 0.8811 - val_accuracy: 0.6458\n",
            "Epoch 130/300\n",
            "6/6 [==============================] - 0s 8ms/step - loss: 0.3533 - accuracy: 0.9010 - val_loss: 0.8791 - val_accuracy: 0.6458\n",
            "Epoch 131/300\n",
            "6/6 [==============================] - 0s 11ms/step - loss: 0.3557 - accuracy: 0.9115 - val_loss: 0.8786 - val_accuracy: 0.6458\n",
            "Epoch 132/300\n",
            "6/6 [==============================] - 0s 11ms/step - loss: 0.3231 - accuracy: 0.9167 - val_loss: 0.8784 - val_accuracy: 0.6458\n",
            "Epoch 133/300\n",
            "6/6 [==============================] - 0s 10ms/step - loss: 0.3562 - accuracy: 0.8958 - val_loss: 0.8798 - val_accuracy: 0.6458\n",
            "Epoch 134/300\n",
            "6/6 [==============================] - 0s 11ms/step - loss: 0.3356 - accuracy: 0.9062 - val_loss: 0.8830 - val_accuracy: 0.6250\n",
            "Epoch 135/300\n",
            "6/6 [==============================] - 0s 9ms/step - loss: 0.3127 - accuracy: 0.9271 - val_loss: 0.8840 - val_accuracy: 0.6250\n",
            "Epoch 136/300\n",
            "6/6 [==============================] - 0s 11ms/step - loss: 0.3537 - accuracy: 0.9010 - val_loss: 0.8833 - val_accuracy: 0.6250\n",
            "Epoch 137/300\n",
            "6/6 [==============================] - 0s 7ms/step - loss: 0.3499 - accuracy: 0.9062 - val_loss: 0.8802 - val_accuracy: 0.6458\n",
            "Epoch 138/300\n",
            "6/6 [==============================] - 0s 7ms/step - loss: 0.3078 - accuracy: 0.9323 - val_loss: 0.8778 - val_accuracy: 0.6458\n",
            "Epoch 139/300\n",
            "6/6 [==============================] - 0s 7ms/step - loss: 0.3254 - accuracy: 0.9115 - val_loss: 0.8770 - val_accuracy: 0.6458\n",
            "Epoch 140/300\n",
            "6/6 [==============================] - 0s 7ms/step - loss: 0.3803 - accuracy: 0.8854 - val_loss: 0.8788 - val_accuracy: 0.6458\n",
            "Epoch 141/300\n",
            "6/6 [==============================] - 0s 7ms/step - loss: 0.3111 - accuracy: 0.9271 - val_loss: 0.8824 - val_accuracy: 0.6458\n",
            "Epoch 142/300\n",
            "6/6 [==============================] - 0s 7ms/step - loss: 0.3094 - accuracy: 0.9271 - val_loss: 0.8825 - val_accuracy: 0.6458\n",
            "Epoch 143/300\n",
            "6/6 [==============================] - 0s 10ms/step - loss: 0.3016 - accuracy: 0.9167 - val_loss: 0.8820 - val_accuracy: 0.6458\n",
            "Epoch 144/300\n",
            "6/6 [==============================] - 0s 7ms/step - loss: 0.3283 - accuracy: 0.9167 - val_loss: 0.8800 - val_accuracy: 0.6458\n",
            "Epoch 145/300\n",
            "6/6 [==============================] - 0s 8ms/step - loss: 0.3139 - accuracy: 0.9219 - val_loss: 0.8793 - val_accuracy: 0.6458\n",
            "Epoch 146/300\n",
            "6/6 [==============================] - 0s 8ms/step - loss: 0.3483 - accuracy: 0.8854 - val_loss: 0.8807 - val_accuracy: 0.6458\n",
            "Epoch 147/300\n",
            "6/6 [==============================] - 0s 11ms/step - loss: 0.3015 - accuracy: 0.9010 - val_loss: 0.8802 - val_accuracy: 0.6458\n",
            "Epoch 148/300\n",
            "6/6 [==============================] - 0s 7ms/step - loss: 0.2900 - accuracy: 0.9271 - val_loss: 0.8826 - val_accuracy: 0.6458\n",
            "Epoch 149/300\n",
            "6/6 [==============================] - 0s 10ms/step - loss: 0.3339 - accuracy: 0.8802 - val_loss: 0.8855 - val_accuracy: 0.6250\n",
            "Epoch 150/300\n",
            "6/6 [==============================] - 0s 10ms/step - loss: 0.3387 - accuracy: 0.8750 - val_loss: 0.8843 - val_accuracy: 0.6250\n",
            "Epoch 151/300\n",
            "6/6 [==============================] - 0s 10ms/step - loss: 0.3058 - accuracy: 0.9115 - val_loss: 0.8839 - val_accuracy: 0.6250\n",
            "Epoch 152/300\n",
            "6/6 [==============================] - 0s 11ms/step - loss: 0.3290 - accuracy: 0.8854 - val_loss: 0.8827 - val_accuracy: 0.6458\n",
            "Epoch 153/300\n",
            "6/6 [==============================] - 0s 8ms/step - loss: 0.2808 - accuracy: 0.9115 - val_loss: 0.8848 - val_accuracy: 0.6458\n",
            "Epoch 154/300\n",
            "6/6 [==============================] - 0s 7ms/step - loss: 0.2926 - accuracy: 0.9323 - val_loss: 0.8848 - val_accuracy: 0.6250\n",
            "Epoch 155/300\n",
            "6/6 [==============================] - 0s 8ms/step - loss: 0.2833 - accuracy: 0.9427 - val_loss: 0.8849 - val_accuracy: 0.6250\n",
            "Epoch 156/300\n",
            "6/6 [==============================] - 0s 10ms/step - loss: 0.2709 - accuracy: 0.9479 - val_loss: 0.8855 - val_accuracy: 0.6250\n",
            "Epoch 157/300\n",
            "6/6 [==============================] - 0s 11ms/step - loss: 0.2712 - accuracy: 0.9323 - val_loss: 0.8840 - val_accuracy: 0.6250\n",
            "Epoch 158/300\n",
            "6/6 [==============================] - 0s 11ms/step - loss: 0.2809 - accuracy: 0.9219 - val_loss: 0.8836 - val_accuracy: 0.6250\n",
            "Epoch 159/300\n",
            "6/6 [==============================] - 0s 10ms/step - loss: 0.2942 - accuracy: 0.9271 - val_loss: 0.8831 - val_accuracy: 0.6250\n",
            "Epoch 160/300\n",
            "6/6 [==============================] - 0s 8ms/step - loss: 0.2788 - accuracy: 0.9219 - val_loss: 0.8834 - val_accuracy: 0.6042\n",
            "Epoch 161/300\n",
            "6/6 [==============================] - 0s 7ms/step - loss: 0.2762 - accuracy: 0.9271 - val_loss: 0.8838 - val_accuracy: 0.6042\n",
            "Epoch 162/300\n",
            "6/6 [==============================] - 0s 7ms/step - loss: 0.2725 - accuracy: 0.9062 - val_loss: 0.8825 - val_accuracy: 0.6042\n",
            "Epoch 163/300\n",
            "6/6 [==============================] - 0s 10ms/step - loss: 0.3580 - accuracy: 0.8802 - val_loss: 0.8846 - val_accuracy: 0.6250\n",
            "Epoch 164/300\n",
            "6/6 [==============================] - 0s 8ms/step - loss: 0.2406 - accuracy: 0.9479 - val_loss: 0.8868 - val_accuracy: 0.6250\n",
            "Epoch 165/300\n",
            "6/6 [==============================] - 0s 7ms/step - loss: 0.2678 - accuracy: 0.9115 - val_loss: 0.8898 - val_accuracy: 0.6250\n",
            "Epoch 166/300\n",
            "6/6 [==============================] - 0s 7ms/step - loss: 0.2667 - accuracy: 0.9323 - val_loss: 0.8886 - val_accuracy: 0.6250\n",
            "Epoch 167/300\n",
            "6/6 [==============================] - 0s 10ms/step - loss: 0.2524 - accuracy: 0.9427 - val_loss: 0.8877 - val_accuracy: 0.6042\n",
            "Epoch 168/300\n",
            "6/6 [==============================] - 0s 7ms/step - loss: 0.2754 - accuracy: 0.9271 - val_loss: 0.8865 - val_accuracy: 0.6042\n",
            "Epoch 169/300\n",
            "6/6 [==============================] - 0s 7ms/step - loss: 0.2545 - accuracy: 0.9479 - val_loss: 0.8851 - val_accuracy: 0.6250\n",
            "Epoch 170/300\n",
            "6/6 [==============================] - 0s 7ms/step - loss: 0.2804 - accuracy: 0.9115 - val_loss: 0.8854 - val_accuracy: 0.6250\n",
            "Epoch 171/300\n",
            "6/6 [==============================] - 0s 7ms/step - loss: 0.2453 - accuracy: 0.9479 - val_loss: 0.8843 - val_accuracy: 0.6250\n",
            "Epoch 172/300\n",
            "6/6 [==============================] - 0s 12ms/step - loss: 0.2838 - accuracy: 0.9010 - val_loss: 0.8826 - val_accuracy: 0.6042\n",
            "Epoch 173/300\n",
            "6/6 [==============================] - 0s 12ms/step - loss: 0.2318 - accuracy: 0.9427 - val_loss: 0.8843 - val_accuracy: 0.6042\n",
            "Epoch 174/300\n",
            "6/6 [==============================] - 0s 13ms/step - loss: 0.2289 - accuracy: 0.9635 - val_loss: 0.8862 - val_accuracy: 0.6250\n",
            "Epoch 175/300\n",
            "6/6 [==============================] - 0s 10ms/step - loss: 0.2736 - accuracy: 0.9167 - val_loss: 0.8871 - val_accuracy: 0.6250\n",
            "Epoch 176/300\n",
            "6/6 [==============================] - 0s 14ms/step - loss: 0.2734 - accuracy: 0.9323 - val_loss: 0.8853 - val_accuracy: 0.6250\n",
            "Epoch 177/300\n",
            "6/6 [==============================] - 0s 13ms/step - loss: 0.2727 - accuracy: 0.9479 - val_loss: 0.8866 - val_accuracy: 0.6250\n",
            "Epoch 178/300\n",
            "6/6 [==============================] - 0s 10ms/step - loss: 0.2362 - accuracy: 0.9531 - val_loss: 0.8846 - val_accuracy: 0.6250\n",
            "Epoch 179/300\n",
            "6/6 [==============================] - 0s 13ms/step - loss: 0.2596 - accuracy: 0.9531 - val_loss: 0.8848 - val_accuracy: 0.6250\n",
            "Epoch 180/300\n",
            "6/6 [==============================] - 0s 14ms/step - loss: 0.2184 - accuracy: 0.9427 - val_loss: 0.8863 - val_accuracy: 0.6250\n",
            "Epoch 181/300\n",
            "6/6 [==============================] - 0s 14ms/step - loss: 0.2497 - accuracy: 0.9167 - val_loss: 0.8875 - val_accuracy: 0.6250\n",
            "Epoch 182/300\n",
            "6/6 [==============================] - 0s 14ms/step - loss: 0.2340 - accuracy: 0.9479 - val_loss: 0.8855 - val_accuracy: 0.6250\n",
            "Epoch 183/300\n",
            "6/6 [==============================] - 0s 14ms/step - loss: 0.2491 - accuracy: 0.9323 - val_loss: 0.8874 - val_accuracy: 0.6250\n",
            "Epoch 184/300\n",
            "6/6 [==============================] - 0s 11ms/step - loss: 0.2739 - accuracy: 0.9167 - val_loss: 0.8881 - val_accuracy: 0.6458\n",
            "Epoch 185/300\n",
            "6/6 [==============================] - 0s 13ms/step - loss: 0.2426 - accuracy: 0.9323 - val_loss: 0.8892 - val_accuracy: 0.6458\n",
            "Epoch 186/300\n",
            "6/6 [==============================] - 0s 11ms/step - loss: 0.2393 - accuracy: 0.9219 - val_loss: 0.8914 - val_accuracy: 0.6458\n",
            "Epoch 187/300\n",
            "6/6 [==============================] - 0s 10ms/step - loss: 0.2797 - accuracy: 0.9115 - val_loss: 0.8955 - val_accuracy: 0.6458\n",
            "Epoch 188/300\n",
            "6/6 [==============================] - 0s 13ms/step - loss: 0.2119 - accuracy: 0.9531 - val_loss: 0.8978 - val_accuracy: 0.6458\n",
            "Epoch 189/300\n",
            "6/6 [==============================] - 0s 10ms/step - loss: 0.2322 - accuracy: 0.9479 - val_loss: 0.8952 - val_accuracy: 0.6458\n"
          ]
        }
      ]
    },
    {
      "cell_type": "markdown",
      "source": [
        "## Evaluation"
      ],
      "metadata": {
        "id": "nFmMie__MO6Q"
      }
    },
    {
      "cell_type": "code",
      "metadata": {
        "colab": {
          "base_uri": "https://localhost:8080/",
          "height": 507
        },
        "id": "38226028",
        "outputId": "409e3d5c-57d3-445c-f7c5-486582560515"
      },
      "source": [
        "import matplotlib.pyplot as plt\n",
        "\n",
        "# Extract training and validation metrics\n",
        "history_dict = history.history\n",
        "acc = history_dict.get('accuracy', [])\n",
        "val_acc = history_dict.get('val_accuracy', [])\n",
        "loss = history_dict.get('loss', [])\n",
        "val_loss = history_dict.get('val_loss', [])\n",
        "\n",
        "epochs = range(1, len(acc) + 1)\n",
        "\n",
        "plt.figure(figsize=(12, 5))\n",
        "\n",
        "# Accuracy plot\n",
        "plt.subplot(1, 2, 1)\n",
        "plt.plot(epochs, acc, 'b-', label='Train Accuracy')\n",
        "if val_acc:\n",
        "    plt.plot(epochs, val_acc, 'r-', label='Val Accuracy')\n",
        "plt.title('Accuracy over Epochs')\n",
        "plt.xlabel('Epochs')\n",
        "plt.ylabel('Accuracy')\n",
        "plt.legend()\n",
        "\n",
        "# Loss plot\n",
        "plt.subplot(1, 2, 2)\n",
        "plt.plot(epochs, loss, 'b-', label='Train Loss')\n",
        "if val_loss:\n",
        "    plt.plot(epochs, val_loss, 'r-', label='Val Loss')\n",
        "plt.title('Loss over Epochs')\n",
        "plt.xlabel('Epochs')\n",
        "plt.ylabel('Loss')\n",
        "plt.legend()\n",
        "\n",
        "plt.tight_layout()\n",
        "plt.show()\n"
      ],
      "execution_count": 162,
      "outputs": [
        {
          "output_type": "display_data",
          "data": {
            "text/plain": [
              "<Figure size 1200x500 with 2 Axes>"
            ],
            "image/png": "[encoded data removed]"
          },
          "metadata": {}
        }
      ]
    },
    {
      "cell_type": "markdown",
      "source": [
        "## Acuracy"
      ],
      "metadata": {
        "id": "jnc2DJ-wtYGT"
      }
    },
    {
      "cell_type": "code",
      "source": [
        "loss, acc = model.evaluate(x_test, y_test, verbose=0)\n",
        "print(f\"Val Accuracy: {acc:.1%}\")\n"
      ],
      "metadata": {
        "id": "1r0noPUdIkGZ",
        "colab": {
          "base_uri": "https://localhost:8080/"
        },
        "outputId": "0312749c-2804-481f-a3e6-9785e0822ba3"
      },
      "execution_count": 168,
      "outputs": [
        {
          "output_type": "stream",
          "name": "stdout",
          "text": [
            "Val Accuracy: 58.3%\n"
          ]
        }
      ]
    },
    {
      "cell_type": "code",
      "source": [
        "from sklearn.metrics import confusion_matrix, classification_report\n",
        "import seaborn as sns\n",
        "import matplotlib.pyplot as plt\n",
        "\n",
        "# Predict class indices\n",
        "y_pred = model.predict(x_test)\n",
        "y_pred_classes = y_pred.argmax(axis=1)\n",
        "\n",
        "# Confusion matrix\n",
        "cm = confusion_matrix(y_test, y_pred_classes)\n",
        "\n",
        "# Visualize\n",
        "plt.figure(figsize=(8, 6))\n",
        "sns.heatmap(cm, annot=True, fmt='d', cmap='Blues', xticklabels=class_names, yticklabels=class_names)\n",
        "plt.xlabel('Predicted')\n",
        "plt.ylabel('True')\n",
        "plt.title('Confusion Matrix')\n",
        "# plt.legend()\n",
        "plt.show()\n"
      ],
      "metadata": {
        "colab": {
          "base_uri": "https://localhost:8080/",
          "height": 691
        },
        "id": "VFH0K7-oQRkC",
        "outputId": "0b2af793-cbbf-419b-c8b5-3152743f1e12"
      },
      "execution_count": 170,
      "outputs": [
        {
          "output_type": "stream",
          "name": "stdout",
          "text": [
            "1/1 [==============================] - 0s 18ms/step\n"
          ]
        },
        {
          "output_type": "display_data",
          "data": {
            "text/plain": [
              "<Figure size 800x600 with 2 Axes>"
            ],
            "image/png": "[encoded data removed]"
          },
          "metadata": {}
        }
      ]
    },
    {
      "cell_type": "code",
      "source": [
        "# Detailed per-class performance\n",
        "print(classification_report(y_test, y_pred_classes, target_names=class_names))\n"
      ],
      "metadata": {
        "colab": {
          "base_uri": "https://localhost:8080/"
        },
        "id": "XVfz-wAwQ1g1",
        "outputId": "4527d1b8-6745-41e3-d2b1-49c8d77a52ef"
      },
      "execution_count": 171,
      "outputs": [
        {
          "output_type": "stream",
          "name": "stdout",
          "text": [
            "                    precision    recall  f1-score   support\n",
            "\n",
            "       valid_title       1.00      0.67      0.80         3\n",
            "   background_task       1.00      0.33      0.50         3\n",
            "          meetings       0.38      0.75      0.50         4\n",
            "     general_tasks       0.75      0.60      0.67         5\n",
            "general_activities       0.80      0.80      0.80         5\n",
            "     project_tasks       0.25      0.25      0.25         4\n",
            "\n",
            "          accuracy                           0.58        24\n",
            "         macro avg       0.70      0.57      0.59        24\n",
            "      weighted avg       0.68      0.58      0.59        24\n",
            "\n"
          ]
        }
      ]
    },
    {
      "cell_type": "markdown",
      "source": [
        "## see wrong result"
      ],
      "metadata": {
        "id": "l5eQUAgSgjlY"
      }
    },
    {
      "cell_type": "code",
      "source": [
        "new_sentences = [\"my app v1\", \"works on container orchestration setup\", \"works on analytics dashboard\", \"eating a little pizza for a minute and wrote a code\", \"catchup with mr x\", \"Quarterly system architecture review meeting\"]\n",
        "new_sentences = background_task\n",
        "new_input = to_sparse(new_sentences)\n",
        "new_embeddings = embed_fn(**new_input)['default']\n",
        "unseen_data_predictions = model.predict(new_embeddings)\n",
        "predicted_labels_unseen = unseen_data_predictions.argmax(axis=1)\n",
        "\n",
        "# Create a dictionary to store results\n",
        "results_dict = {}\n",
        "for i, label in enumerate(predicted_labels_unseen):\n",
        "    class_name = class_names[label]\n",
        "    if class_name not in results_dict:\n",
        "        results_dict[class_name] = []\n",
        "    results_dict[class_name].append(new_sentences[i])\n",
        "\n",
        "print(\"Predicted classes for new sentences:\")\n",
        "display(results_dict)"
      ],
      "metadata": {
        "id": "Va981srmIqZl",
        "colab": {
          "base_uri": "https://localhost:8080/",
          "height": 912
        },
        "outputId": "e0fa836f-046a-4112-df24-0b6fddef3382"
      },
      "execution_count": 172,
      "outputs": [
        {
          "output_type": "stream",
          "name": "stdout",
          "text": [
            "2/2 [==============================] - 0s 3ms/step\n",
            "Predicted classes for new sentences:\n"
          ]
        },
        {
          "output_type": "display_data",
          "data": {
            "text/plain": [
              "{'background_task': ['Test backup and recovery systems',\n",
              "  'setting up ci/cd',\n",
              "  'configuring docker',\n",
              "  'writing api spec',\n",
              "  'deploying app',\n",
              "  'refactoring code',\n",
              "  'writing documentation',\n",
              "  'Create and document engineering standards and guidelines',\n",
              "  'resolving merge conflicts',\n",
              "  'committing changes',\n",
              "  'optimizing database',\n",
              "  'setting up continuous integration and deployment pipelines',\n",
              "  'docker container configuration',\n",
              "  'api contract documentation',\n",
              "  'application deployment to production',\n",
              "  'codebase refactoring',\n",
              "  'technical documentation creation',\n",
              "  'resolving git merge conflicts',\n",
              "  'pushing code to remote repository',\n",
              "  'committing code changes',\n",
              "  'project backlog grooming',\n",
              "  'writing user guides',\n",
              "  'resolving version control conflicts',\n",
              "  'deploying a new service',\n",
              "  'improving database query performance',\n",
              "  'Implement preventive measures',\n",
              "  'ensure all the component are reusable',\n",
              "  'ensure the component are easily sharable',\n",
              "  'Ensure GDPR and SOC2 compliance in new features',\n",
              "  'updating documentation'],\n",
              " 'project_tasks': ['database performance optimization',\n",
              "  'configuring build automation',\n",
              "  'reduce app bundle size',\n",
              "  'writing comprehensive unit tests for a module',\n",
              "  'investigating and fixing a memory leak issue',\n",
              "  'works on error tracking implementation',\n",
              "  'developing a reusable component for a new page',\n",
              "  'conducting performance benchmarking for the application',\n",
              "  'works on data migration scripts',\n",
              "  'investigating memory issues in frontend components'],\n",
              " 'general_tasks': ['Developer Experience Enhancement',\n",
              "  'writing unit tests',\n",
              "  'conducting technical research',\n",
              "  'updating technical specifications',\n",
              "  'addressing static analysis warnings',\n",
              "  'fixing linter issues'],\n",
              " 'valid_title': ['monitor app usage tracking']}"
            ]
          },
          "metadata": {}
        }
      ]
    },
    {
      "cell_type": "markdown",
      "source": [
        "# Save Model"
      ],
      "metadata": {
        "id": "LggwnI-Nyf3R"
      }
    },
    {
      "cell_type": "code",
      "source": [
        "model.save('saved_model.h5')"
      ],
      "metadata": {
        "id": "E82qmSaGU4qs",
        "colab": {
          "base_uri": "https://localhost:8080/"
        },
        "outputId": "8a05689f-5f44-4d3c-88d9-d81f4032b9c7"
      },
      "execution_count": 167,
      "outputs": [
        {
          "output_type": "stream",
          "name": "stderr",
          "text": [
            "/usr/local/lib/python3.11/dist-packages/tf_keras/src/engine/training.py:3098: UserWarning: You are saving your model as an HDF5 file via `model.save()`. This file format is considered legacy. We recommend using instead the native TF-Keras format, e.g. `model.save('my_model.keras')`.\n",
            "  saving_api.save_model(\n"
          ]
        }
      ]
    },
    {
      "cell_type": "code",
      "metadata": {
        "id": "a99b1054"
      },
      "source": [],
      "execution_count": 167,
      "outputs": []
    }
  ]
}