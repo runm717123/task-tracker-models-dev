{
  "nbformat": 4,
  "nbformat_minor": 0,
  "metadata": {
    "colab": {
      "provenance": [],
      "toc_visible": true
    },
    "kernelspec": {
      "name": "python3",
      "display_name": "Python 3"
    },
    "language_info": {
      "name": "python"
    }
  },
  "cells": [
    {
      "cell_type": "code",
      "source": [
        "from google.colab import drive\n",
        "drive.mount('/content/drive')\n",
        "\n",
        "# you can obtain the model from https://www.kaggle.com/models/google/universal-sentence-encoder/tensorFlow1/lite\n",
        "# pick the Tensorflow1 lite version model"
      ],
      "metadata": {
        "id": "_VGxoT5r_oDv",
        "colab": {
          "base_uri": "https://localhost:8080/"
        },
        "outputId": "4f3f1de9-74ed-416c-fb50-d54cd6f688b4"
      },
      "execution_count": 1,
      "outputs": [
        {
          "output_type": "stream",
          "name": "stdout",
          "text": [
            "Mounted at /content/drive\n"
          ]
        }
      ]
    },
    {
      "cell_type": "code",
      "source": [
        "import os\n",
        "\n",
        "# this is necessary for tensorflowjswizard\n",
        "os.environ[\"TF_USE_LEGACY_KERAS\"] = \"1\""
      ],
      "metadata": {
        "id": "ZWCwN_S_bh0_"
      },
      "execution_count": 2,
      "outputs": []
    },
    {
      "cell_type": "markdown",
      "source": [
        "# Import & Model load"
      ],
      "metadata": {
        "id": "MajeDX0rDZ0p"
      }
    },
    {
      "cell_type": "code",
      "source": [
        "use_model_path = '/content/drive/MyDrive/ndev-task-tracker/universal-sentence-encoder-tensorflow1-lite-v2'"
      ],
      "metadata": {
        "id": "sIJuwjgJCT0a"
      },
      "execution_count": 3,
      "outputs": []
    },
    {
      "cell_type": "code",
      "execution_count": 103,
      "metadata": {
        "id": "d3c6kMfR-DXU"
      },
      "outputs": [],
      "source": [
        "import tensorflow as tf\n",
        "import tensorflow_hub as hub\n",
        "import numpy as np\n",
        "import sentencepiece as spm\n",
        "from sklearn.model_selection import train_test_split\n",
        "from tensorflow.keras.callbacks import EarlyStopping"
      ]
    },
    {
      "cell_type": "code",
      "source": [
        "print(tf.__version__)"
      ],
      "metadata": {
        "id": "RcIej57UViGc",
        "colab": {
          "base_uri": "https://localhost:8080/"
        },
        "outputId": "86df2967-a722-489c-8eae-1bd83bdc43f5"
      },
      "execution_count": 5,
      "outputs": [
        {
          "output_type": "stream",
          "name": "stdout",
          "text": [
            "2.18.0\n"
          ]
        }
      ]
    },
    {
      "cell_type": "code",
      "source": [
        "embed = hub.load(use_model_path)\n",
        "sp = spm.SentencePieceProcessor()\n",
        "sp.load(f\"{use_model_path}/assets/universal_encoder_8k_spm.model\")"
      ],
      "metadata": {
        "id": "3hrsnhhuPuui",
        "colab": {
          "base_uri": "https://localhost:8080/"
        },
        "outputId": "665c5eff-4e9e-4768-cb56-c7f1d4710606"
      },
      "execution_count": 6,
      "outputs": [
        {
          "output_type": "stream",
          "name": "stderr",
          "text": [
            "WARNING:tensorflow:Unable to create a python object for variable <tf.Variable 'Embeddings_en:0' shape=(8002, 256) dtype=float32_ref> because it is a reference variable. It may not be visible to training APIs. If this is a problem, consider rebuilding the SavedModel after running tf.compat.v1.enable_resource_variables().\n",
            "WARNING:tensorflow:Unable to create a python object for variable <tf.Variable 'Encoder_en/KonaTransformer/Encode/Layer_0/TransformerLayer/layer_prepostprocess/layer_norm/layer_norm_scale/part_0:0' shape=(16,) dtype=float32_ref> because it is a reference variable. It may not be visible to training APIs. If this is a problem, consider rebuilding the SavedModel after running tf.compat.v1.enable_resource_variables().\n",
            "WARNING:tensorflow:Unable to create a python object for variable <tf.Variable 'Encoder_en/KonaTransformer/Encode/Layer_0/TransformerLayer/layer_prepostprocess/layer_norm/layer_norm_scale/part_1:0' shape=(16,) dtype=float32_ref> because it is a reference variable. It may not be visible to training APIs. If this is a problem, consider rebuilding the SavedModel after running tf.compat.v1.enable_resource_variables().\n",
            "WARNING:tensorflow:Unable to create a python object for variable <tf.Variable 'Encoder_en/KonaTransformer/Encode/Layer_0/TransformerLayer/layer_prepostprocess/layer_norm/layer_norm_scale/part_2:0' shape=(16,) dtype=float32_ref> because it is a reference variable. It may not be visible to training APIs. If this is a problem, consider rebuilding the SavedModel after running tf.compat.v1.enable_resource_variables().\n",
            "WARNING:tensorflow:Unable to create a python object for variable <tf.Variable 'Encoder_en/KonaTransformer/Encode/Layer_0/TransformerLayer/layer_prepostprocess/layer_norm/layer_norm_scale/part_3:0' shape=(16,) dtype=float32_ref> because it is a reference variable. It may not be visible to training APIs. If this is a problem, consider rebuilding the SavedModel after running tf.compat.v1.enable_resource_variables().\n",
            "WARNING:tensorflow:Unable to create a python object for variable <tf.Variable 'Embeddings_en:0' shape=(8002, 256) dtype=float32_ref> because it is a reference variable. It may not be visible to training APIs. If this is a problem, consider rebuilding the SavedModel after running tf.compat.v1.enable_resource_variables().\n",
            "WARNING:tensorflow:Unable to create a python object for variable <tf.Variable 'Encoder_en/KonaTransformer/Encode/Layer_0/TransformerLayer/layer_prepostprocess/layer_norm/layer_norm_scale/part_0:0' shape=(16,) dtype=float32_ref> because it is a reference variable. It may not be visible to training APIs. If this is a problem, consider rebuilding the SavedModel after running tf.compat.v1.enable_resource_variables().\n",
            "WARNING:tensorflow:Unable to create a python object for variable <tf.Variable 'Encoder_en/KonaTransformer/Encode/Layer_0/TransformerLayer/layer_prepostprocess/layer_norm/layer_norm_scale/part_1:0' shape=(16,) dtype=float32_ref> because it is a reference variable. It may not be visible to training APIs. If this is a problem, consider rebuilding the SavedModel after running tf.compat.v1.enable_resource_variables().\n",
            "WARNING:tensorflow:Unable to create a python object for variable <tf.Variable 'Encoder_en/KonaTransformer/Encode/Layer_0/TransformerLayer/layer_prepostprocess/layer_norm/layer_norm_scale/part_2:0' shape=(16,) dtype=float32_ref> because it is a reference variable. It may not be visible to training APIs. If this is a problem, consider rebuilding the SavedModel after running tf.compat.v1.enable_resource_variables().\n",
            "WARNING:tensorflow:Unable to create a python object for variable <tf.Variable 'Encoder_en/KonaTransformer/Encode/Layer_0/TransformerLayer/layer_prepostprocess/layer_norm/layer_norm_scale/part_3:0' shape=(16,) dtype=float32_ref> because it is a reference variable. It may not be visible to training APIs. If this is a problem, consider rebuilding the SavedModel after running tf.compat.v1.enable_resource_variables().\n",
            "WARNING:tensorflow:Unable to create a python object for variable <tf.Variable 'Embeddings_en:0' shape=(8002, 256) dtype=float32_ref> because it is a reference variable. It may not be visible to training APIs. If this is a problem, consider rebuilding the SavedModel after running tf.compat.v1.enable_resource_variables().\n",
            "WARNING:tensorflow:Unable to create a python object for variable <tf.Variable 'Encoder_en/KonaTransformer/Encode/Layer_0/TransformerLayer/layer_prepostprocess/layer_norm/layer_norm_scale/part_0:0' shape=(16,) dtype=float32_ref> because it is a reference variable. It may not be visible to training APIs. If this is a problem, consider rebuilding the SavedModel after running tf.compat.v1.enable_resource_variables().\n",
            "WARNING:tensorflow:Unable to create a python object for variable <tf.Variable 'Encoder_en/KonaTransformer/Encode/Layer_0/TransformerLayer/layer_prepostprocess/layer_norm/layer_norm_scale/part_1:0' shape=(16,) dtype=float32_ref> because it is a reference variable. It may not be visible to training APIs. If this is a problem, consider rebuilding the SavedModel after running tf.compat.v1.enable_resource_variables().\n",
            "WARNING:tensorflow:Unable to create a python object for variable <tf.Variable 'Encoder_en/KonaTransformer/Encode/Layer_0/TransformerLayer/layer_prepostprocess/layer_norm/layer_norm_scale/part_2:0' shape=(16,) dtype=float32_ref> because it is a reference variable. It may not be visible to training APIs. If this is a problem, consider rebuilding the SavedModel after running tf.compat.v1.enable_resource_variables().\n",
            "WARNING:tensorflow:Unable to create a python object for variable <tf.Variable 'Encoder_en/KonaTransformer/Encode/Layer_0/TransformerLayer/layer_prepostprocess/layer_norm/layer_norm_scale/part_3:0' shape=(16,) dtype=float32_ref> because it is a reference variable. It may not be visible to training APIs. If this is a problem, consider rebuilding the SavedModel after running tf.compat.v1.enable_resource_variables().\n",
            "WARNING:tensorflow:Unable to create a python object for variable <tf.Variable 'Embeddings_en:0' shape=(8002, 256) dtype=float32_ref> because it is a reference variable. It may not be visible to training APIs. If this is a problem, consider rebuilding the SavedModel after running tf.compat.v1.enable_resource_variables().\n",
            "WARNING:tensorflow:Unable to create a python object for variable <tf.Variable 'Encoder_en/KonaTransformer/Encode/Layer_0/TransformerLayer/layer_prepostprocess/layer_norm/layer_norm_scale/part_0:0' shape=(16,) dtype=float32_ref> because it is a reference variable. It may not be visible to training APIs. If this is a problem, consider rebuilding the SavedModel after running tf.compat.v1.enable_resource_variables().\n",
            "WARNING:tensorflow:Unable to create a python object for variable <tf.Variable 'Encoder_en/KonaTransformer/Encode/Layer_0/TransformerLayer/layer_prepostprocess/layer_norm/layer_norm_scale/part_1:0' shape=(16,) dtype=float32_ref> because it is a reference variable. It may not be visible to training APIs. If this is a problem, consider rebuilding the SavedModel after running tf.compat.v1.enable_resource_variables().\n",
            "WARNING:tensorflow:Unable to create a python object for variable <tf.Variable 'Encoder_en/KonaTransformer/Encode/Layer_0/TransformerLayer/layer_prepostprocess/layer_norm/layer_norm_scale/part_2:0' shape=(16,) dtype=float32_ref> because it is a reference variable. It may not be visible to training APIs. If this is a problem, consider rebuilding the SavedModel after running tf.compat.v1.enable_resource_variables().\n",
            "WARNING:tensorflow:Unable to create a python object for variable <tf.Variable 'Encoder_en/KonaTransformer/Encode/Layer_0/TransformerLayer/layer_prepostprocess/layer_norm/layer_norm_scale/part_3:0' shape=(16,) dtype=float32_ref> because it is a reference variable. It may not be visible to training APIs. If this is a problem, consider rebuilding the SavedModel after running tf.compat.v1.enable_resource_variables().\n"
          ]
        },
        {
          "output_type": "execute_result",
          "data": {
            "text/plain": [
              "True"
            ]
          },
          "metadata": {},
          "execution_count": 6
        }
      ]
    },
    {
      "cell_type": "code",
      "source": [
        "embed_fn = embed.signatures[\"default\"]"
      ],
      "metadata": {
        "id": "vWJ2hnRDD3l-"
      },
      "execution_count": 7,
      "outputs": []
    },
    {
      "cell_type": "markdown",
      "source": [
        "# Data Preparation"
      ],
      "metadata": {
        "id": "XXs6-avADiJs"
      }
    },
    {
      "cell_type": "code",
      "source": [
        "# USE Lite is designed to be smaller and mobile/web-friendly, so it does not contain its own tokenizer.\n",
        "# because the embed_fn signature of the Universal Sentence Encoder Lite model you loaded expects the input in this sparse format. If you tried to pass a dense tensor or just a list of token IDs directly, the model would likely throw an error.\n",
        "\n",
        "def to_sparse(sentences):\n",
        "    # Encode sentences to list of token ids\n",
        "    ids = [sp.encode(s) for s in sentences]\n",
        "\n",
        "    # Create values and indices for SparseTensor\n",
        "    values = [token for sent in ids for token in sent]\n",
        "    indices = [[i, j] for i, sent in enumerate(ids) for j in range(len(sent))]\n",
        "    dense_shape = [len(ids), max(len(sent) for sent in ids)]\n",
        "\n",
        "    # Convert to required tensors\n",
        "    return {\n",
        "        \"values\": tf.constant(values, dtype=tf.int64),\n",
        "        \"indices\": tf.constant(indices, dtype=tf.int64),\n",
        "        \"dense_shape\": tf.constant(dense_shape, dtype=tf.int64),\n",
        "    }\n"
      ],
      "metadata": {
        "id": "5LIS6TavFrT4"
      },
      "execution_count": 8,
      "outputs": []
    },
    {
      "cell_type": "markdown",
      "source": [
        "note: dataset size are not affecting the model size (explicitly)"
      ],
      "metadata": {
        "id": "uJ94nYlv5Ylj"
      }
    },
    {
      "cell_type": "code",
      "source": [
        "import os\n",
        "\n",
        "# NOTE: Universal sentence encoder is not case sensitive\n",
        "\n",
        "valid_title = [\n",
        "    \"project sprint 1\",\n",
        "    \"project sprint 5\",\n",
        "    \"project sprint 1.1\",\n",
        "    \"project sprint 5.1\",\n",
        "    \"taskhive dev\",\n",
        "    \"ndev task tracker\",\n",
        "    \"spenicle v1\",\n",
        "    \"zenventory\",\n",
        "    \"flownest\",\n",
        "    \"contact app\",\n",
        "    \"property web app\",\n",
        "    \"pronews\",\n",
        "    \"project sprint 5 beta\",\n",
        "    \"project sprint 5 milestone\",\n",
        "    \"DataSync Sprint 24 - Planning\",\n",
        "    \"NotificationEngine v1.3 - Multi-Cloud Strategy\",\n",
        "    \"NotificationEngine v2 - Mobile Push Implementation\",\n",
        "    \"glassdoor app - seo improvement\",\n",
        "]\n",
        "\n",
        "meetings = [\n",
        "    \"project backlog refinement\",\n",
        "    \"planning sprint\",\n",
        "    \"technical debt sprint planning\"\n",
        "    \"sprint retrospective session\",\n",
        "    \"designing system architecture\",\n",
        "    \"project discussion\",\n",
        "    \"soda\",\n",
        "    \"1:1 with manager\",\n",
        "    \"attending a meeting\",\n",
        "    \"developer catchup\",\n",
        "    \"daily standup\",\n",
        "    \"daily meeting\",\n",
        "    \"internal meeting\",\n",
        "    \"running daily standup\",\n",
        "    \"meeting with mr colleague\",\n",
        "    \"meet with mrs jane\",\n",
        "    \"daily scrum meeting\",\n",
        "    \"brainstorming session\",\n",
        "    \"weekly sync up\",\n",
        "    \"team meeting\",\n",
        "    \"client call\",\n",
        "    \"quarterly review\",\n",
        "    \"stand-up meeting\",\n",
        "    \"sync meeting\",\n",
        "    \"discussion with the team\",\n",
        "    \"meeting with stakeholders\",\n",
        "    \"project review meeting\",\n",
        "    \"technical discussion\",\n",
        "    \"design review meeting\",\n",
        "    \"planning meeting for next quarter\",\n",
        "    \"client demo session\",\n",
        "    \"internal team sync\",\n",
        "    \"meeting with product manager\",\n",
        "    \"daily huddle\",\n",
        "    \"weekly planning session\",\n",
        "    \"weekly progress demo\",\n",
        "    \"progress demonstration\",\n",
        "    \"Team - Junior Developer Mentoring\",\n",
        "    \"Team - Tech Leadership Sync\",\n",
        "    \"Team - Technical Interview\",\n",
        "    \"Team - Q3 Roadmap Presentation\",\n",
        "    \"Team - Tech Talk Organization\",\n",
        "    \"Team Mentoring Session\",\n",
        "    \"Emerging Tech Evaluation Workshop\",\n",
        "    \"Technical Debt Strategy Summit\",\n",
        "    \"Technical Mentorship Program\",\n",
        "]\n",
        "\n",
        "background_task = [\n",
        "    \"Test backup and recovery systems\",\n",
        "    \"setting up ci/cd\",\n",
        "    \"configuring docker\",\n",
        "    \"writing api spec\",\n",
        "    \"deploying app\",\n",
        "    \"refactoring code\",\n",
        "    \"writing documentation\",\n",
        "    \"Create and document engineering standards and guidelines\",\n",
        "    \"resolving merge conflicts\",\n",
        "    \"committing changes\",\n",
        "    \"optimizing database\",\n",
        "    \"managing backlog\",\n",
        "    \"setting up continuous integration and deployment pipelines\",\n",
        "    \"docker container configuration\",\n",
        "    \"api contract documentation\",\n",
        "    \"application deployment to production\",\n",
        "    \"codebase refactoring\",\n",
        "    \"technical documentation creation\",\n",
        "    \"resolving git merge conflicts\",\n",
        "    \"pushing code to remote repository\",\n",
        "    \"committing code changes\",\n",
        "    \"database performance optimization\",\n",
        "    \"project backlog grooming\",\n",
        "    \"configuring build automation\",\n",
        "    \"writing user guides\",\n",
        "    \"resolving version control conflicts\",\n",
        "    \"deploying a new service\",\n",
        "    \"improving database query performance\",\n",
        "    \"Implement preventive measures\",\n",
        "    \"Developer Experience Enhancement\",\n",
        "]\n",
        "\n",
        "general_tasks = [\n",
        "    \"writing code\",\n",
        "    \"fixing bugs\",\n",
        "    \"reviewing prs\",\n",
        "    \"Research emerging technologies\",\n",
        "    \"Review microservices architecture design\",\n",
        "    \"reviewing code\",\n",
        "    \"Review and update business continuity procedures\",\n",
        "    \"fixing linter issues\",\n",
        "    \"updating documentation\",\n",
        "    \"pair programming\",\n",
        "    \"resolving bugs\",\n",
        "    \"preparing presentation\",\n",
        "    \"presenting updates\",\n",
        "    \"discussing roadmap\",\n",
        "    \"collaborating on design\",\n",
        "    \"writing proposal\",\n",
        "    \"self explore\",\n",
        "    \"self research\",\n",
        "    \"Ensure GDPR and SOC2 compliance in new features\",\n",
        "    \"research and found issue with memory optimization in react components\",\n",
        "    \"bug research\",\n",
        "    \"debugging application errors\",\n",
        "    \"conducting code reviews\",\n",
        "    \"addressing static analysis warnings\",\n",
        "    \"updating technical specifications\",\n",
        "    \"collaborative coding session\",\n",
        "    \"troubleshooting and resolving software defects\",\n",
        "    \"creating slides for presentation\",\n",
        "    \"providing project updates\",\n",
        "    \"discussing project roadmap\",\n",
        "    \"collaborating on system design\",\n",
        "    \"writing a technical proposal\",\n",
        "    \"exploring new technologies for a project\",\n",
        "    \"conducting technical research\",\n",
        "    \"investigating memory issues in frontend components\",\n",
        "    \"researching software bugs\",\n",
        "    \"works on analytics dashboard\",\n",
        "    \"Organize tech talk series and knowledge sharing initiatives\",\n",
        "    \"Review data retention policies\",\n",
        "    \"Cost-benefit analysis for service migration\",\n",
        "    \"Lead incident response and post-mortem analysis\",\n",
        "    \"Define technology roadmap for next 18 months\",\n",
        "    \"Evaluate microservices vs monolith trade-offs\",\n",
        "    \"Analyze team velocity and plan resource allocation\",\n",
        "    \"Design unified architecture\",\n",
        "    \"Technology Risk Assessment\",\n",
        "]\n",
        "\n",
        "general_activities = [\n",
        "    \"afternoon prayer\",\n",
        "    \"watching a movie\",\n",
        "    \"playing games\",\n",
        "    \"eating out\",\n",
        "    \"scrolling tiktok\",\n",
        "    \"cooking dinner\",\n",
        "    \"taking a nap\",\n",
        "    \"chatting with friends\",\n",
        "    \"binge-watching netflix\",\n",
        "    \"reading a novel\",\n",
        "    \"doing laundry\",\n",
        "    \"shopping online\",\n",
        "    \"going to the mall\",\n",
        "    \"napping\",\n",
        "    \"watching youtube\",\n",
        "    \"cleaning room\",\n",
        "    \"going for a walk\",\n",
        "    \"checking social media\",\n",
        "    \"ordering food\",\n",
        "    \"scrolling instagram\",\n",
        "    \"taking a break\",\n",
        "    \"technical training\",\n",
        "    \"english class\",\n",
        "    \"compliance training session\",\n",
        "    \"web development security training\",\n",
        "    \"training assesment\",\n",
        "    \"prayer time in the afternoon\",\n",
        "    \"watching a film for leisure\",\n",
        "    \"playing video games for relaxation\",\n",
        "    \"dining at a restaurant\",\n",
        "    \"browsing short videos on tiktok\",\n",
        "    \"preparing a meal for dinner\",\n",
        "    \"taking a short rest\",\n",
        "    \"talking with colleagues informally\",\n",
        "    \"watching multiple episodes on netflix\",\n",
        "    \"reading a fiction book\",\n",
        "    \"doing the weekly laundry\",\n",
        "    \"purchasing items online\",\n",
        "    \"visiting a shopping mall\",\n",
        "    \"getting some sleep\",\n",
        "    \"watching videos on youtube for entertainment\",\n",
        "    \"tidying up the living space\",\n",
        "    \"going for a short walk outside\",\n",
        "    \"checking updates on social media platforms\",\n",
        "    \"ordering food for delivery\",\n",
        "    \"browsing photos and videos on instagram\",\n",
        "    \"taking a short pause from work\",\n",
        "    \"attending a technical skill building session\",\n",
        "    \"participating in an English language course\",\n",
        "    \"completing mandatory compliance training\",\n",
        "    \"attending a web security workshop\",\n",
        "    \"undergoing a training evaluation\"\n",
        "]\n",
        "\n",
        "# can be useful when no valid_title detected\n",
        "# this is a task title that not representing any specific project/client\n",
        "project_tasks = [\n",
        "    \"working on a new ui design\",\n",
        "    \"create new component for new page\",\n",
        "    \"resolve feedback: update the formatData approach\",\n",
        "    \"resolve feedback from mr. xxx\",\n",
        "    \"working on a new feature\",\n",
        "    \"working on the new drawer\",\n",
        "    \"adjust the page gdpr message\",\n",
        "    \"handle form submit behaviour\",\n",
        "    \"writing unit tests\",\n",
        "    \"debugging memory leak\",\n",
        "    \"benchmarking app\",\n",
        "    \"Distributed Systems Optimization\",\n",
        "    \"Edge Computing Architecture\",\n",
        "    \"Cloud Native Transformation\",\n",
        "    \"Platform Scalability Engineering\",\n",
        "    \"Advanced Database Architecture\",\n",
        "    \"Engineering Culture Evolution\",\n",
        "    \"Future Technology Roadmap\",\n",
        "    \"Technical Advisory Role\",\n",
        "    \"Technical Thought Leadership\",\n",
        "    \"Technology Patent Strategy\",\n",
        "    \"Technical Communication Strategy\",\n",
        "    \"Technical Excellence Program\",\n",
        "    \"AI Integration Strategy\",\n",
        "    \"works on progressive web app features\",\n",
        "    \"works on error tracking implementation\",\n",
        "    \"works on user interface improvements\",\n",
        "    \"works on data migration scripts\",\n",
        "    \"works on mobile responsive design\",\n",
        "    \"works on blockchain integration research\",\n",
        "    \"designing a new user interface for the application\",\n",
        "    \"developing a reusable component for a new page\",\n",
        "    \"addressing feedback on the data formatting logic\",\n",
        "    \"implementing changes based on feedback from a team member\",\n",
        "    \"building a new feature based on requirements\",\n",
        "    \"working on the implementation of a new navigation drawer\",\n",
        "    \"modifying the gdpr consent message displayed on the page\",\n",
        "    \"implementing the logic for form submission and validation\",\n",
        "    \"writing comprehensive unit tests for a module\",\n",
        "    \"investigating and fixing a memory leak issue\",\n",
        "    \"conducting performance benchmarking for the application\"\n",
        "]\n",
        "\n",
        "dataset_dict = {\n",
        "    \"valid_title\": valid_title,\n",
        "    \"background_task\": background_task,\n",
        "    \"meetings\": meetings,\n",
        "    \"general_tasks\": general_tasks,\n",
        "    \"general_activities\": general_activities,\n",
        "    \"project_tasks\": project_tasks,\n",
        "}"
      ],
      "metadata": {
        "id": "GAOMjZRqKDtt"
      },
      "execution_count": 35,
      "outputs": []
    },
    {
      "cell_type": "markdown",
      "source": [
        "## Back-translation\n",
        "\n",
        "english -> france -> english\n",
        "\n",
        "warning: this section can take long time\n",
        "\n",
        "this is not required to run, as the original dataset is quite sufficient"
      ],
      "metadata": {
        "id": "exzc1Y5KPNPf"
      }
    },
    {
      "cell_type": "code",
      "source": [
        "from transformers import MarianMTModel, MarianTokenizer\n",
        "\n",
        "# Load models for English → French and French → English\n",
        "en_to_fr_tokenizer = MarianTokenizer.from_pretrained(\"Helsinki-NLP/opus-mt-en-fr\")\n",
        "en_to_fr_model = MarianMTModel.from_pretrained(\"Helsinki-NLP/opus-mt-en-fr\")\n",
        "\n",
        "fr_to_en_tokenizer = MarianTokenizer.from_pretrained(\"Helsinki-NLP/opus-mt-fr-en\")\n",
        "fr_to_en_model = MarianMTModel.from_pretrained(\"Helsinki-NLP/opus-mt-fr-en\")\n"
      ],
      "metadata": {
        "id": "xVtr9mqiO6BJ"
      },
      "execution_count": null,
      "outputs": []
    },
    {
      "cell_type": "code",
      "source": [
        "def translate(text, tokenizer, model):\n",
        "    inputs = tokenizer.encode(text, return_tensors=\"pt\")\n",
        "    outputs = model.generate(inputs, max_length=64, num_beams=4, early_stopping=True)\n",
        "    return tokenizer.decode(outputs[0], skip_special_tokens=True)\n",
        "\n",
        "def back_translate(text):\n",
        "    \"\"\"\n",
        "    Performs back-translation from English to French and then back to English.\n",
        "\n",
        "    Returns:\n",
        "        str: The back-translated English text.\n",
        "    \"\"\"\n",
        "    fr_text = translate(text, en_to_fr_tokenizer, en_to_fr_model)\n",
        "    back_to_en = translate(fr_text, fr_to_en_tokenizer, fr_to_en_model)\n",
        "    return back_to_en"
      ],
      "metadata": {
        "id": "DpFtTtSJSTQg"
      },
      "execution_count": null,
      "outputs": []
    },
    {
      "cell_type": "code",
      "metadata": {
        "id": "457e0075-4d2b-47b3-85a2-19f7993cfc79",
        "collapsed": true
      },
      "source": [
        "background_task_bt = []\n",
        "meetings_bt = []\n",
        "general_tasks_bt = []\n",
        "general_activities_bt = []\n",
        "project_tasks_bt = []\n",
        "\n",
        "# Back-translate sentences for each category (excluding valid_title)\n",
        "for sentence in background_task:\n",
        "    background_task_bt.append(back_translate(sentence))\n",
        "\n",
        "for sentence in meetings:\n",
        "    meetings_bt.append(back_translate(sentence))\n",
        "\n",
        "for sentence in general_tasks:\n",
        "    general_tasks_bt.append(back_translate(sentence))\n",
        "\n",
        "for sentence in general_activities:\n",
        "    general_activities_bt.append(back_translate(sentence))\n",
        "\n",
        "for sentence in project_tasks:\n",
        "    project_tasks_bt.append(back_translate(sentence))\n",
        "\n",
        "\n",
        "print(\"Back-translated background_tasks:\", background_task_bt[:5])\n",
        "print(\"Back-translated meetings:\", meetings_bt[:5])\n",
        "print(\"Back-translated general_tasks:\", general_tasks_bt[:5])\n",
        "print(\"Back-translated general_activities:\", general_activities_bt[:5])\n",
        "print(\"Back-translated project_tasks:\", project_tasks_bt[:5])"
      ],
      "execution_count": null,
      "outputs": []
    },
    {
      "cell_type": "code",
      "source": [
        "import pickle\n",
        "\n",
        "# Create a dictionary to store the back-translated data\n",
        "back_translated_data_dict = {\n",
        "    \"background_task_bt\": background_task_bt,\n",
        "    \"meetings_bt\": meetings_bt,\n",
        "    \"general_tasks_bt\": general_tasks_bt,\n",
        "    \"general_activities_bt\": general_activities_bt,\n",
        "    \"project_tasks_bt\": project_tasks_bt\n",
        "}\n",
        "\n",
        "# Define the filename for the pickle file\n",
        "pickle_filename = \"back_translated_data.pkl\"\n",
        "\n",
        "# Save the dictionary to a pickle file\n",
        "with open(pickle_filename, 'wb') as f:\n",
        "    pickle.dump(back_translated_data_dict, f)\n",
        "\n",
        "print(f\"Back-translated data saved to {pickle_filename}\")"
      ],
      "metadata": {
        "id": "iwi2GJmXVOQM"
      },
      "execution_count": null,
      "outputs": []
    },
    {
      "cell_type": "markdown",
      "source": [
        "## Preprocessing"
      ],
      "metadata": {
        "id": "KCbp3tfEDsH3"
      }
    },
    {
      "cell_type": "code",
      "source": [
        "# for evaluation\n",
        "class_names = [\n",
        "    \"valid_title\",\n",
        "    \"background_task\",\n",
        "    \"meetings\",\n",
        "    \"general_tasks\",\n",
        "    \"general_activities\",\n",
        "    \"project_tasks\",\n",
        "]\n",
        "\n",
        "categories = [\n",
        "    valid_title,\n",
        "    background_task,\n",
        "    meetings,\n",
        "    general_tasks,\n",
        "    general_activities,\n",
        "    project_tasks\n",
        "]\n",
        "\n",
        "raw_data = [(item, label) for label, category in enumerate(categories) for item in category]\n",
        "\n",
        "print('You have ', len(raw_data), 'data points')"
      ],
      "metadata": {
        "colab": {
          "base_uri": "https://localhost:8080/"
        },
        "id": "jQVs5h4E_4o2",
        "outputId": "7b7f734c-9a37-48d1-92f3-b8ad9f86784b"
      },
      "execution_count": 36,
      "outputs": [
        {
          "output_type": "stream",
          "name": "stdout",
          "text": [
            "You have  232 data points\n"
          ]
        }
      ]
    },
    {
      "cell_type": "code",
      "source": [
        "sentences = []\n",
        "labels = []\n",
        "\n",
        "for sentence, label in raw_data:\n",
        "    sentences.append(sentence.lower())\n",
        "    labels.append(label)\n",
        "\n",
        "sentences = np.array(sentences)\n",
        "labels = np.array(labels)\n",
        "\n",
        "# Display the first few elements to verify\n",
        "print(f\"First 5 sentences: {sentences[:5]}\")\n",
        "print(f\"First 5 labels: {labels[:5]}\")"
      ],
      "metadata": {
        "colab": {
          "base_uri": "https://localhost:8080/"
        },
        "id": "FzTSb0KxA5D4",
        "outputId": "f4eb2243-13f7-4a58-d047-141ce53d7fa1"
      },
      "execution_count": 37,
      "outputs": [
        {
          "output_type": "stream",
          "name": "stdout",
          "text": [
            "First 5 sentences: ['project sprint 1' 'project sprint 5' 'project sprint 1.1'\n",
            " 'project sprint 5.1' 'taskhive dev']\n",
            "First 5 labels: [0 0 0 0 0]\n"
          ]
        }
      ]
    },
    {
      "cell_type": "code",
      "source": [
        "sparse_input = to_sparse(sentences)\n",
        "embeddings = embed_fn(**sparse_input)['default']"
      ],
      "metadata": {
        "id": "bBSB-3KmHrmJ"
      },
      "execution_count": 38,
      "outputs": []
    },
    {
      "cell_type": "markdown",
      "source": [
        "## Data splitting"
      ],
      "metadata": {
        "id": "Xo_2hR-cMxXU"
      }
    },
    {
      "cell_type": "code",
      "source": [
        "x_train, x_val, y_train, y_val = train_test_split(\n",
        "    embeddings.numpy(), labels, test_size=0.1, stratify=labels, random_state=7\n",
        ")\n",
        "\n",
        "print(len(x_train), len(x_val))"
      ],
      "metadata": {
        "colab": {
          "base_uri": "https://localhost:8080/"
        },
        "id": "6Y9VikDolr5W",
        "outputId": "87e139db-af3c-4d4c-ba59-ea6bc259a7d0"
      },
      "execution_count": 166,
      "outputs": [
        {
          "output_type": "stream",
          "name": "stdout",
          "text": [
            "208 24\n"
          ]
        }
      ]
    },
    {
      "cell_type": "code",
      "source": [
        "import collections\n",
        "\n",
        "# Check if y_val have proper distribution\n",
        "y_val_counts = collections.Counter(y_val)\n",
        "\n",
        "# Print the counts for each class\n",
        "print(\"Distribution of classes in y_val:\")\n",
        "for label, count in y_val_counts.items():\n",
        "    print(f\"Class {class_names[label]}: {count}\")"
      ],
      "metadata": {
        "colab": {
          "base_uri": "https://localhost:8080/"
        },
        "id": "bpEcKwnsssYf",
        "outputId": "09c139fb-84f0-48c2-9fd8-e28d533e1a66"
      },
      "execution_count": 167,
      "outputs": [
        {
          "output_type": "stream",
          "name": "stdout",
          "text": [
            "Distribution of classes in y_val:\n",
            "Class general_activities: 5\n",
            "Class project_tasks: 4\n",
            "Class valid_title: 2\n",
            "Class general_tasks: 5\n",
            "Class background_task: 3\n",
            "Class meetings: 5\n"
          ]
        }
      ]
    },
    {
      "cell_type": "markdown",
      "source": [
        "## prod setup"
      ],
      "metadata": {
        "id": "3cfTuLNsOJQa"
      }
    },
    {
      "cell_type": "code",
      "source": [
        "# combine all dataset for final result\n",
        "\n",
        "x_train = np.concatenate((x_train, x_val), axis=0)\n",
        "y_train = np.concatenate((y_train, y_val), axis=0)\n",
        "len(x_train)"
      ],
      "metadata": {
        "colab": {
          "base_uri": "https://localhost:8080/"
        },
        "id": "o7iyj6jWODi5",
        "outputId": "e49de409-2514-49b6-ed86-aec2dd8441d7"
      },
      "execution_count": 308,
      "outputs": [
        {
          "output_type": "execute_result",
          "data": {
            "text/plain": [
              "256"
            ]
          },
          "metadata": {},
          "execution_count": 308
        }
      ]
    },
    {
      "cell_type": "code",
      "source": [
        "x_train = tf.math.l2_normalize(x_train, axis=1)"
      ],
      "metadata": {
        "id": "iB7nYpmno91g"
      },
      "execution_count": 174,
      "outputs": []
    },
    {
      "cell_type": "markdown",
      "source": [
        "# Training"
      ],
      "metadata": {
        "id": "1RtrjQS7D4FN"
      }
    },
    {
      "cell_type": "code",
      "source": [
        "model = tf.keras.Sequential([\n",
        "    tf.keras.layers.Input(shape=(512,)),\n",
        "    tf.keras.layers.Dense(36, activation=\"relu\"),\n",
        "    tf.keras.layers.Dropout(0.3),\n",
        "    tf.keras.layers.Dense(6, activation=\"softmax\"),\n",
        "])\n",
        "\n",
        "model.compile(\n",
        "    optimizer=\"adam\",\n",
        "    loss=\"sparse_categorical_crossentropy\",\n",
        "    metrics=[\"accuracy\"]\n",
        ")\n",
        "\n",
        "early_stop = EarlyStopping(monitor='val_loss', patience=50, restore_best_weights=True)\n",
        "\n",
        "# considering a small dataset, and class imbalance\n",
        "# target ~75% acc, and .8 loss (for validation data)\n",
        "# try to get 15-20% validation data if possible\n",
        "history = model.fit(x_train, y_train, epochs=300, validation_split=0.15, callbacks=[early_stop])\n",
        "\n",
        "# note (hidden layer (n) x dropout x epoch)\n",
        "# 36-.2-200, 0.9 70%\n",
        "# 32-.2-200, 0.88 70%\n",
        "# 18-.2-300, 0.88 66%\n",
        "# 36-.3-300, 0.7 80%"
      ],
      "metadata": {
        "id": "p4-2xXAJ-RBb",
        "colab": {
          "base_uri": "https://localhost:8080/"
        },
        "outputId": "36af517d-44c5-4246-e989-e35f750ce44e",
        "collapsed": true
      },
      "execution_count": 309,
      "outputs": [
        {
          "output_type": "stream",
          "name": "stdout",
          "text": [
            "Epoch 1/300\n",
            "7/7 [==============================] - 1s 40ms/step - loss: 1.7767 - accuracy: 0.2488 - val_loss: 1.7596 - val_accuracy: 0.3333\n",
            "Epoch 2/300\n",
            "7/7 [==============================] - 0s 8ms/step - loss: 1.7273 - accuracy: 0.4286 - val_loss: 1.7349 - val_accuracy: 0.2821\n",
            "Epoch 3/300\n",
            "7/7 [==============================] - 0s 9ms/step - loss: 1.6822 - accuracy: 0.4793 - val_loss: 1.7050 - val_accuracy: 0.2564\n",
            "Epoch 4/300\n",
            "7/7 [==============================] - 0s 11ms/step - loss: 1.6367 - accuracy: 0.4977 - val_loss: 1.6691 - val_accuracy: 0.2564\n",
            "Epoch 5/300\n",
            "7/7 [==============================] - 0s 9ms/step - loss: 1.5859 - accuracy: 0.5207 - val_loss: 1.6339 - val_accuracy: 0.3077\n",
            "Epoch 6/300\n",
            "7/7 [==============================] - 0s 8ms/step - loss: 1.5362 - accuracy: 0.5300 - val_loss: 1.5933 - val_accuracy: 0.3590\n",
            "Epoch 7/300\n",
            "7/7 [==============================] - 0s 12ms/step - loss: 1.4749 - accuracy: 0.5945 - val_loss: 1.5547 - val_accuracy: 0.4103\n",
            "Epoch 8/300\n",
            "7/7 [==============================] - 0s 8ms/step - loss: 1.4302 - accuracy: 0.5253 - val_loss: 1.5180 - val_accuracy: 0.4103\n",
            "Epoch 9/300\n",
            "7/7 [==============================] - 0s 9ms/step - loss: 1.3795 - accuracy: 0.5576 - val_loss: 1.4796 - val_accuracy: 0.4615\n",
            "Epoch 10/300\n",
            "7/7 [==============================] - 0s 8ms/step - loss: 1.3243 - accuracy: 0.5760 - val_loss: 1.4398 - val_accuracy: 0.5128\n",
            "Epoch 11/300\n",
            "7/7 [==============================] - 0s 8ms/step - loss: 1.2762 - accuracy: 0.6083 - val_loss: 1.4031 - val_accuracy: 0.5128\n",
            "Epoch 12/300\n",
            "7/7 [==============================] - 0s 9ms/step - loss: 1.2088 - accuracy: 0.6406 - val_loss: 1.3700 - val_accuracy: 0.5641\n",
            "Epoch 13/300\n",
            "7/7 [==============================] - 0s 11ms/step - loss: 1.1956 - accuracy: 0.5899 - val_loss: 1.3370 - val_accuracy: 0.6154\n",
            "Epoch 14/300\n",
            "7/7 [==============================] - 0s 8ms/step - loss: 1.1363 - accuracy: 0.6359 - val_loss: 1.3096 - val_accuracy: 0.6154\n",
            "Epoch 15/300\n",
            "7/7 [==============================] - 0s 9ms/step - loss: 1.1095 - accuracy: 0.6820 - val_loss: 1.2814 - val_accuracy: 0.6410\n",
            "Epoch 16/300\n",
            "7/7 [==============================] - 0s 11ms/step - loss: 1.0713 - accuracy: 0.6912 - val_loss: 1.2573 - val_accuracy: 0.6410\n",
            "Epoch 17/300\n",
            "7/7 [==============================] - 0s 9ms/step - loss: 1.0316 - accuracy: 0.6636 - val_loss: 1.2345 - val_accuracy: 0.6410\n",
            "Epoch 18/300\n",
            "7/7 [==============================] - 0s 9ms/step - loss: 1.0306 - accuracy: 0.6912 - val_loss: 1.2067 - val_accuracy: 0.6410\n",
            "Epoch 19/300\n",
            "7/7 [==============================] - 0s 9ms/step - loss: 0.9957 - accuracy: 0.7005 - val_loss: 1.1842 - val_accuracy: 0.6667\n",
            "Epoch 20/300\n",
            "7/7 [==============================] - 0s 9ms/step - loss: 0.9299 - accuracy: 0.7373 - val_loss: 1.1624 - val_accuracy: 0.6667\n",
            "Epoch 21/300\n",
            "7/7 [==============================] - 0s 9ms/step - loss: 0.9325 - accuracy: 0.7281 - val_loss: 1.1443 - val_accuracy: 0.6667\n",
            "Epoch 22/300\n",
            "7/7 [==============================] - 0s 9ms/step - loss: 0.9166 - accuracy: 0.7051 - val_loss: 1.1268 - val_accuracy: 0.6667\n",
            "Epoch 23/300\n",
            "7/7 [==============================] - 0s 13ms/step - loss: 0.8640 - accuracy: 0.7512 - val_loss: 1.1087 - val_accuracy: 0.6667\n",
            "Epoch 24/300\n",
            "7/7 [==============================] - 0s 11ms/step - loss: 0.8552 - accuracy: 0.7696 - val_loss: 1.0888 - val_accuracy: 0.6667\n",
            "Epoch 25/300\n",
            "7/7 [==============================] - 0s 11ms/step - loss: 0.8339 - accuracy: 0.7788 - val_loss: 1.0736 - val_accuracy: 0.7179\n",
            "Epoch 26/300\n",
            "7/7 [==============================] - 0s 9ms/step - loss: 0.8137 - accuracy: 0.7880 - val_loss: 1.0572 - val_accuracy: 0.7179\n",
            "Epoch 27/300\n",
            "7/7 [==============================] - 0s 9ms/step - loss: 0.7856 - accuracy: 0.7788 - val_loss: 1.0395 - val_accuracy: 0.7179\n",
            "Epoch 28/300\n",
            "7/7 [==============================] - 0s 8ms/step - loss: 0.7544 - accuracy: 0.8111 - val_loss: 1.0245 - val_accuracy: 0.7179\n",
            "Epoch 29/300\n",
            "7/7 [==============================] - 0s 8ms/step - loss: 0.7707 - accuracy: 0.7880 - val_loss: 1.0124 - val_accuracy: 0.7179\n",
            "Epoch 30/300\n",
            "7/7 [==============================] - 0s 8ms/step - loss: 0.7541 - accuracy: 0.7742 - val_loss: 1.0002 - val_accuracy: 0.7179\n",
            "Epoch 31/300\n",
            "7/7 [==============================] - 0s 11ms/step - loss: 0.7338 - accuracy: 0.7972 - val_loss: 0.9874 - val_accuracy: 0.7179\n",
            "Epoch 32/300\n",
            "7/7 [==============================] - 0s 9ms/step - loss: 0.6945 - accuracy: 0.7926 - val_loss: 0.9762 - val_accuracy: 0.7179\n",
            "Epoch 33/300\n",
            "7/7 [==============================] - 0s 8ms/step - loss: 0.6867 - accuracy: 0.8111 - val_loss: 0.9653 - val_accuracy: 0.7179\n",
            "Epoch 34/300\n",
            "7/7 [==============================] - 0s 8ms/step - loss: 0.6616 - accuracy: 0.8249 - val_loss: 0.9562 - val_accuracy: 0.7179\n",
            "Epoch 35/300\n",
            "7/7 [==============================] - 0s 11ms/step - loss: 0.6678 - accuracy: 0.8249 - val_loss: 0.9440 - val_accuracy: 0.7179\n",
            "Epoch 36/300\n",
            "7/7 [==============================] - 0s 12ms/step - loss: 0.6372 - accuracy: 0.8295 - val_loss: 0.9337 - val_accuracy: 0.7179\n",
            "Epoch 37/300\n",
            "7/7 [==============================] - 0s 9ms/step - loss: 0.6426 - accuracy: 0.8203 - val_loss: 0.9231 - val_accuracy: 0.7179\n",
            "Epoch 38/300\n",
            "7/7 [==============================] - 0s 9ms/step - loss: 0.6033 - accuracy: 0.8341 - val_loss: 0.9111 - val_accuracy: 0.7179\n",
            "Epoch 39/300\n",
            "7/7 [==============================] - 0s 11ms/step - loss: 0.6115 - accuracy: 0.8433 - val_loss: 0.9020 - val_accuracy: 0.7179\n",
            "Epoch 40/300\n",
            "7/7 [==============================] - 0s 9ms/step - loss: 0.6148 - accuracy: 0.8525 - val_loss: 0.8906 - val_accuracy: 0.7179\n",
            "Epoch 41/300\n",
            "7/7 [==============================] - 0s 11ms/step - loss: 0.5580 - accuracy: 0.8433 - val_loss: 0.8807 - val_accuracy: 0.7179\n",
            "Epoch 42/300\n",
            "7/7 [==============================] - 0s 11ms/step - loss: 0.5741 - accuracy: 0.8479 - val_loss: 0.8716 - val_accuracy: 0.7179\n",
            "Epoch 43/300\n",
            "7/7 [==============================] - 0s 8ms/step - loss: 0.5628 - accuracy: 0.8618 - val_loss: 0.8618 - val_accuracy: 0.7179\n",
            "Epoch 44/300\n",
            "7/7 [==============================] - 0s 8ms/step - loss: 0.5579 - accuracy: 0.8618 - val_loss: 0.8543 - val_accuracy: 0.7179\n",
            "Epoch 45/300\n",
            "7/7 [==============================] - 0s 9ms/step - loss: 0.5053 - accuracy: 0.8894 - val_loss: 0.8457 - val_accuracy: 0.7179\n",
            "Epoch 46/300\n",
            "7/7 [==============================] - 0s 11ms/step - loss: 0.5207 - accuracy: 0.8525 - val_loss: 0.8406 - val_accuracy: 0.7179\n",
            "Epoch 47/300\n",
            "7/7 [==============================] - 0s 12ms/step - loss: 0.5061 - accuracy: 0.8618 - val_loss: 0.8355 - val_accuracy: 0.7179\n",
            "Epoch 48/300\n",
            "7/7 [==============================] - 0s 11ms/step - loss: 0.4969 - accuracy: 0.8710 - val_loss: 0.8300 - val_accuracy: 0.7436\n",
            "Epoch 49/300\n",
            "7/7 [==============================] - 0s 11ms/step - loss: 0.4656 - accuracy: 0.8986 - val_loss: 0.8242 - val_accuracy: 0.7436\n",
            "Epoch 50/300\n",
            "7/7 [==============================] - 0s 8ms/step - loss: 0.4919 - accuracy: 0.8571 - val_loss: 0.8197 - val_accuracy: 0.7436\n",
            "Epoch 51/300\n",
            "7/7 [==============================] - 0s 11ms/step - loss: 0.4631 - accuracy: 0.8756 - val_loss: 0.8188 - val_accuracy: 0.7436\n",
            "Epoch 52/300\n",
            "7/7 [==============================] - 0s 9ms/step - loss: 0.4894 - accuracy: 0.8571 - val_loss: 0.8114 - val_accuracy: 0.7692\n",
            "Epoch 53/300\n",
            "7/7 [==============================] - 0s 8ms/step - loss: 0.4483 - accuracy: 0.9124 - val_loss: 0.8064 - val_accuracy: 0.7692\n",
            "Epoch 54/300\n",
            "7/7 [==============================] - 0s 11ms/step - loss: 0.4711 - accuracy: 0.8802 - val_loss: 0.7998 - val_accuracy: 0.7692\n",
            "Epoch 55/300\n",
            "7/7 [==============================] - 0s 10ms/step - loss: 0.4646 - accuracy: 0.8940 - val_loss: 0.7952 - val_accuracy: 0.7692\n",
            "Epoch 56/300\n",
            "7/7 [==============================] - 0s 8ms/step - loss: 0.4315 - accuracy: 0.9124 - val_loss: 0.7908 - val_accuracy: 0.7692\n",
            "Epoch 57/300\n",
            "7/7 [==============================] - 0s 11ms/step - loss: 0.4240 - accuracy: 0.9124 - val_loss: 0.7822 - val_accuracy: 0.7692\n",
            "Epoch 58/300\n",
            "7/7 [==============================] - 0s 9ms/step - loss: 0.4138 - accuracy: 0.8986 - val_loss: 0.7740 - val_accuracy: 0.7692\n",
            "Epoch 59/300\n",
            "7/7 [==============================] - 0s 9ms/step - loss: 0.4069 - accuracy: 0.9032 - val_loss: 0.7716 - val_accuracy: 0.7692\n",
            "Epoch 60/300\n",
            "7/7 [==============================] - 0s 9ms/step - loss: 0.4305 - accuracy: 0.8848 - val_loss: 0.7659 - val_accuracy: 0.7692\n",
            "Epoch 61/300\n",
            "7/7 [==============================] - 0s 8ms/step - loss: 0.4346 - accuracy: 0.8848 - val_loss: 0.7623 - val_accuracy: 0.7692\n",
            "Epoch 62/300\n",
            "7/7 [==============================] - 0s 8ms/step - loss: 0.4111 - accuracy: 0.8940 - val_loss: 0.7545 - val_accuracy: 0.7692\n",
            "Epoch 63/300\n",
            "7/7 [==============================] - 0s 11ms/step - loss: 0.3983 - accuracy: 0.9401 - val_loss: 0.7488 - val_accuracy: 0.7692\n",
            "Epoch 64/300\n",
            "7/7 [==============================] - 0s 11ms/step - loss: 0.3557 - accuracy: 0.9124 - val_loss: 0.7453 - val_accuracy: 0.7692\n",
            "Epoch 65/300\n",
            "7/7 [==============================] - 0s 10ms/step - loss: 0.3752 - accuracy: 0.8940 - val_loss: 0.7460 - val_accuracy: 0.7692\n",
            "Epoch 66/300\n",
            "7/7 [==============================] - 0s 11ms/step - loss: 0.3822 - accuracy: 0.9124 - val_loss: 0.7407 - val_accuracy: 0.7692\n",
            "Epoch 67/300\n",
            "7/7 [==============================] - 0s 11ms/step - loss: 0.3241 - accuracy: 0.9309 - val_loss: 0.7354 - val_accuracy: 0.7692\n",
            "Epoch 68/300\n",
            "7/7 [==============================] - 0s 9ms/step - loss: 0.3463 - accuracy: 0.9355 - val_loss: 0.7358 - val_accuracy: 0.7692\n",
            "Epoch 69/300\n",
            "7/7 [==============================] - 0s 8ms/step - loss: 0.3456 - accuracy: 0.9263 - val_loss: 0.7280 - val_accuracy: 0.7692\n",
            "Epoch 70/300\n",
            "7/7 [==============================] - 0s 9ms/step - loss: 0.3297 - accuracy: 0.9355 - val_loss: 0.7225 - val_accuracy: 0.7692\n",
            "Epoch 71/300\n",
            "7/7 [==============================] - 0s 10ms/step - loss: 0.3612 - accuracy: 0.9217 - val_loss: 0.7189 - val_accuracy: 0.7692\n",
            "Epoch 72/300\n",
            "7/7 [==============================] - 0s 11ms/step - loss: 0.3178 - accuracy: 0.9309 - val_loss: 0.7143 - val_accuracy: 0.7692\n",
            "Epoch 73/300\n",
            "7/7 [==============================] - 0s 10ms/step - loss: 0.3234 - accuracy: 0.9124 - val_loss: 0.7147 - val_accuracy: 0.7692\n",
            "Epoch 74/300\n",
            "7/7 [==============================] - 0s 12ms/step - loss: 0.3014 - accuracy: 0.9263 - val_loss: 0.7119 - val_accuracy: 0.7692\n",
            "Epoch 75/300\n",
            "7/7 [==============================] - 0s 11ms/step - loss: 0.2973 - accuracy: 0.9447 - val_loss: 0.7063 - val_accuracy: 0.7692\n",
            "Epoch 76/300\n",
            "7/7 [==============================] - 0s 11ms/step - loss: 0.3297 - accuracy: 0.9309 - val_loss: 0.7048 - val_accuracy: 0.7692\n",
            "Epoch 77/300\n",
            "7/7 [==============================] - 0s 14ms/step - loss: 0.3007 - accuracy: 0.9309 - val_loss: 0.7017 - val_accuracy: 0.7692\n",
            "Epoch 78/300\n",
            "7/7 [==============================] - 0s 12ms/step - loss: 0.3008 - accuracy: 0.9493 - val_loss: 0.7023 - val_accuracy: 0.7692\n",
            "Epoch 79/300\n",
            "7/7 [==============================] - 0s 15ms/step - loss: 0.2956 - accuracy: 0.9355 - val_loss: 0.7035 - val_accuracy: 0.7692\n",
            "Epoch 80/300\n",
            "7/7 [==============================] - 0s 15ms/step - loss: 0.2822 - accuracy: 0.9401 - val_loss: 0.7027 - val_accuracy: 0.7692\n",
            "Epoch 81/300\n",
            "7/7 [==============================] - 0s 11ms/step - loss: 0.2875 - accuracy: 0.9631 - val_loss: 0.7031 - val_accuracy: 0.7692\n",
            "Epoch 82/300\n",
            "7/7 [==============================] - 0s 15ms/step - loss: 0.2990 - accuracy: 0.9355 - val_loss: 0.7001 - val_accuracy: 0.7692\n",
            "Epoch 83/300\n",
            "7/7 [==============================] - 0s 12ms/step - loss: 0.2563 - accuracy: 0.9401 - val_loss: 0.6970 - val_accuracy: 0.7692\n",
            "Epoch 84/300\n",
            "7/7 [==============================] - 0s 15ms/step - loss: 0.3052 - accuracy: 0.9355 - val_loss: 0.6896 - val_accuracy: 0.7692\n",
            "Epoch 85/300\n",
            "7/7 [==============================] - 0s 12ms/step - loss: 0.2958 - accuracy: 0.9401 - val_loss: 0.6840 - val_accuracy: 0.7692\n",
            "Epoch 86/300\n",
            "7/7 [==============================] - 0s 13ms/step - loss: 0.2581 - accuracy: 0.9724 - val_loss: 0.6817 - val_accuracy: 0.7692\n",
            "Epoch 87/300\n",
            "7/7 [==============================] - 0s 11ms/step - loss: 0.2551 - accuracy: 0.9401 - val_loss: 0.6810 - val_accuracy: 0.7692\n",
            "Epoch 88/300\n",
            "7/7 [==============================] - 0s 11ms/step - loss: 0.2609 - accuracy: 0.9447 - val_loss: 0.6829 - val_accuracy: 0.7692\n",
            "Epoch 89/300\n",
            "7/7 [==============================] - 0s 14ms/step - loss: 0.2475 - accuracy: 0.9493 - val_loss: 0.6831 - val_accuracy: 0.7949\n",
            "Epoch 90/300\n",
            "7/7 [==============================] - 0s 11ms/step - loss: 0.2593 - accuracy: 0.9539 - val_loss: 0.6820 - val_accuracy: 0.7949\n",
            "Epoch 91/300\n",
            "7/7 [==============================] - 0s 13ms/step - loss: 0.2763 - accuracy: 0.9401 - val_loss: 0.6778 - val_accuracy: 0.7949\n",
            "Epoch 92/300\n",
            "7/7 [==============================] - 0s 14ms/step - loss: 0.2537 - accuracy: 0.9585 - val_loss: 0.6720 - val_accuracy: 0.7692\n",
            "Epoch 93/300\n",
            "7/7 [==============================] - 0s 11ms/step - loss: 0.2353 - accuracy: 0.9585 - val_loss: 0.6680 - val_accuracy: 0.7692\n",
            "Epoch 94/300\n",
            "7/7 [==============================] - 0s 12ms/step - loss: 0.2348 - accuracy: 0.9493 - val_loss: 0.6753 - val_accuracy: 0.7692\n",
            "Epoch 95/300\n",
            "7/7 [==============================] - 0s 11ms/step - loss: 0.2161 - accuracy: 0.9770 - val_loss: 0.6798 - val_accuracy: 0.7949\n",
            "Epoch 96/300\n",
            "7/7 [==============================] - 0s 15ms/step - loss: 0.2310 - accuracy: 0.9539 - val_loss: 0.6791 - val_accuracy: 0.7949\n",
            "Epoch 97/300\n",
            "7/7 [==============================] - 0s 12ms/step - loss: 0.2284 - accuracy: 0.9585 - val_loss: 0.6718 - val_accuracy: 0.7692\n",
            "Epoch 98/300\n",
            "7/7 [==============================] - 0s 12ms/step - loss: 0.1822 - accuracy: 0.9816 - val_loss: 0.6661 - val_accuracy: 0.7692\n",
            "Epoch 99/300\n",
            "7/7 [==============================] - 0s 14ms/step - loss: 0.2029 - accuracy: 0.9770 - val_loss: 0.6634 - val_accuracy: 0.7949\n",
            "Epoch 100/300\n",
            "7/7 [==============================] - 0s 12ms/step - loss: 0.2047 - accuracy: 0.9677 - val_loss: 0.6700 - val_accuracy: 0.7949\n",
            "Epoch 101/300\n",
            "7/7 [==============================] - 0s 11ms/step - loss: 0.2165 - accuracy: 0.9401 - val_loss: 0.6721 - val_accuracy: 0.7949\n",
            "Epoch 102/300\n",
            "7/7 [==============================] - 0s 11ms/step - loss: 0.1969 - accuracy: 0.9539 - val_loss: 0.6700 - val_accuracy: 0.7949\n",
            "Epoch 103/300\n",
            "7/7 [==============================] - 0s 13ms/step - loss: 0.1993 - accuracy: 0.9677 - val_loss: 0.6663 - val_accuracy: 0.7949\n",
            "Epoch 104/300\n",
            "7/7 [==============================] - 0s 14ms/step - loss: 0.2037 - accuracy: 0.9585 - val_loss: 0.6564 - val_accuracy: 0.7949\n",
            "Epoch 105/300\n",
            "7/7 [==============================] - 0s 11ms/step - loss: 0.1905 - accuracy: 0.9539 - val_loss: 0.6484 - val_accuracy: 0.7949\n",
            "Epoch 106/300\n",
            "7/7 [==============================] - 0s 11ms/step - loss: 0.1947 - accuracy: 0.9724 - val_loss: 0.6438 - val_accuracy: 0.7949\n",
            "Epoch 107/300\n",
            "7/7 [==============================] - 0s 10ms/step - loss: 0.2030 - accuracy: 0.9816 - val_loss: 0.6469 - val_accuracy: 0.7949\n",
            "Epoch 108/300\n",
            "7/7 [==============================] - 0s 12ms/step - loss: 0.1993 - accuracy: 0.9724 - val_loss: 0.6469 - val_accuracy: 0.7949\n",
            "Epoch 109/300\n",
            "7/7 [==============================] - 0s 14ms/step - loss: 0.1919 - accuracy: 0.9770 - val_loss: 0.6495 - val_accuracy: 0.7949\n",
            "Epoch 110/300\n",
            "7/7 [==============================] - 0s 17ms/step - loss: 0.1799 - accuracy: 0.9631 - val_loss: 0.6570 - val_accuracy: 0.7949\n",
            "Epoch 111/300\n",
            "7/7 [==============================] - 0s 13ms/step - loss: 0.1869 - accuracy: 0.9677 - val_loss: 0.6605 - val_accuracy: 0.7949\n",
            "Epoch 112/300\n",
            "7/7 [==============================] - 0s 14ms/step - loss: 0.1543 - accuracy: 0.9816 - val_loss: 0.6595 - val_accuracy: 0.7949\n",
            "Epoch 113/300\n",
            "7/7 [==============================] - 0s 14ms/step - loss: 0.1693 - accuracy: 0.9724 - val_loss: 0.6591 - val_accuracy: 0.7949\n",
            "Epoch 114/300\n",
            "7/7 [==============================] - 0s 14ms/step - loss: 0.1783 - accuracy: 0.9677 - val_loss: 0.6571 - val_accuracy: 0.7949\n",
            "Epoch 115/300\n",
            "7/7 [==============================] - 0s 14ms/step - loss: 0.1756 - accuracy: 0.9631 - val_loss: 0.6534 - val_accuracy: 0.7949\n",
            "Epoch 116/300\n",
            "7/7 [==============================] - 0s 12ms/step - loss: 0.1640 - accuracy: 0.9724 - val_loss: 0.6541 - val_accuracy: 0.7949\n",
            "Epoch 117/300\n",
            "7/7 [==============================] - 0s 15ms/step - loss: 0.1733 - accuracy: 0.9631 - val_loss: 0.6529 - val_accuracy: 0.7949\n",
            "Epoch 118/300\n",
            "7/7 [==============================] - 0s 14ms/step - loss: 0.1468 - accuracy: 0.9862 - val_loss: 0.6548 - val_accuracy: 0.7949\n",
            "Epoch 119/300\n",
            "7/7 [==============================] - 0s 14ms/step - loss: 0.1587 - accuracy: 0.9908 - val_loss: 0.6550 - val_accuracy: 0.7949\n",
            "Epoch 120/300\n",
            "7/7 [==============================] - 0s 12ms/step - loss: 0.1511 - accuracy: 0.9816 - val_loss: 0.6528 - val_accuracy: 0.7949\n",
            "Epoch 121/300\n",
            "7/7 [==============================] - 0s 15ms/step - loss: 0.1510 - accuracy: 0.9724 - val_loss: 0.6494 - val_accuracy: 0.7949\n",
            "Epoch 122/300\n",
            "7/7 [==============================] - 0s 15ms/step - loss: 0.1585 - accuracy: 0.9770 - val_loss: 0.6476 - val_accuracy: 0.7949\n",
            "Epoch 123/300\n",
            "7/7 [==============================] - 0s 15ms/step - loss: 0.1532 - accuracy: 0.9862 - val_loss: 0.6469 - val_accuracy: 0.7949\n",
            "Epoch 124/300\n",
            "7/7 [==============================] - 0s 8ms/step - loss: 0.1404 - accuracy: 0.9908 - val_loss: 0.6506 - val_accuracy: 0.7949\n",
            "Epoch 125/300\n",
            "7/7 [==============================] - 0s 11ms/step - loss: 0.1551 - accuracy: 0.9677 - val_loss: 0.6492 - val_accuracy: 0.7949\n",
            "Epoch 126/300\n",
            "7/7 [==============================] - 0s 8ms/step - loss: 0.1454 - accuracy: 0.9770 - val_loss: 0.6510 - val_accuracy: 0.7949\n",
            "Epoch 127/300\n",
            "7/7 [==============================] - 0s 9ms/step - loss: 0.1485 - accuracy: 0.9724 - val_loss: 0.6566 - val_accuracy: 0.7949\n",
            "Epoch 128/300\n",
            "7/7 [==============================] - 0s 11ms/step - loss: 0.1458 - accuracy: 0.9816 - val_loss: 0.6557 - val_accuracy: 0.7949\n",
            "Epoch 129/300\n",
            "7/7 [==============================] - 0s 8ms/step - loss: 0.1586 - accuracy: 0.9770 - val_loss: 0.6545 - val_accuracy: 0.7949\n",
            "Epoch 130/300\n",
            "7/7 [==============================] - 0s 11ms/step - loss: 0.1416 - accuracy: 0.9816 - val_loss: 0.6512 - val_accuracy: 0.7949\n",
            "Epoch 131/300\n",
            "7/7 [==============================] - 0s 7ms/step - loss: 0.1199 - accuracy: 0.9908 - val_loss: 0.6481 - val_accuracy: 0.7949\n",
            "Epoch 132/300\n",
            "7/7 [==============================] - 0s 11ms/step - loss: 0.1524 - accuracy: 0.9724 - val_loss: 0.6441 - val_accuracy: 0.7949\n",
            "Epoch 133/300\n",
            "7/7 [==============================] - 0s 8ms/step - loss: 0.1429 - accuracy: 0.9724 - val_loss: 0.6445 - val_accuracy: 0.7949\n",
            "Epoch 134/300\n",
            "7/7 [==============================] - 0s 12ms/step - loss: 0.1319 - accuracy: 0.9908 - val_loss: 0.6432 - val_accuracy: 0.7949\n",
            "Epoch 135/300\n",
            "7/7 [==============================] - 0s 11ms/step - loss: 0.1195 - accuracy: 0.9816 - val_loss: 0.6452 - val_accuracy: 0.7949\n",
            "Epoch 136/300\n",
            "7/7 [==============================] - 0s 12ms/step - loss: 0.1276 - accuracy: 0.9770 - val_loss: 0.6434 - val_accuracy: 0.7949\n",
            "Epoch 137/300\n",
            "7/7 [==============================] - 0s 9ms/step - loss: 0.1329 - accuracy: 0.9816 - val_loss: 0.6391 - val_accuracy: 0.7949\n",
            "Epoch 138/300\n",
            "7/7 [==============================] - 0s 8ms/step - loss: 0.1123 - accuracy: 0.9954 - val_loss: 0.6401 - val_accuracy: 0.7949\n",
            "Epoch 139/300\n",
            "7/7 [==============================] - 0s 9ms/step - loss: 0.1208 - accuracy: 0.9770 - val_loss: 0.6401 - val_accuracy: 0.7949\n",
            "Epoch 140/300\n",
            "7/7 [==============================] - 0s 9ms/step - loss: 0.1187 - accuracy: 0.9862 - val_loss: 0.6433 - val_accuracy: 0.7949\n",
            "Epoch 141/300\n",
            "7/7 [==============================] - 0s 9ms/step - loss: 0.1221 - accuracy: 0.9816 - val_loss: 0.6417 - val_accuracy: 0.7949\n",
            "Epoch 142/300\n",
            "7/7 [==============================] - 0s 11ms/step - loss: 0.1260 - accuracy: 0.9816 - val_loss: 0.6395 - val_accuracy: 0.7949\n",
            "Epoch 143/300\n",
            "7/7 [==============================] - 0s 12ms/step - loss: 0.1069 - accuracy: 0.9954 - val_loss: 0.6408 - val_accuracy: 0.7949\n",
            "Epoch 144/300\n",
            "7/7 [==============================] - 0s 10ms/step - loss: 0.1240 - accuracy: 0.9908 - val_loss: 0.6469 - val_accuracy: 0.7949\n",
            "Epoch 145/300\n",
            "7/7 [==============================] - 0s 11ms/step - loss: 0.1279 - accuracy: 0.9862 - val_loss: 0.6500 - val_accuracy: 0.7949\n",
            "Epoch 146/300\n",
            "7/7 [==============================] - 0s 8ms/step - loss: 0.1246 - accuracy: 0.9816 - val_loss: 0.6486 - val_accuracy: 0.7949\n",
            "Epoch 147/300\n",
            "7/7 [==============================] - 0s 11ms/step - loss: 0.0940 - accuracy: 1.0000 - val_loss: 0.6442 - val_accuracy: 0.7949\n",
            "Epoch 148/300\n",
            "7/7 [==============================] - 0s 11ms/step - loss: 0.1002 - accuracy: 0.9862 - val_loss: 0.6408 - val_accuracy: 0.7949\n",
            "Epoch 149/300\n",
            "7/7 [==============================] - 0s 8ms/step - loss: 0.1294 - accuracy: 0.9816 - val_loss: 0.6460 - val_accuracy: 0.7949\n",
            "Epoch 150/300\n",
            "7/7 [==============================] - 0s 8ms/step - loss: 0.1084 - accuracy: 0.9908 - val_loss: 0.6563 - val_accuracy: 0.7949\n",
            "Epoch 151/300\n",
            "7/7 [==============================] - 0s 11ms/step - loss: 0.1084 - accuracy: 0.9862 - val_loss: 0.6547 - val_accuracy: 0.7949\n",
            "Epoch 152/300\n",
            "7/7 [==============================] - 0s 8ms/step - loss: 0.1002 - accuracy: 0.9908 - val_loss: 0.6553 - val_accuracy: 0.7949\n",
            "Epoch 153/300\n",
            "7/7 [==============================] - 0s 11ms/step - loss: 0.1048 - accuracy: 0.9908 - val_loss: 0.6568 - val_accuracy: 0.7949\n",
            "Epoch 154/300\n",
            "7/7 [==============================] - 0s 8ms/step - loss: 0.1197 - accuracy: 0.9862 - val_loss: 0.6563 - val_accuracy: 0.7949\n",
            "Epoch 155/300\n",
            "7/7 [==============================] - 0s 8ms/step - loss: 0.1082 - accuracy: 0.9908 - val_loss: 0.6593 - val_accuracy: 0.7949\n",
            "Epoch 156/300\n",
            "7/7 [==============================] - 0s 11ms/step - loss: 0.0941 - accuracy: 0.9862 - val_loss: 0.6583 - val_accuracy: 0.7949\n",
            "Epoch 157/300\n",
            "7/7 [==============================] - 0s 8ms/step - loss: 0.0979 - accuracy: 0.9908 - val_loss: 0.6544 - val_accuracy: 0.7949\n",
            "Epoch 158/300\n",
            "7/7 [==============================] - 0s 8ms/step - loss: 0.1075 - accuracy: 0.9908 - val_loss: 0.6515 - val_accuracy: 0.7949\n",
            "Epoch 159/300\n",
            "7/7 [==============================] - 0s 12ms/step - loss: 0.0864 - accuracy: 1.0000 - val_loss: 0.6530 - val_accuracy: 0.7949\n",
            "Epoch 160/300\n",
            "7/7 [==============================] - 0s 8ms/step - loss: 0.0763 - accuracy: 0.9954 - val_loss: 0.6524 - val_accuracy: 0.7949\n",
            "Epoch 161/300\n",
            "7/7 [==============================] - 0s 8ms/step - loss: 0.0957 - accuracy: 0.9862 - val_loss: 0.6512 - val_accuracy: 0.7949\n",
            "Epoch 162/300\n",
            "7/7 [==============================] - 0s 8ms/step - loss: 0.1019 - accuracy: 0.9816 - val_loss: 0.6535 - val_accuracy: 0.7949\n",
            "Epoch 163/300\n",
            "7/7 [==============================] - 0s 9ms/step - loss: 0.1080 - accuracy: 0.9770 - val_loss: 0.6571 - val_accuracy: 0.7949\n",
            "Epoch 164/300\n",
            "7/7 [==============================] - 0s 8ms/step - loss: 0.0803 - accuracy: 0.9862 - val_loss: 0.6555 - val_accuracy: 0.7949\n",
            "Epoch 165/300\n",
            "7/7 [==============================] - 0s 11ms/step - loss: 0.0888 - accuracy: 0.9954 - val_loss: 0.6555 - val_accuracy: 0.7949\n",
            "Epoch 166/300\n",
            "7/7 [==============================] - 0s 11ms/step - loss: 0.0894 - accuracy: 0.9954 - val_loss: 0.6563 - val_accuracy: 0.7949\n",
            "Epoch 167/300\n",
            "7/7 [==============================] - 0s 13ms/step - loss: 0.0977 - accuracy: 0.9908 - val_loss: 0.6504 - val_accuracy: 0.7949\n",
            "Epoch 168/300\n",
            "7/7 [==============================] - 0s 8ms/step - loss: 0.1094 - accuracy: 0.9908 - val_loss: 0.6447 - val_accuracy: 0.7949\n",
            "Epoch 169/300\n",
            "7/7 [==============================] - 0s 11ms/step - loss: 0.0887 - accuracy: 0.9954 - val_loss: 0.6492 - val_accuracy: 0.7949\n",
            "Epoch 170/300\n",
            "7/7 [==============================] - 0s 8ms/step - loss: 0.0899 - accuracy: 0.9954 - val_loss: 0.6532 - val_accuracy: 0.7949\n",
            "Epoch 171/300\n",
            "7/7 [==============================] - 0s 9ms/step - loss: 0.0970 - accuracy: 0.9954 - val_loss: 0.6532 - val_accuracy: 0.7949\n",
            "Epoch 172/300\n",
            "7/7 [==============================] - 0s 12ms/step - loss: 0.0838 - accuracy: 0.9954 - val_loss: 0.6515 - val_accuracy: 0.7949\n",
            "Epoch 173/300\n",
            "7/7 [==============================] - 0s 9ms/step - loss: 0.0903 - accuracy: 0.9954 - val_loss: 0.6492 - val_accuracy: 0.7949\n",
            "Epoch 174/300\n",
            "7/7 [==============================] - 0s 9ms/step - loss: 0.0871 - accuracy: 0.9908 - val_loss: 0.6544 - val_accuracy: 0.7949\n",
            "Epoch 175/300\n",
            "7/7 [==============================] - 0s 12ms/step - loss: 0.0831 - accuracy: 0.9908 - val_loss: 0.6615 - val_accuracy: 0.7949\n",
            "Epoch 176/300\n",
            "7/7 [==============================] - 0s 10ms/step - loss: 0.0772 - accuracy: 0.9908 - val_loss: 0.6660 - val_accuracy: 0.7949\n",
            "Epoch 177/300\n",
            "7/7 [==============================] - 0s 11ms/step - loss: 0.0618 - accuracy: 1.0000 - val_loss: 0.6676 - val_accuracy: 0.7949\n",
            "Epoch 178/300\n",
            "7/7 [==============================] - 0s 8ms/step - loss: 0.0855 - accuracy: 0.9954 - val_loss: 0.6725 - val_accuracy: 0.7949\n",
            "Epoch 179/300\n",
            "7/7 [==============================] - 0s 12ms/step - loss: 0.0871 - accuracy: 0.9862 - val_loss: 0.6717 - val_accuracy: 0.7949\n",
            "Epoch 180/300\n",
            "7/7 [==============================] - 0s 8ms/step - loss: 0.0782 - accuracy: 0.9954 - val_loss: 0.6683 - val_accuracy: 0.7949\n",
            "Epoch 181/300\n",
            "7/7 [==============================] - 0s 11ms/step - loss: 0.0784 - accuracy: 0.9908 - val_loss: 0.6677 - val_accuracy: 0.7949\n",
            "Epoch 182/300\n",
            "7/7 [==============================] - 0s 11ms/step - loss: 0.0702 - accuracy: 1.0000 - val_loss: 0.6683 - val_accuracy: 0.7949\n",
            "Epoch 183/300\n",
            "7/7 [==============================] - 0s 9ms/step - loss: 0.0712 - accuracy: 0.9908 - val_loss: 0.6736 - val_accuracy: 0.7949\n",
            "Epoch 184/300\n",
            "7/7 [==============================] - 0s 8ms/step - loss: 0.0909 - accuracy: 0.9954 - val_loss: 0.6854 - val_accuracy: 0.7949\n",
            "Epoch 185/300\n",
            "7/7 [==============================] - 0s 8ms/step - loss: 0.0685 - accuracy: 0.9908 - val_loss: 0.6832 - val_accuracy: 0.7949\n",
            "Epoch 186/300\n",
            "7/7 [==============================] - 0s 11ms/step - loss: 0.0688 - accuracy: 1.0000 - val_loss: 0.6807 - val_accuracy: 0.7949\n",
            "Epoch 187/300\n",
            "7/7 [==============================] - 0s 10ms/step - loss: 0.0887 - accuracy: 0.9862 - val_loss: 0.6787 - val_accuracy: 0.7949\n"
          ]
        }
      ]
    },
    {
      "cell_type": "markdown",
      "source": [
        "## Evaluation"
      ],
      "metadata": {
        "id": "nFmMie__MO6Q"
      }
    },
    {
      "cell_type": "code",
      "metadata": {
        "colab": {
          "base_uri": "https://localhost:8080/",
          "height": 507
        },
        "id": "38226028",
        "outputId": "b5380419-7962-4c3f-f882-07373b67a27a"
      },
      "source": [
        "import matplotlib.pyplot as plt\n",
        "\n",
        "# Extract training and validation metrics\n",
        "history_dict = history.history\n",
        "acc = history_dict.get('accuracy', [])\n",
        "val_acc = history_dict.get('val_accuracy', [])\n",
        "loss = history_dict.get('loss', [])\n",
        "val_loss = history_dict.get('val_loss', [])\n",
        "\n",
        "epochs = range(1, len(acc) + 1)\n",
        "\n",
        "plt.figure(figsize=(12, 5))\n",
        "\n",
        "# Accuracy plot\n",
        "plt.subplot(1, 2, 1)\n",
        "plt.plot(epochs, acc, 'b-', label='Train Accuracy')\n",
        "if val_acc:\n",
        "    plt.plot(epochs, val_acc, 'r-', label='Val Accuracy')\n",
        "plt.title('Accuracy over Epochs')\n",
        "plt.xlabel('Epochs')\n",
        "plt.ylabel('Accuracy')\n",
        "plt.legend()\n",
        "\n",
        "# Loss plot\n",
        "plt.subplot(1, 2, 2)\n",
        "plt.plot(epochs, loss, 'b-', label='Train Loss')\n",
        "if val_loss:\n",
        "    plt.plot(epochs, val_loss, 'r-', label='Val Loss')\n",
        "plt.title('Loss over Epochs')\n",
        "plt.xlabel('Epochs')\n",
        "plt.ylabel('Loss')\n",
        "plt.legend()\n",
        "\n",
        "plt.tight_layout()\n",
        "plt.show()\n"
      ],
      "execution_count": 310,
      "outputs": [
        {
          "output_type": "display_data",
          "data": {
            "text/plain": [
              "<Figure size 1200x500 with 2 Axes>"
            ],
            "image/png": "[encoded data removed]"
          },
          "metadata": {}
        }
      ]
    },
    {
      "cell_type": "markdown",
      "source": [
        "## Acuracy"
      ],
      "metadata": {
        "id": "jnc2DJ-wtYGT"
      }
    },
    {
      "cell_type": "code",
      "source": [
        "loss, acc = model.evaluate(x_val, y_val, verbose=0)\n",
        "print(f\"Val Accuracy: {acc:.1%}\")\n"
      ],
      "metadata": {
        "id": "1r0noPUdIkGZ",
        "colab": {
          "base_uri": "https://localhost:8080/"
        },
        "outputId": "7b916765-dce7-4baa-f05f-02e684136d65"
      },
      "execution_count": 311,
      "outputs": [
        {
          "output_type": "stream",
          "name": "stdout",
          "text": [
            "Val Accuracy: 83.3%\n"
          ]
        }
      ]
    },
    {
      "cell_type": "code",
      "source": [
        "new_sentences = [\"my app v1\", \"works on container orchestration setup\", \"works on analytics dashboard\", \"eating a little pizza for a minute and wrote a code\", \"catchup with mr x\", \"Quarterly system architecture review meeting\"]\n",
        "new_input = to_sparse(new_sentences)\n",
        "new_embeddings = embed_fn(**new_input)['default']\n",
        "\n",
        "predictions = model.predict(new_embeddings)\n",
        "confidences = predictions.max(axis=1)\n",
        "print(confidences)\n",
        "predicted_labels = predictions.argmax(axis=1)\n",
        "predicted_class_names = [class_names[label] for label in predicted_labels]\n",
        "print(predicted_class_names)\n"
      ],
      "metadata": {
        "id": "Va981srmIqZl",
        "colab": {
          "base_uri": "https://localhost:8080/"
        },
        "outputId": "d9002cf7-143d-466e-99aa-41fc5297d2c5"
      },
      "execution_count": 312,
      "outputs": [
        {
          "output_type": "stream",
          "name": "stdout",
          "text": [
            "1/1 [==============================] - 0s 56ms/step\n",
            "[0.93610674 0.3736081  0.75102735 0.9866087  0.90594316 0.9441352 ]\n",
            "['valid_title', 'meetings', 'general_tasks', 'general_activities', 'meetings', 'meetings']\n"
          ]
        }
      ]
    },
    {
      "cell_type": "markdown",
      "source": [
        "# Save Model"
      ],
      "metadata": {
        "id": "LggwnI-Nyf3R"
      }
    },
    {
      "cell_type": "code",
      "source": [
        "model.save('saved_model.h5')"
      ],
      "metadata": {
        "id": "E82qmSaGU4qs"
      },
      "execution_count": 313,
      "outputs": []
    }
  ]
}