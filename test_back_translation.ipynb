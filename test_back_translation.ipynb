{
  "nbformat": 4,
  "nbformat_minor": 0,
  "metadata": {
    "colab": {
      "provenance": []
    },
    "kernelspec": {
      "name": "python3",
      "display_name": "Python 3"
    },
    "language_info": {
      "name": "python"
    }
  },
  "cells": [
    {
      "cell_type": "code",
      "execution_count": 8,
      "metadata": {
        "colab": {
          "base_uri": "https://localhost:8080/"
        },
        "id": "rZYOvjbK9lMp",
        "outputId": "a3cc18f7-1107-43d1-b1fb-3caed2908401"
      },
      "outputs": [
        {
          "output_type": "stream",
          "name": "stderr",
          "text": [
            "/usr/local/lib/python3.11/dist-packages/transformers/models/marian/tokenization_marian.py:175: UserWarning: Recommended: pip install sacremoses.\n",
            "  warnings.warn(\"Recommended: pip install sacremoses.\")\n"
          ]
        }
      ],
      "source": [
        "from transformers import MarianMTModel, MarianTokenizer\n",
        "\n",
        "# Load models for English → French and French → English\n",
        "en_to_fr_tokenizer = MarianTokenizer.from_pretrained(\"Helsinki-NLP/opus-mt-en-fr\")\n",
        "en_to_fr_model = MarianMTModel.from_pretrained(\"Helsinki-NLP/opus-mt-en-fr\")\n",
        "\n",
        "fr_to_en_tokenizer = MarianTokenizer.from_pretrained(\"Helsinki-NLP/opus-mt-fr-en\")\n",
        "fr_to_en_model = MarianMTModel.from_pretrained(\"Helsinki-NLP/opus-mt-fr-en\")\n",
        "\n",
        "def translate(text, tokenizer, model):\n",
        "    inputs = tokenizer.encode(text, return_tensors=\"pt\")\n",
        "    outputs = model.generate(inputs, max_length=64, num_beams=4, early_stopping=True)\n",
        "    return tokenizer.decode(outputs[0], skip_special_tokens=True)\n",
        "\n",
        "def back_translate(text, en_to_fr_tokenizer, en_to_fr_model, fr_to_en_tokenizer, fr_to_en_model):\n",
        "    \"\"\"\n",
        "    Performs back-translation from English to French and then back to English.\n",
        "\n",
        "    Args:\n",
        "        text (str): The input English text.\n",
        "        en_to_fr_tokenizer: Tokenizer for English to French translation.\n",
        "        en_to_fr_model: Model for English to French translation.\n",
        "        fr_to_en_tokenizer: Tokenizer for French to English translation.\n",
        "        fr_to_en_model: Model for French to English translation.\n",
        "\n",
        "    Returns:\n",
        "        str: The back-translated English text.\n",
        "    \"\"\"\n",
        "    fr_text = translate(text, en_to_fr_tokenizer, en_to_fr_model)\n",
        "    back_to_en = translate(fr_text, fr_to_en_tokenizer, fr_to_en_model)\n",
        "    return back_to_en\n"
      ]
    },
    {
      "cell_type": "code",
      "source": [
        "meetings = [\n",
        "    \"project backlog refinement\",\n",
        "    \"planning sprint\",\n",
        "    \"sprint retrospective session\",\n",
        "    \"designing system architecture\",\n",
        "    \"project discussion\",\n",
        "    \"soda\",\n",
        "    \"1:1 with manager\",\n",
        "    \"attending a meeting\",\n",
        "    \"developer catchup\",\n",
        "    \"daily standup\",\n",
        "    \"daily meeting\",\n",
        "    \"internal meeting\",\n",
        "    \"running daily standup\",\n",
        "    \"meeting with mr colleague\",\n",
        "    \"meet with mrs jane\",\n",
        "    \"daily scrum meeting\",\n",
        "    \"brainstorming session\"\n",
        "]"
      ],
      "metadata": {
        "id": "Jo5GzXNo_k0H"
      },
      "execution_count": 9,
      "outputs": []
    },
    {
      "cell_type": "code",
      "source": [],
      "metadata": {
        "id": "HrQlJm10_mfK"
      },
      "execution_count": 9,
      "outputs": []
    },
    {
      "cell_type": "code",
      "source": [
        "text = \"project backlog refinement\"\n",
        "fr_text = translate(text, en_to_fr_tokenizer, en_to_fr_model)\n",
        "back_to_en = translate(fr_text, fr_to_en_tokenizer, fr_to_en_model)\n",
        "\n",
        "print(back_to_en)"
      ],
      "metadata": {
        "colab": {
          "base_uri": "https://localhost:8080/"
        },
        "id": "zryhLeNx-KMs",
        "outputId": "383a46e0-d916-4d53-ac8e-d8ccd44dbb22"
      },
      "execution_count": 10,
      "outputs": [
        {
          "output_type": "stream",
          "name": "stdout",
          "text": [
            "Improvement of project backlog\n"
          ]
        }
      ]
    },
    {
      "cell_type": "code",
      "metadata": {
        "id": "6cd8bb1a"
      },
      "source": [
        "def back_translate(text):\n",
        "    \"\"\"\n",
        "    Performs back-translation from English to French and then back to English.\n",
        "\n",
        "    Returns:\n",
        "        str: The back-translated English text.\n",
        "    \"\"\"\n",
        "    fr_text = translate(text, en_to_fr_tokenizer, en_to_fr_model)\n",
        "    back_to_en = translate(fr_text, fr_to_en_tokenizer, fr_to_en_model)\n",
        "    return back_to_en"
      ],
      "execution_count": 11,
      "outputs": []
    },
    {
      "cell_type": "code",
      "metadata": {
        "colab": {
          "base_uri": "https://localhost:8080/",
          "height": 328
        },
        "id": "86b2a7b7",
        "outputId": "2ac0ce65-cd19-4581-b6a8-e4eb469c11dd"
      },
      "source": [
        "back_translated_meetings = [back_translate(meeting) for meeting in meetings]\n",
        "display(back_translated_meetings)"
      ],
      "execution_count": 12,
      "outputs": [
        {
          "output_type": "display_data",
          "data": {
            "text/plain": [
              "['Improvement of project backlog',\n",
              " 'planning sprint',\n",
              " 'retrospective sprint session',\n",
              " 'design of the system architecture',\n",
              " 'Discussion on the draft',\n",
              " 'Soda',\n",
              " '1:1 with manager',\n",
              " 'Participation in a meeting',\n",
              " \"the developer's catch-up\",\n",
              " 'daily standup',\n",
              " 'Daily meeting',\n",
              " 'internal meeting',\n",
              " 'holding daily standups',\n",
              " 'meeting with Mr.',\n",
              " 'meet Ms. Jane',\n",
              " 'Daily meeting',\n",
              " 'brainstorming session']"
            ]
          },
          "metadata": {}
        }
      ]
    }
  ]
}